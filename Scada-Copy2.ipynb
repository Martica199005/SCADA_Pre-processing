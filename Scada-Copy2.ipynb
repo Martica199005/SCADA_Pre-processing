{
 "cells": [
  {
   "cell_type": "code",
   "execution_count": 203,
   "metadata": {},
   "outputs": [],
   "source": [
    "%matplotlib inline\n",
    "import numpy as np\n",
    "import pandas as pd\n",
    "import matplotlib.pyplot as plt\n",
    "import scipy\n",
    "\n",
    "from scipy.spatial import distance\n",
    "\n",
    "from scipy.stats import norm\n",
    "\n",
    "from pylab import rcParams\n",
    "import sklearn "
   ]
  },
  {
   "cell_type": "code",
   "execution_count": 204,
   "metadata": {},
   "outputs": [],
   "source": [
    "pd.options.mode.chained_assignment = None  # default='warn'"
   ]
  },
  {
   "cell_type": "code",
   "execution_count": 205,
   "metadata": {},
   "outputs": [],
   "source": [
    "pathExcel=\"rK3g26ERseWlQI7rj1yw_Table_1.xlsx\""
   ]
  },
  {
   "cell_type": "code",
   "execution_count": 206,
   "metadata": {},
   "outputs": [],
   "source": [
    "min_threshold=0.025"
   ]
  },
  {
   "cell_type": "code",
   "execution_count": null,
   "metadata": {},
   "outputs": [],
   "source": []
  },
  {
   "cell_type": "code",
   "execution_count": 207,
   "metadata": {},
   "outputs": [],
   "source": [
    "def readExcel(pathExcel):\n",
    "    df=pd.read_excel(pathExcel)\n",
    "    max_value = df['Pow'].max()\n",
    "    min_value = df['Pow'].min()\n",
    "    pos=df.shape[1]\n",
    "    #Insert the new column normalized power(%)\n",
    "    df.insert(pos, \"NPow\", (df.Pow-min_value)/(max_value-min_value), True)\n",
    "    df.insert(pos+1, \"NPow(%)\", 100*df.NPow, True)\n",
    "    return df"
   ]
  },
  {
   "cell_type": "code",
   "execution_count": 208,
   "metadata": {},
   "outputs": [],
   "source": [
    "def dataPreProcessing1(df):\n",
    "    #Data points where maximum wind speed has reached more than 25 m/s are also filtered out\n",
    "    if df['Ws'].max()>25:\n",
    "        df=df[df['Ws']<=25]\n",
    "    #samples with missing values or no power production are filtered out\n",
    "    df1=df.dropna()\n",
    "    #a lower limit of output power is set at 0 kW for data sample selection.\n",
    "    df2= df1[df1['Pow'] >= 10]  \n",
    "    #Time_stamp column not used\n",
    "    df3=df2[['date_num', 'Ws', 'Pow', 'Temp', 'Pressure', 'NPow','NPow(%)']]\n",
    "    return df3"
   ]
  },
  {
   "cell_type": "code",
   "execution_count": 209,
   "metadata": {},
   "outputs": [],
   "source": [
    "def is_pos_def(A):\n",
    "    '''define if the matrix is positive definite'''\n",
    "    if np.allclose(A, A.T):\n",
    "        try:\n",
    "            np.linalg.cholesky(A)\n",
    "            return True\n",
    "        except np.linalg.LinAlgError:\n",
    "            return False\n",
    "    else:\n",
    "        return False\n",
    "\n"
   ]
  },
  {
   "cell_type": "code",
   "execution_count": 210,
   "metadata": {},
   "outputs": [],
   "source": [
    "def MahalanobisDist(data,verbose=False):\n",
    "    '''calculates Mahalanobis distance from the mean value'''\n",
    "    covariance_matrix = np.cov(data, rowvar=False)\n",
    "    if is_pos_def(covariance_matrix):\n",
    "        inv_covariance_matrix = np.linalg.inv(covariance_matrix)\n",
    "        if is_pos_def(inv_covariance_matrix):\n",
    "            vars_mean = []\n",
    "            for i in range(data.shape[0]):\n",
    "                vars_mean.append(list(data.mean(axis=0)))\n",
    "            \n",
    "            diff = data - vars_mean\n",
    "            md = []\n",
    "            for i in range(len(diff)):\n",
    "                md.append(np.sqrt(diff[i].dot(inv_covariance_matrix).dot(diff[i])))\n",
    "\n",
    "            if verbose:\n",
    "                print(\"Covariance Matrix:\\n {}\\n\".format(covariance_matrix))\n",
    "                print(\"Inverse of Covariance Matrix:\\n {}\\n\".format(inv_covariance_matrix))\n",
    "                print(\"Variables Mean Vector:\\n {}\\n\".format(vars_mean))\n",
    "                print(\"Variables - Variables Mean Vector:\\n {}\\n\".format(diff))\n",
    "                print(\"Mahalanobis Distance:\\n {}\\n\".format(md))\n",
    "            return md\n",
    "        else:\n",
    "            print(\"2 Error: Inverse of Covariance Matrix is not positive definite!\")\n",
    "            return md\n",
    "    else:\n",
    "        print(\"1 Error: Covariance Matrix is not positive definite!\")\n",
    "        return md"
   ]
  },
  {
   "cell_type": "code",
   "execution_count": 211,
   "metadata": {},
   "outputs": [],
   "source": [
    "def insertColumns(result,data,pos):\n",
    "    ''' Insert inside the dataframe the distance calculated and the probability density'''\n",
    "    data.insert(pos, \"dist\", result, True)\n",
    "    num_tot=data['date_num'].sum()\n",
    "    data.insert(pos+1,'Pd(%)',((data['dist']*data['date_num']*100)/num_tot), True)\n",
    "    return data"
   ]
  },
  {
   "cell_type": "code",
   "execution_count": 212,
   "metadata": {},
   "outputs": [],
   "source": [
    "def dataPreProcessing2(df):\n",
    "    pd_list=[]\n",
    "    list_df=[]\n",
    "    try:\n",
    "        if df.shape[0]>0:\n",
    "            data=df[(df['Temp']>=0)]\n",
    "            data1=data[['Ws','Temp']]\n",
    "            list_df=data1.to_numpy()\n",
    "            #print(len(list_df))\n",
    "            if len(list_df)>0:\n",
    "                result=MahalanobisDist(list_df,verbose=False)\n",
    "            #print(len(result))\n",
    "                if len(result)>0:\n",
    "                    pos=list_df.shape[1]\n",
    "                    data=insertColumns(result,data,pos)\n",
    "                #print(data.shape[0])\n",
    "                    pd_list.append(data)\n",
    "                return pd_list\n",
    "        else:\n",
    "            return df4.shape[0]\n",
    "    except:\n",
    "        print('error')\n",
    "        return len(list_df)"
   ]
  },
  {
   "cell_type": "code",
   "execution_count": 213,
   "metadata": {},
   "outputs": [],
   "source": [
    "def dataPreProcessing3(df):\n",
    "    pd_list_l=[]\n",
    "    list_df=[]\n",
    "    try:\n",
    "        if df.shape[0]>0:\n",
    "            data=df[(df['Temp']<0)]\n",
    "            data1=data[['Ws','Temp']]\n",
    "\n",
    "            list_df=data1.to_numpy()\n",
    "            if len(list_df)>0:\n",
    "                result=MahalanobisDist(list_df,verbose=False)\n",
    "                if len(result)>0:\n",
    "                    pos=list_df.shape[1]\n",
    "                    data=insertColumns(result,data,pos)\n",
    "                    #print(data.shape[0])\n",
    "                    pd_list_l.append(data)\n",
    "                return pd_list_l\n",
    "        else:\n",
    "            return df.shape[0]\n",
    "            \n",
    "    except:\n",
    "        print('error')\n",
    "        return len(list_df)\n"
   ]
  },
  {
   "cell_type": "code",
   "execution_count": 214,
   "metadata": {},
   "outputs": [],
   "source": [
    "def plotCurves(df,df1):\n",
    "    ax=df.plot(kind='scatter',x='Ws',y='NPow(%)',color='red')\n",
    "    df1.plot(ax=ax, kind='scatter',x='Ws',y='NPow(%)',color='blue')\n",
    "    ax.set_xlabel(\"Ws(m/s)\")\n",
    "    ax.set_ylabel(\"NPow(%)\")\n",
    "    plt.show()"
   ]
  },
  {
   "cell_type": "code",
   "execution_count": 215,
   "metadata": {},
   "outputs": [],
   "source": [
    "def plotHist(df):\n",
    "    #Figure 1 of the paper\n",
    "    plt.hist(df.dist,bins=20,rwidth=0.8, density=True)\n",
    "    plt.xlabel('Mahalanobis distance values of data vectors from its cluster centre')\n",
    "    plt.ylabel('Probability density')\n",
    "    rng=np.arange(df.dist.min(),df.dist.max(),0.1)\n",
    "    plt.plot(rng,norm.pdf(rng,df.dist.mean(),df.dist.std()))"
   ]
  },
  {
   "cell_type": "code",
   "execution_count": 216,
   "metadata": {},
   "outputs": [],
   "source": [
    "def outliersRemoval(df_end3):\n",
    "    #outliers removal\n",
    "    df_end4=df_end3[(df_end3['NPow(%)']<27)&(df_end3['Ws']>7)]\n",
    "    if df_end4.shape[0]>0:\n",
    "        con1=(df_end3['NPow(%)']<27)&(df_end3['Ws']>7)\n",
    "        df_end5=df_end3[~(con1)]\n",
    "        con2=(df_end3['NPow(%)']>20)&(df_end3['NPow(%)']<80)&(df_end3['Ws']>11)\n",
    "        df_end6=df_end3[~(con2)]\n",
    "        con3=(df_end6['NPow(%)']<27)&(df_end6['Ws']>7)\n",
    "        df_end7=df_end6[~(con3)]\n",
    "        return df_end7"
   ]
  },
  {
   "cell_type": "code",
   "execution_count": 217,
   "metadata": {},
   "outputs": [],
   "source": [
    "def DataPreprocessing(pathExcel):\n",
    "    try:\n",
    "        df_new11=readExcel(pathExcel)\n",
    "        if df_new11.shape[0]>0:\n",
    "            df3=dataPreProcessing1(df_new11)\n",
    "            dfEnd1=dataPreProcessing2(df3)\n",
    "            dfEnd2=dataPreProcessing3(df3)\n",
    "            #T>0\n",
    "            df_end=pd.concat(dfEnd1)\n",
    "            #T<0\n",
    "            df_end1=pd.concat(dfEnd2)\n",
    "            #Concatenate all the dataframes with T>0 and T<0 \n",
    "            df_endTOT=pd.concat([df_end,df_end1])\n",
    "            #Plot Hist\n",
    "            print(plotHist(df_endTOT))\n",
    "            #>min_threshold\n",
    "            if df_endTOT.shape[0]>0:\n",
    "                df_endTOTMin=df_endTOT[df_endTOT['Pd(%)']>min_threshold]\n",
    "                #cut outliers manually\n",
    "                df_new_out=outliersRemoval(df_endTOTMin)\n",
    "                #old and new curve\n",
    "                print(plotCurves(df_new11,df_new_out))\n",
    "        else:\n",
    "            print(\"empty df\")\n",
    "    except:\n",
    "        print(\"Error\")"
   ]
  },
  {
   "cell_type": "code",
   "execution_count": null,
   "metadata": {},
   "outputs": [],
   "source": []
  },
  {
   "cell_type": "code",
   "execution_count": 218,
   "metadata": {},
   "outputs": [
    {
     "name": "stdout",
     "output_type": "stream",
     "text": [
      "None\n"
     ]
    },
    {
     "data": {
      "image/png": "[encoded data removed]",
      "text/plain": [
       "<Figure size 432x288 with 1 Axes>"
      ]
     },
     "metadata": {
      "needs_background": "light"
     },
     "output_type": "display_data"
    },
    {
     "data": {
      "image/png": "[encoded data removed]",
      "text/plain": [
       "<Figure size 432x288 with 1 Axes>"
      ]
     },
     "metadata": {
      "needs_background": "light"
     },
     "output_type": "display_data"
    },
    {
     "name": "stdout",
     "output_type": "stream",
     "text": [
      "None\n"
     ]
    }
   ],
   "source": [
    "DataPreprocessing(pathExcel)"
   ]
  },
  {
   "cell_type": "code",
   "execution_count": 77,
   "metadata": {},
   "outputs": [],
   "source": []
  },
  {
   "cell_type": "code",
   "execution_count": 78,
   "metadata": {},
   "outputs": [],
   "source": []
  },
  {
   "cell_type": "code",
   "execution_count": null,
   "metadata": {},
   "outputs": [],
   "source": []
  },
  {
   "cell_type": "code",
   "execution_count": null,
   "metadata": {},
   "outputs": [],
   "source": []
  }
 ],
 "metadata": {
  "kernelspec": {
   "display_name": "Python 3",
   "language": "python",
   "name": "python3"
  },
  "language_info": {
   "codemirror_mode": {
    "name": "ipython",
    "version": 3
   },
   "file_extension": ".py",
   "mimetype": "text/x-python",
   "name": "python",
   "nbconvert_exporter": "python",
   "pygments_lexer": "ipython3",
   "version": "3.8.3"
  }
 },
 "nbformat": 4,
 "nbformat_minor": 4
}
