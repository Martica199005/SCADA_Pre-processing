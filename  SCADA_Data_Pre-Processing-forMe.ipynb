{
 "cells": [
  {
   "cell_type": "code",
   "execution_count": 188,
   "metadata": {},
   "outputs": [],
   "source": [
    "%matplotlib inline\n",
    "import numpy as np\n",
    "import pandas as pd\n",
    "import matplotlib.pyplot as plt\n"
   ]
  },
  {
   "cell_type": "code",
   "execution_count": 189,
   "metadata": {},
   "outputs": [],
   "source": [
    "#https://strathprints.strath.ac.uk/67084/1/Koukoura_etal_2018_An_insight_into_wind_turbine_planet_bearing.pdf"
   ]
  },
  {
   "cell_type": "code",
   "execution_count": 190,
   "metadata": {},
   "outputs": [],
   "source": [
    "df=pd.read_excel(\"rK3g26ERseWlQI7rj1yw_Table_1.xlsx\")"
   ]
  },
  {
   "cell_type": "code",
   "execution_count": 191,
   "metadata": {},
   "outputs": [],
   "source": [
    "#print(df.head(10))"
   ]
  },
  {
   "cell_type": "code",
   "execution_count": 192,
   "metadata": {},
   "outputs": [],
   "source": [
    "df_time = pd.to_datetime(df[\"Time_stamp\"])\n",
    "df_time_s=(df_time.dt.hour*60+df_time.dt.minute)*60 + df_time.dt.second"
   ]
  },
  {
   "cell_type": "code",
   "execution_count": 193,
   "metadata": {},
   "outputs": [
    {
     "name": "stdout",
     "output_type": "stream",
     "text": [
      "max_value Pow: 2302.7080078125\n",
      "min_value Pow: -42.6514282226563\n"
     ]
    }
   ],
   "source": [
    "max_value = df['Pow'].max()\n",
    "print(\"max_value Pow: \"+str(max_value))\n",
    "min_value = df['Pow'].min()\n",
    "print(\"min_value Pow: \"+str(min_value))"
   ]
  },
  {
   "cell_type": "code",
   "execution_count": 194,
   "metadata": {},
   "outputs": [],
   "source": [
    "df.insert(6, \"Time_s\", df_time_s, True)"
   ]
  },
  {
   "cell_type": "code",
   "execution_count": 200,
   "metadata": {},
   "outputs": [],
   "source": [
    "#calculate normalized power, which statistic?"
   ]
  },
  {
   "cell_type": "code",
   "execution_count": 195,
   "metadata": {},
   "outputs": [],
   "source": [
    "df.insert(7, \"NPow\", (df.Pow-min_value)/(max_value-min_value), True)"
   ]
  },
  {
   "cell_type": "code",
   "execution_count": 196,
   "metadata": {},
   "outputs": [],
   "source": [
    "df.insert(8, \"NPow(%)\", 100*df.NPow, True)"
   ]
  },
  {
   "cell_type": "code",
   "execution_count": 197,
   "metadata": {},
   "outputs": [
    {
     "name": "stdout",
     "output_type": "stream",
     "text": [
      "max_value NPow(%): 100.0\n",
      "min_value NPow(%): 0.0\n"
     ]
    }
   ],
   "source": [
    "max_value = df['NPow(%)'].max()\n",
    "print(\"max_value NPow(%): \"+str(max_value))\n",
    "min_value = df['NPow(%)'].min()\n",
    "print(\"min_value NPow(%): \"+str(min_value))"
   ]
  },
  {
   "cell_type": "code",
   "execution_count": 198,
   "metadata": {},
   "outputs": [
    {
     "name": "stdout",
     "output_type": "stream",
     "text": [
      "max_value Ws: 23.1718807220459\n",
      "min_value Ws: 0.0\n"
     ]
    }
   ],
   "source": [
    "#Data points where maximum wind speed has reached more than 25 m/s are also filtered out\n",
    "max_value = df['Ws'].max()\n",
    "print(\"max_value Ws: \"+str(max_value))\n",
    "min_value = df['Ws'].min()\n",
    "print(\"min_value Ws: \"+str(min_value))"
   ]
  },
  {
   "cell_type": "code",
   "execution_count": 199,
   "metadata": {},
   "outputs": [],
   "source": [
    "#https://medium.com/critical-powers/formulas-from-training-and-racing-with-a-power-meter-2a295c661b46#:~:text=Normalized%20Power,-Normalized%20Power%20(NP&text=Step%201%3A%20Calculate%20the%20rolling,values%20from%20the%20previous%20step."
   ]
  },
  {
   "cell_type": "code",
   "execution_count": 201,
   "metadata": {},
   "outputs": [
    {
     "name": "stdout",
     "output_type": "stream",
     "text": [
      "Number of rows in df: 4464\n"
     ]
    }
   ],
   "source": [
    "#print(df.head(10))\n",
    "print(\"Number of rows in df: \"+str(len(df.index)))"
   ]
  },
  {
   "cell_type": "code",
   "execution_count": 202,
   "metadata": {},
   "outputs": [],
   "source": [
    "#before pre-processing Red"
   ]
  },
  {
   "cell_type": "code",
   "execution_count": 203,
   "metadata": {},
   "outputs": [],
   "source": [
    "#data pre-processing"
   ]
  },
  {
   "cell_type": "code",
   "execution_count": 204,
   "metadata": {},
   "outputs": [
    {
     "name": "stdout",
     "output_type": "stream",
     "text": [
      "Index(['Time_stamp', 'date_num', 'Ws', 'Pow', 'Temp', 'Pressure', 'Time_s',\n",
      "       'NPow', 'NPow(%)'],\n",
      "      dtype='object')\n",
      "            date_num           Ws          Pow         Temp     Pressure  \\\n",
      "count    4464.000000  4460.000000  4460.000000  4406.000000  4406.000000   \n",
      "mean   734884.496528     6.814093   699.289243     3.377414   981.915683   \n",
      "std         8.949931     3.573914   744.811356     2.419593    12.942475   \n",
      "min    734869.000000     0.000000   -42.651428    -2.180700   934.159973   \n",
      "25%    734876.748264     4.166160    80.860479     1.510470   973.849762   \n",
      "50%    734884.496528     6.225677   335.774612     3.189075   984.079498   \n",
      "75%    734892.244792     9.325553  1285.598236     5.094607   992.327026   \n",
      "max    734899.993056    23.171881  2302.708008     9.993120  1001.919983   \n",
      "\n",
      "             Time_s         NPow      NPow(%)  \n",
      "count   4464.000000  4460.000000  4460.000000  \n",
      "mean   42900.000000     0.316344    31.634412  \n",
      "std    24943.724248     0.317568    31.756811  \n",
      "min        0.000000     0.000000     0.000000  \n",
      "25%    21450.000000     0.052662     5.266225  \n",
      "50%    42900.000000     0.161351    16.135098  \n",
      "75%    64350.000000     0.566331    56.633096  \n",
      "max    85800.000000     1.000000   100.000000  \n"
     ]
    }
   ],
   "source": [
    "print(df.columns)\n",
    "print(df.describe())"
   ]
  },
  {
   "cell_type": "code",
   "execution_count": 205,
   "metadata": {},
   "outputs": [
    {
     "name": "stdout",
     "output_type": "stream",
     "text": [
      "Column name: Ws ,number of NaN values: 4\n",
      "Column name: Pow ,number of NaN values: 4\n",
      "Column name: Temp ,number of NaN values: 58\n",
      "Column name: Pressure ,number of NaN values: 58\n",
      "Column name: NPow ,number of NaN values: 4\n",
      "Column name: NPow(%) ,number of NaN values: 4\n"
     ]
    }
   ],
   "source": [
    "for val in df.columns:\n",
    "    #print(df[val].isnull().sum())\n",
    "    if df[val].isnull().sum()!=0:\n",
    "        print(\"Column name: \"+val+\" ,number of NaN values: \"+str(df[val].isnull().sum()))\n",
    "        #print(df[df[val].isnull()])\n",
    "            \n",
    "        "
   ]
  },
  {
   "cell_type": "code",
   "execution_count": 206,
   "metadata": {},
   "outputs": [],
   "source": [
    "#Firstly, samples with missing values or no power production are filtered out\n",
    "df1=df.dropna()"
   ]
  },
  {
   "cell_type": "code",
   "execution_count": 207,
   "metadata": {},
   "outputs": [
    {
     "name": "stdout",
     "output_type": "stream",
     "text": [
      "Number of rows in df1: 4402\n"
     ]
    }
   ],
   "source": [
    "print(\"Number of rows in df1: \"+str(len(df1.index)))"
   ]
  },
  {
   "cell_type": "code",
   "execution_count": 208,
   "metadata": {},
   "outputs": [
    {
     "name": "stdout",
     "output_type": "stream",
     "text": [
      "Number of rows in df2: 3898\n",
      "min_value Pow in df2 10.1383304595947\n"
     ]
    }
   ],
   "source": [
    "#a lower limit of output power is set at 0 kW for data sample selection.\n",
    "df2= df1[df1['Pow'] >= 10]  \n",
    "print(\"Number of rows in df2: \"+str(len(df2.index)))\n",
    "min_value = df2['Pow'].min()\n",
    "print(\"min_value Pow in df2 \"+str(min_value))"
   ]
  },
  {
   "cell_type": "code",
   "execution_count": 209,
   "metadata": {},
   "outputs": [],
   "source": [
    "\n",
    "# model normal behaviour so curtailment should not be considered\n",
    "\n",
    "\n",
    "#cluster filter is applied on the training data and aims to remove outliers depending on the operating conditions of the wind turbine.\n",
    "#A multivariate outlier detection approach based on Mahalanobis distance is used in \n",
    "#This paper utilizes agglomerative hierarchical clustering (Rokach & Maimon, 2005)\n",
    "#the distance between every pair of objects in a data set is computed\n",
    "#used in the linkage function which determines how the objects in the data set should be grouped into clusters that form a binary hierarchical cluster tree.\n",
    "#The distance in this paper is calculated in the Euclidean space and the inner squared distance is computed using Ward’s algorithm\n",
    "#A probability threshold of 2.5% is chosen"
   ]
  },
  {
   "cell_type": "code",
   "execution_count": 210,
   "metadata": {},
   "outputs": [
    {
     "data": {
      "image/png": "[encoded data removed]",
      "text/plain": [
       "<Figure size 432x288 with 1 Axes>"
      ]
     },
     "metadata": {
      "needs_background": "light"
     },
     "output_type": "display_data"
    }
   ],
   "source": [
    "ax=df.plot(kind='scatter',x='Ws',y='NPow(%)',color='red')\n",
    "df2.plot(ax=ax,kind='scatter',x='Ws',y='NPow(%)',color='blue')\n",
    "ax.set_xlabel(\"Ws(m/s)\")\n",
    "ax.set_ylabel(\"NPow(%)\")\n",
    "\n",
    "plt.show()"
   ]
  }
 ],
 "metadata": {
  "kernelspec": {
   "display_name": "Python 3",
   "language": "python",
   "name": "python3"
  },
  "language_info": {
   "codemirror_mode": {
    "name": "ipython",
    "version": 3
   },
   "file_extension": ".py",
   "mimetype": "text/x-python",
   "name": "python",
   "nbconvert_exporter": "python",
   "pygments_lexer": "ipython3",
   "version": "3.8.3"
  }
 },
 "nbformat": 4,
 "nbformat_minor": 4
}
