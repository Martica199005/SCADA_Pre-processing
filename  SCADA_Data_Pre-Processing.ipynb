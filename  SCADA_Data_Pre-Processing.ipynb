{
 "cells": [
  {
   "cell_type": "code",
   "execution_count": 6,
   "metadata": {},
   "outputs": [],
   "source": [
    "%matplotlib inline\n",
    "import numpy as np\n",
    "import pandas as pd\n",
    "import matplotlib.pyplot as plt\n",
    "import scipy\n",
    "from scipy.cluster.hierarchy import dendrogram, linkage\n",
    "from scipy.cluster.hierarchy import fcluster\n",
    "from scipy.cluster.hierarchy import cophenet\n",
    "from scipy.spatial.distance import pdist\n",
    "\n",
    "from pylab import rcParams\n",
    "import sklearn \n",
    "\n",
    "\n"
   ]
  },
  {
   "cell_type": "code",
   "execution_count": 7,
   "metadata": {},
   "outputs": [],
   "source": [
    "#https://strathprints.strath.ac.uk/67084/1/Koukoura_etal_2018_An_insight_into_wind_turbine_planet_bearing.pdf"
   ]
  },
  {
   "cell_type": "code",
   "execution_count": 8,
   "metadata": {},
   "outputs": [],
   "source": [
    "df=pd.read_excel(\"rK3g26ERseWlQI7rj1yw_Table_1.xlsx\")"
   ]
  },
  {
   "cell_type": "code",
   "execution_count": 9,
   "metadata": {},
   "outputs": [
    {
     "name": "stdout",
     "output_type": "stream",
     "text": [
      "max_value Pow: 2302.7080078125\n",
      "min_value Pow: -42.6514282226563\n"
     ]
    }
   ],
   "source": [
    "max_value = df['Pow'].max()\n",
    "print(\"max_value Pow: \"+str(max_value))\n",
    "min_value = df['Pow'].min()\n",
    "print(\"min_value Pow: \"+str(min_value))"
   ]
  },
  {
   "cell_type": "code",
   "execution_count": 10,
   "metadata": {},
   "outputs": [],
   "source": [
    "#calculate normalized power, which statistic?"
   ]
  },
  {
   "cell_type": "code",
   "execution_count": 11,
   "metadata": {},
   "outputs": [
    {
     "name": "stdout",
     "output_type": "stream",
     "text": [
      "Mean:\n",
      "date_num    734884.496528\n",
      "Ws               6.814093\n",
      "Pow            699.289243\n",
      "Temp             3.377414\n",
      "Pressure       981.915683\n",
      "NPow             0.316344\n",
      "dtype: float64\n",
      "Std:\n",
      "date_num      8.949931\n",
      "Ws            3.573914\n",
      "Pow         744.811356\n",
      "Temp          2.419593\n",
      "Pressure     12.942475\n",
      "NPow          0.317568\n",
      "dtype: float64\n"
     ]
    }
   ],
   "source": [
    "df.insert(6, \"NPow\", (df.Pow-min_value)/(max_value-min_value), True)\n",
    "#Normal?\n",
    "print(\"Mean:\")\n",
    "print(df.mean())\n",
    "print(\"Std:\")\n",
    "print(df.std())\n"
   ]
  },
  {
   "cell_type": "code",
   "execution_count": 12,
   "metadata": {},
   "outputs": [],
   "source": [
    "#df.insert(6, \"NPow\", (df.Pow-df.mean())/(df.std()), True)\n"
   ]
  },
  {
   "cell_type": "code",
   "execution_count": 13,
   "metadata": {},
   "outputs": [
    {
     "name": "stdout",
     "output_type": "stream",
     "text": [
      "              Time_stamp       date_num         Ws          Pow     Temp  \\\n",
      "0  '2012-01-01 00:00:00'  734869.000000   8.974833  1310.025024  6.57349   \n",
      "1  '2012-01-01 00:10:00'  734869.006944   9.908769  1684.520996  6.62630   \n",
      "2  '2012-01-01 00:20:00'  734869.013889   9.639434  1532.052002  6.81988   \n",
      "3  '2012-01-01 00:30:00'  734869.020833  11.836330  1997.869995  6.93197   \n",
      "4  '2012-01-01 00:40:00'  734869.027778  11.687170  2135.758057  6.98667   \n",
      "\n",
      "     Pressure      NPow  \n",
      "0  962.732971  0.576746  \n",
      "1  962.578003  0.736421  \n",
      "2  962.244019  0.671412  \n",
      "3  961.859985  0.870025  \n",
      "4  961.864014  0.928817  \n",
      "Pressure    58\n",
      "Temp        58\n",
      "NPow         4\n",
      "Pow          4\n",
      "Ws           4\n",
      "dtype: int64\n"
     ]
    }
   ],
   "source": [
    "print(df.head())\n",
    "print(df.isnull().sum().sort_values(ascending=False).head())\n",
    "df.insert(7, \"NPow(%)\", 100*df.NPow, True)"
   ]
  },
  {
   "cell_type": "code",
   "execution_count": 14,
   "metadata": {},
   "outputs": [
    {
     "name": "stdout",
     "output_type": "stream",
     "text": [
      "              Time_stamp       date_num         Ws          Pow     Temp  \\\n",
      "0  '2012-01-01 00:00:00'  734869.000000   8.974833  1310.025024  6.57349   \n",
      "1  '2012-01-01 00:10:00'  734869.006944   9.908769  1684.520996  6.62630   \n",
      "2  '2012-01-01 00:20:00'  734869.013889   9.639434  1532.052002  6.81988   \n",
      "3  '2012-01-01 00:30:00'  734869.020833  11.836330  1997.869995  6.93197   \n",
      "4  '2012-01-01 00:40:00'  734869.027778  11.687170  2135.758057  6.98667   \n",
      "\n",
      "     Pressure      NPow    NPow(%)  \n",
      "0  962.732971  0.576746  57.674591  \n",
      "1  962.578003  0.736421  73.642121  \n",
      "2  962.244019  0.671412  67.141241  \n",
      "3  961.859985  0.870025  87.002503  \n",
      "4  961.864014  0.928817  92.881690  \n"
     ]
    }
   ],
   "source": [
    "print(df.head(5))"
   ]
  },
  {
   "cell_type": "code",
   "execution_count": 15,
   "metadata": {},
   "outputs": [
    {
     "name": "stdout",
     "output_type": "stream",
     "text": [
      "max_value NPow(%): 100.0\n",
      "min_value NPow(%): 0.0\n"
     ]
    }
   ],
   "source": [
    "max_value = df['NPow(%)'].max()\n",
    "print(\"max_value NPow(%): \"+str(max_value))\n",
    "min_value = df['NPow(%)'].min()\n",
    "print(\"min_value NPow(%): \"+str(min_value))"
   ]
  },
  {
   "cell_type": "code",
   "execution_count": 16,
   "metadata": {},
   "outputs": [
    {
     "name": "stdout",
     "output_type": "stream",
     "text": [
      "max_value Ws: 23.1718807220459\n",
      "min_value Ws: 0.0\n"
     ]
    }
   ],
   "source": [
    "#Data points where maximum wind speed has reached more than 25 m/s are also filtered out\n",
    "max_value = df['Ws'].max()\n",
    "print(\"max_value Ws: \"+str(max_value))\n",
    "min_value = df['Ws'].min()\n",
    "print(\"min_value Ws: \"+str(min_value))"
   ]
  },
  {
   "cell_type": "code",
   "execution_count": 17,
   "metadata": {},
   "outputs": [],
   "source": [
    "#https://medium.com/critical-powers/formulas-from-training-and-racing-with-a-power-meter-2a295c661b46#:~:text=Normalized%20Power,-Normalized%20Power%20(NP&text=Step%201%3A%20Calculate%20the%20rolling,values%20from%20the%20previous%20step."
   ]
  },
  {
   "cell_type": "code",
   "execution_count": 18,
   "metadata": {},
   "outputs": [
    {
     "name": "stdout",
     "output_type": "stream",
     "text": [
      "Number of rows in df: 4464\n"
     ]
    }
   ],
   "source": [
    "#print(df.head(10))\n",
    "print(\"Number of rows in df: \"+str(len(df.index)))"
   ]
  },
  {
   "cell_type": "code",
   "execution_count": 19,
   "metadata": {},
   "outputs": [],
   "source": [
    "#before pre-processing Red"
   ]
  },
  {
   "cell_type": "code",
   "execution_count": 20,
   "metadata": {},
   "outputs": [],
   "source": [
    "#data pre-processing"
   ]
  },
  {
   "cell_type": "code",
   "execution_count": 21,
   "metadata": {},
   "outputs": [
    {
     "name": "stdout",
     "output_type": "stream",
     "text": [
      "Index(['Time_stamp', 'date_num', 'Ws', 'Pow', 'Temp', 'Pressure', 'NPow',\n",
      "       'NPow(%)'],\n",
      "      dtype='object')\n",
      "            date_num           Ws          Pow         Temp     Pressure  \\\n",
      "count    4464.000000  4460.000000  4460.000000  4406.000000  4406.000000   \n",
      "mean   734884.496528     6.814093   699.289243     3.377414   981.915683   \n",
      "std         8.949931     3.573914   744.811356     2.419593    12.942475   \n",
      "min    734869.000000     0.000000   -42.651428    -2.180700   934.159973   \n",
      "25%    734876.748264     4.166160    80.860479     1.510470   973.849762   \n",
      "50%    734884.496528     6.225677   335.774612     3.189075   984.079498   \n",
      "75%    734892.244792     9.325553  1285.598236     5.094607   992.327026   \n",
      "max    734899.993056    23.171881  2302.708008     9.993120  1001.919983   \n",
      "\n",
      "              NPow      NPow(%)  \n",
      "count  4460.000000  4460.000000  \n",
      "mean      0.316344    31.634412  \n",
      "std       0.317568    31.756811  \n",
      "min       0.000000     0.000000  \n",
      "25%       0.052662     5.266225  \n",
      "50%       0.161351    16.135098  \n",
      "75%       0.566331    56.633096  \n",
      "max       1.000000   100.000000  \n"
     ]
    }
   ],
   "source": [
    "print(df.columns)\n",
    "print(df.describe())"
   ]
  },
  {
   "cell_type": "code",
   "execution_count": 22,
   "metadata": {},
   "outputs": [
    {
     "name": "stdout",
     "output_type": "stream",
     "text": [
      "Pressure    58\n",
      "Temp        58\n",
      "NPow(%)      4\n",
      "NPow         4\n",
      "Pow          4\n",
      "dtype: int64\n"
     ]
    }
   ],
   "source": [
    "print(df.isnull().sum().sort_values(ascending=False).head())"
   ]
  },
  {
   "cell_type": "code",
   "execution_count": 23,
   "metadata": {},
   "outputs": [],
   "source": [
    "#Firstly, samples with missing values or no power production are filtered out\n",
    "#df1=df.dropna()\n",
    "\n",
    "#or another strategy, fill NaN values with the mean\n",
    "df1=df[['date_num', 'Ws', 'Pow', 'Temp', 'Pressure','NPow(%)']]\n",
    "\n"
   ]
  },
  {
   "cell_type": "code",
   "execution_count": 24,
   "metadata": {},
   "outputs": [
    {
     "data": {
      "text/html": [
       "<div>\n",
       "<style scoped>\n",
       "    .dataframe tbody tr th:only-of-type {\n",
       "        vertical-align: middle;\n",
       "    }\n",
       "\n",
       "    .dataframe tbody tr th {\n",
       "        vertical-align: top;\n",
       "    }\n",
       "\n",
       "    .dataframe thead th {\n",
       "        text-align: right;\n",
       "    }\n",
       "</style>\n",
       "<table border=\"1\" class=\"dataframe\">\n",
       "  <thead>\n",
       "    <tr style=\"text-align: right;\">\n",
       "      <th></th>\n",
       "      <th>date_num</th>\n",
       "      <th>Ws</th>\n",
       "      <th>Pow</th>\n",
       "      <th>Temp</th>\n",
       "      <th>Pressure</th>\n",
       "      <th>NPow(%)</th>\n",
       "    </tr>\n",
       "  </thead>\n",
       "  <tbody>\n",
       "    <tr>\n",
       "      <th>0</th>\n",
       "      <td>734869.000000</td>\n",
       "      <td>8.974833</td>\n",
       "      <td>1310.025024</td>\n",
       "      <td>6.57349</td>\n",
       "      <td>962.732971</td>\n",
       "      <td>57.674591</td>\n",
       "    </tr>\n",
       "    <tr>\n",
       "      <th>1</th>\n",
       "      <td>734869.006944</td>\n",
       "      <td>9.908769</td>\n",
       "      <td>1684.520996</td>\n",
       "      <td>6.62630</td>\n",
       "      <td>962.578003</td>\n",
       "      <td>73.642121</td>\n",
       "    </tr>\n",
       "    <tr>\n",
       "      <th>2</th>\n",
       "      <td>734869.013889</td>\n",
       "      <td>9.639434</td>\n",
       "      <td>1532.052002</td>\n",
       "      <td>6.81988</td>\n",
       "      <td>962.244019</td>\n",
       "      <td>67.141241</td>\n",
       "    </tr>\n",
       "    <tr>\n",
       "      <th>3</th>\n",
       "      <td>734869.020833</td>\n",
       "      <td>11.836330</td>\n",
       "      <td>1997.869995</td>\n",
       "      <td>6.93197</td>\n",
       "      <td>961.859985</td>\n",
       "      <td>87.002503</td>\n",
       "    </tr>\n",
       "    <tr>\n",
       "      <th>4</th>\n",
       "      <td>734869.027778</td>\n",
       "      <td>11.687170</td>\n",
       "      <td>2135.758057</td>\n",
       "      <td>6.98667</td>\n",
       "      <td>961.864014</td>\n",
       "      <td>92.881690</td>\n",
       "    </tr>\n",
       "    <tr>\n",
       "      <th>...</th>\n",
       "      <td>...</td>\n",
       "      <td>...</td>\n",
       "      <td>...</td>\n",
       "      <td>...</td>\n",
       "      <td>...</td>\n",
       "      <td>...</td>\n",
       "    </tr>\n",
       "    <tr>\n",
       "      <th>4459</th>\n",
       "      <td>734899.965278</td>\n",
       "      <td>5.758693</td>\n",
       "      <td>357.255615</td>\n",
       "      <td>-1.31252</td>\n",
       "      <td>1001.549988</td>\n",
       "      <td>17.050992</td>\n",
       "    </tr>\n",
       "    <tr>\n",
       "      <th>4460</th>\n",
       "      <td>734899.972222</td>\n",
       "      <td>4.885149</td>\n",
       "      <td>201.526596</td>\n",
       "      <td>-1.06633</td>\n",
       "      <td>1001.659973</td>\n",
       "      <td>10.411113</td>\n",
       "    </tr>\n",
       "    <tr>\n",
       "      <th>4461</th>\n",
       "      <td>734899.979167</td>\n",
       "      <td>4.899565</td>\n",
       "      <td>208.354401</td>\n",
       "      <td>-1.06325</td>\n",
       "      <td>1001.669983</td>\n",
       "      <td>10.702233</td>\n",
       "    </tr>\n",
       "    <tr>\n",
       "      <th>4462</th>\n",
       "      <td>734899.986111</td>\n",
       "      <td>4.493377</td>\n",
       "      <td>169.388901</td>\n",
       "      <td>-1.16304</td>\n",
       "      <td>1001.809998</td>\n",
       "      <td>9.040846</td>\n",
       "    </tr>\n",
       "    <tr>\n",
       "      <th>4463</th>\n",
       "      <td>734899.993056</td>\n",
       "      <td>3.062457</td>\n",
       "      <td>49.622471</td>\n",
       "      <td>-2.18070</td>\n",
       "      <td>1001.919983</td>\n",
       "      <td>3.934318</td>\n",
       "    </tr>\n",
       "  </tbody>\n",
       "</table>\n",
       "<p>4402 rows × 6 columns</p>\n",
       "</div>"
      ],
      "text/plain": [
       "           date_num         Ws          Pow     Temp     Pressure    NPow(%)\n",
       "0     734869.000000   8.974833  1310.025024  6.57349   962.732971  57.674591\n",
       "1     734869.006944   9.908769  1684.520996  6.62630   962.578003  73.642121\n",
       "2     734869.013889   9.639434  1532.052002  6.81988   962.244019  67.141241\n",
       "3     734869.020833  11.836330  1997.869995  6.93197   961.859985  87.002503\n",
       "4     734869.027778  11.687170  2135.758057  6.98667   961.864014  92.881690\n",
       "...             ...        ...          ...      ...          ...        ...\n",
       "4459  734899.965278   5.758693   357.255615 -1.31252  1001.549988  17.050992\n",
       "4460  734899.972222   4.885149   201.526596 -1.06633  1001.659973  10.411113\n",
       "4461  734899.979167   4.899565   208.354401 -1.06325  1001.669983  10.702233\n",
       "4462  734899.986111   4.493377   169.388901 -1.16304  1001.809998   9.040846\n",
       "4463  734899.993056   3.062457    49.622471 -2.18070  1001.919983   3.934318\n",
       "\n",
       "[4402 rows x 6 columns]"
      ]
     },
     "execution_count": 24,
     "metadata": {},
     "output_type": "execute_result"
    }
   ],
   "source": [
    "#df1.fillna(df.mean(), inplace = True) \n",
    "df1.dropna()"
   ]
  },
  {
   "cell_type": "code",
   "execution_count": 25,
   "metadata": {},
   "outputs": [
    {
     "name": "stdout",
     "output_type": "stream",
     "text": [
      "Pressure    58\n",
      "Temp        58\n",
      "NPow(%)      4\n",
      "Pow          4\n",
      "Ws           4\n",
      "dtype: int64\n"
     ]
    }
   ],
   "source": [
    "print(df1.isnull().sum().sort_values(ascending=False).head())"
   ]
  },
  {
   "cell_type": "code",
   "execution_count": 26,
   "metadata": {},
   "outputs": [
    {
     "name": "stdout",
     "output_type": "stream",
     "text": [
      "Number of rows in df1: 4464\n"
     ]
    }
   ],
   "source": [
    "#print(\"Number of rows in df1: \"+str(len(df1.index)))\n",
    "print(\"Number of rows in df1: \"+str(len(df1.index)))"
   ]
  },
  {
   "cell_type": "code",
   "execution_count": 27,
   "metadata": {},
   "outputs": [
    {
     "name": "stdout",
     "output_type": "stream",
     "text": [
      "Number of rows in df2: 3952\n",
      "min_value Pow in df2: 10.1383304595947\n"
     ]
    }
   ],
   "source": [
    "#a lower limit of output power is set at 0 kW for data sample selection.\n",
    "df2= df1[df1['Pow'] >= 10]  \n",
    "print(\"Number of rows in df2: \"+str(len(df2.index)))\n",
    "min_value = df2['Pow'].min()\n",
    "print(\"min_value Pow in df2: \"+str(min_value))"
   ]
  },
  {
   "cell_type": "code",
   "execution_count": 28,
   "metadata": {},
   "outputs": [
    {
     "data": {
      "text/html": [
       "<div>\n",
       "<style scoped>\n",
       "    .dataframe tbody tr th:only-of-type {\n",
       "        vertical-align: middle;\n",
       "    }\n",
       "\n",
       "    .dataframe tbody tr th {\n",
       "        vertical-align: top;\n",
       "    }\n",
       "\n",
       "    .dataframe thead th {\n",
       "        text-align: right;\n",
       "    }\n",
       "</style>\n",
       "<table border=\"1\" class=\"dataframe\">\n",
       "  <thead>\n",
       "    <tr style=\"text-align: right;\">\n",
       "      <th></th>\n",
       "      <th>date_num</th>\n",
       "      <th>Ws</th>\n",
       "      <th>Pow</th>\n",
       "      <th>Temp</th>\n",
       "      <th>Pressure</th>\n",
       "      <th>NPow(%)</th>\n",
       "    </tr>\n",
       "  </thead>\n",
       "  <tbody>\n",
       "    <tr>\n",
       "      <th>count</th>\n",
       "      <td>3952.000000</td>\n",
       "      <td>3952.000000</td>\n",
       "      <td>3952.000000</td>\n",
       "      <td>3898.000000</td>\n",
       "      <td>3898.000000</td>\n",
       "      <td>3952.000000</td>\n",
       "    </tr>\n",
       "    <tr>\n",
       "      <th>mean</th>\n",
       "      <td>734884.478220</td>\n",
       "      <td>7.078841</td>\n",
       "      <td>790.306057</td>\n",
       "      <td>3.496633</td>\n",
       "      <td>981.844409</td>\n",
       "      <td>35.515131</td>\n",
       "    </tr>\n",
       "    <tr>\n",
       "      <th>std</th>\n",
       "      <td>9.005456</td>\n",
       "      <td>3.085873</td>\n",
       "      <td>743.848479</td>\n",
       "      <td>2.440402</td>\n",
       "      <td>11.968703</td>\n",
       "      <td>31.715756</td>\n",
       "    </tr>\n",
       "    <tr>\n",
       "      <th>min</th>\n",
       "      <td>734869.000000</td>\n",
       "      <td>1.821097</td>\n",
       "      <td>10.138330</td>\n",
       "      <td>-2.180700</td>\n",
       "      <td>936.090027</td>\n",
       "      <td>2.250817</td>\n",
       "    </tr>\n",
       "    <tr>\n",
       "      <th>25%</th>\n",
       "      <td>734876.616319</td>\n",
       "      <td>4.576938</td>\n",
       "      <td>117.458776</td>\n",
       "      <td>1.627327</td>\n",
       "      <td>974.352264</td>\n",
       "      <td>6.826681</td>\n",
       "    </tr>\n",
       "    <tr>\n",
       "      <th>50%</th>\n",
       "      <td>734884.989583</td>\n",
       "      <td>6.521796</td>\n",
       "      <td>488.904800</td>\n",
       "      <td>3.362340</td>\n",
       "      <td>983.518005</td>\n",
       "      <td>22.664169</td>\n",
       "    </tr>\n",
       "    <tr>\n",
       "      <th>75%</th>\n",
       "      <td>734892.126736</td>\n",
       "      <td>9.323606</td>\n",
       "      <td>1420.521484</td>\n",
       "      <td>5.230392</td>\n",
       "      <td>991.213242</td>\n",
       "      <td>62.385871</td>\n",
       "    </tr>\n",
       "    <tr>\n",
       "      <th>max</th>\n",
       "      <td>734899.993056</td>\n",
       "      <td>18.339830</td>\n",
       "      <td>2302.708008</td>\n",
       "      <td>9.993120</td>\n",
       "      <td>1001.919983</td>\n",
       "      <td>100.000000</td>\n",
       "    </tr>\n",
       "  </tbody>\n",
       "</table>\n",
       "</div>"
      ],
      "text/plain": [
       "            date_num           Ws          Pow         Temp     Pressure  \\\n",
       "count    3952.000000  3952.000000  3952.000000  3898.000000  3898.000000   \n",
       "mean   734884.478220     7.078841   790.306057     3.496633   981.844409   \n",
       "std         9.005456     3.085873   743.848479     2.440402    11.968703   \n",
       "min    734869.000000     1.821097    10.138330    -2.180700   936.090027   \n",
       "25%    734876.616319     4.576938   117.458776     1.627327   974.352264   \n",
       "50%    734884.989583     6.521796   488.904800     3.362340   983.518005   \n",
       "75%    734892.126736     9.323606  1420.521484     5.230392   991.213242   \n",
       "max    734899.993056    18.339830  2302.708008     9.993120  1001.919983   \n",
       "\n",
       "           NPow(%)  \n",
       "count  3952.000000  \n",
       "mean     35.515131  \n",
       "std      31.715756  \n",
       "min       2.250817  \n",
       "25%       6.826681  \n",
       "50%      22.664169  \n",
       "75%      62.385871  \n",
       "max     100.000000  "
      ]
     },
     "execution_count": 28,
     "metadata": {},
     "output_type": "execute_result"
    }
   ],
   "source": [
    "df2.describe()"
   ]
  },
  {
   "cell_type": "code",
   "execution_count": 29,
   "metadata": {},
   "outputs": [
    {
     "data": {
      "text/html": [
       "<div>\n",
       "<style scoped>\n",
       "    .dataframe tbody tr th:only-of-type {\n",
       "        vertical-align: middle;\n",
       "    }\n",
       "\n",
       "    .dataframe tbody tr th {\n",
       "        vertical-align: top;\n",
       "    }\n",
       "\n",
       "    .dataframe thead th {\n",
       "        text-align: right;\n",
       "    }\n",
       "</style>\n",
       "<table border=\"1\" class=\"dataframe\">\n",
       "  <thead>\n",
       "    <tr style=\"text-align: right;\">\n",
       "      <th></th>\n",
       "      <th>date_num</th>\n",
       "      <th>Ws</th>\n",
       "      <th>Pow</th>\n",
       "      <th>Temp</th>\n",
       "      <th>Pressure</th>\n",
       "      <th>NPow(%)</th>\n",
       "    </tr>\n",
       "  </thead>\n",
       "  <tbody>\n",
       "    <tr>\n",
       "      <th>count</th>\n",
       "      <td>3952.000000</td>\n",
       "      <td>3952.000000</td>\n",
       "      <td>3952.000000</td>\n",
       "      <td>3898.000000</td>\n",
       "      <td>3898.000000</td>\n",
       "      <td>3952.000000</td>\n",
       "    </tr>\n",
       "    <tr>\n",
       "      <th>mean</th>\n",
       "      <td>734884.478220</td>\n",
       "      <td>7.078841</td>\n",
       "      <td>790.306057</td>\n",
       "      <td>3.496633</td>\n",
       "      <td>981.844409</td>\n",
       "      <td>35.515131</td>\n",
       "    </tr>\n",
       "    <tr>\n",
       "      <th>std</th>\n",
       "      <td>9.005456</td>\n",
       "      <td>3.085873</td>\n",
       "      <td>743.848479</td>\n",
       "      <td>2.440402</td>\n",
       "      <td>11.968703</td>\n",
       "      <td>31.715756</td>\n",
       "    </tr>\n",
       "    <tr>\n",
       "      <th>min</th>\n",
       "      <td>734869.000000</td>\n",
       "      <td>1.821097</td>\n",
       "      <td>10.138330</td>\n",
       "      <td>-2.180700</td>\n",
       "      <td>936.090027</td>\n",
       "      <td>2.250817</td>\n",
       "    </tr>\n",
       "    <tr>\n",
       "      <th>25%</th>\n",
       "      <td>734876.616319</td>\n",
       "      <td>4.576938</td>\n",
       "      <td>117.458776</td>\n",
       "      <td>1.627327</td>\n",
       "      <td>974.352264</td>\n",
       "      <td>6.826681</td>\n",
       "    </tr>\n",
       "    <tr>\n",
       "      <th>50%</th>\n",
       "      <td>734884.989583</td>\n",
       "      <td>6.521796</td>\n",
       "      <td>488.904800</td>\n",
       "      <td>3.362340</td>\n",
       "      <td>983.518005</td>\n",
       "      <td>22.664169</td>\n",
       "    </tr>\n",
       "    <tr>\n",
       "      <th>75%</th>\n",
       "      <td>734892.126736</td>\n",
       "      <td>9.323606</td>\n",
       "      <td>1420.521484</td>\n",
       "      <td>5.230392</td>\n",
       "      <td>991.213242</td>\n",
       "      <td>62.385871</td>\n",
       "    </tr>\n",
       "    <tr>\n",
       "      <th>max</th>\n",
       "      <td>734899.993056</td>\n",
       "      <td>18.339830</td>\n",
       "      <td>2302.708008</td>\n",
       "      <td>9.993120</td>\n",
       "      <td>1001.919983</td>\n",
       "      <td>100.000000</td>\n",
       "    </tr>\n",
       "  </tbody>\n",
       "</table>\n",
       "</div>"
      ],
      "text/plain": [
       "            date_num           Ws          Pow         Temp     Pressure  \\\n",
       "count    3952.000000  3952.000000  3952.000000  3898.000000  3898.000000   \n",
       "mean   734884.478220     7.078841   790.306057     3.496633   981.844409   \n",
       "std         9.005456     3.085873   743.848479     2.440402    11.968703   \n",
       "min    734869.000000     1.821097    10.138330    -2.180700   936.090027   \n",
       "25%    734876.616319     4.576938   117.458776     1.627327   974.352264   \n",
       "50%    734884.989583     6.521796   488.904800     3.362340   983.518005   \n",
       "75%    734892.126736     9.323606  1420.521484     5.230392   991.213242   \n",
       "max    734899.993056    18.339830  2302.708008     9.993120  1001.919983   \n",
       "\n",
       "           NPow(%)  \n",
       "count  3952.000000  \n",
       "mean     35.515131  \n",
       "std      31.715756  \n",
       "min       2.250817  \n",
       "25%       6.826681  \n",
       "50%      22.664169  \n",
       "75%      62.385871  \n",
       "max     100.000000  "
      ]
     },
     "execution_count": 29,
     "metadata": {},
     "output_type": "execute_result"
    }
   ],
   "source": [
    "#Data pointswhere maximum wind speed has reached more than 25 m/s are also filtered out\n",
    "df3=df2[(df2['Ws']<25)]\n",
    "df3.describe()"
   ]
  },
  {
   "cell_type": "code",
   "execution_count": 30,
   "metadata": {},
   "outputs": [
    {
     "data": {
      "image/png": "[encoded data removed]",
      "text/plain": [
       "<Figure size 432x288 with 1 Axes>"
      ]
     },
     "metadata": {
      "needs_background": "light"
     },
     "output_type": "display_data"
    }
   ],
   "source": [
    "ax=df.plot(kind='scatter',x='Ws',y='NPow(%)',color='red')\n",
    "df3.plot(ax=ax, kind='scatter',x='Ws',y='NPow(%)',color='blue')\n",
    "ax.set_xlabel(\"Ws(m/s)\")\n",
    "ax.set_ylabel(\"NPow(%)\")\n",
    "#ax.left_ax.set_ylabel('Variance of log wages')\n",
    "#plt.legend(loc='best')\n",
    "\n",
    "plt.show()"
   ]
  },
  {
   "cell_type": "code",
   "execution_count": 31,
   "metadata": {},
   "outputs": [],
   "source": [
    "\n",
    "# model normal behaviour so curtailment should not be considered\n",
    "\n",
    "\n",
    "#cluster filter is applied on the training data and aims to remove outliers depending on the operating conditions \n",
    "#of the wind turbine.\n",
    "#A multivariate outlier detection approach based on Mahalanobis distance is used in \n",
    "#This paper utilizes agglomerative hierarchical clustering (Rokach & Maimon, 2005)\n",
    "\n",
    "#used in the linkage function which determines how the objects in the data set should be grouped into clusters that form a binary hierarchical cluster tree.\n",
    "\n",
    "#A probability threshold of 2.5% is chosen"
   ]
  },
  {
   "cell_type": "code",
   "execution_count": 32,
   "metadata": {},
   "outputs": [
    {
     "name": "stdout",
     "output_type": "stream",
     "text": [
      "Index(['date_num', 'Ws', 'Pow', 'Temp', 'Pressure', 'NPow(%)'], dtype='object')\n",
      "Index(['date_num', 'Ws', 'Pow', 'Temp', 'Pressure'], dtype='object')\n"
     ]
    }
   ],
   "source": [
    "#Mahalanobis distance\n",
    "\n",
    "print(df3.columns)\n",
    "df4=df3[['date_num', 'Ws', 'Pow', 'Temp', 'Pressure']]\n",
    "print(df4.columns)\n",
    "\n",
    "#The distance is calculated in the Euclidean space and the inner squared distance is computed using Ward’s algorithm\n",
    "#The distance is calculated for each data vector in the training data set from its cluster centre\n"
   ]
  },
  {
   "cell_type": "code",
   "execution_count": 33,
   "metadata": {},
   "outputs": [
    {
     "data": {
      "text/html": [
       "<div>\n",
       "<style scoped>\n",
       "    .dataframe tbody tr th:only-of-type {\n",
       "        vertical-align: middle;\n",
       "    }\n",
       "\n",
       "    .dataframe tbody tr th {\n",
       "        vertical-align: top;\n",
       "    }\n",
       "\n",
       "    .dataframe thead th {\n",
       "        text-align: right;\n",
       "    }\n",
       "</style>\n",
       "<table border=\"1\" class=\"dataframe\">\n",
       "  <thead>\n",
       "    <tr style=\"text-align: right;\">\n",
       "      <th></th>\n",
       "      <th>date_num</th>\n",
       "      <th>Ws</th>\n",
       "      <th>Pow</th>\n",
       "      <th>Temp</th>\n",
       "      <th>Pressure</th>\n",
       "    </tr>\n",
       "  </thead>\n",
       "  <tbody>\n",
       "    <tr>\n",
       "      <th>count</th>\n",
       "      <td>3952.000000</td>\n",
       "      <td>3952.000000</td>\n",
       "      <td>3952.000000</td>\n",
       "      <td>3898.000000</td>\n",
       "      <td>3898.000000</td>\n",
       "    </tr>\n",
       "    <tr>\n",
       "      <th>mean</th>\n",
       "      <td>734884.478220</td>\n",
       "      <td>7.078841</td>\n",
       "      <td>790.306057</td>\n",
       "      <td>3.496633</td>\n",
       "      <td>981.844409</td>\n",
       "    </tr>\n",
       "    <tr>\n",
       "      <th>std</th>\n",
       "      <td>9.005456</td>\n",
       "      <td>3.085873</td>\n",
       "      <td>743.848479</td>\n",
       "      <td>2.440402</td>\n",
       "      <td>11.968703</td>\n",
       "    </tr>\n",
       "    <tr>\n",
       "      <th>min</th>\n",
       "      <td>734869.000000</td>\n",
       "      <td>1.821097</td>\n",
       "      <td>10.138330</td>\n",
       "      <td>-2.180700</td>\n",
       "      <td>936.090027</td>\n",
       "    </tr>\n",
       "    <tr>\n",
       "      <th>25%</th>\n",
       "      <td>734876.616319</td>\n",
       "      <td>4.576938</td>\n",
       "      <td>117.458776</td>\n",
       "      <td>1.627327</td>\n",
       "      <td>974.352264</td>\n",
       "    </tr>\n",
       "    <tr>\n",
       "      <th>50%</th>\n",
       "      <td>734884.989583</td>\n",
       "      <td>6.521796</td>\n",
       "      <td>488.904800</td>\n",
       "      <td>3.362340</td>\n",
       "      <td>983.518005</td>\n",
       "    </tr>\n",
       "    <tr>\n",
       "      <th>75%</th>\n",
       "      <td>734892.126736</td>\n",
       "      <td>9.323606</td>\n",
       "      <td>1420.521484</td>\n",
       "      <td>5.230392</td>\n",
       "      <td>991.213242</td>\n",
       "    </tr>\n",
       "    <tr>\n",
       "      <th>max</th>\n",
       "      <td>734899.993056</td>\n",
       "      <td>18.339830</td>\n",
       "      <td>2302.708008</td>\n",
       "      <td>9.993120</td>\n",
       "      <td>1001.919983</td>\n",
       "    </tr>\n",
       "  </tbody>\n",
       "</table>\n",
       "</div>"
      ],
      "text/plain": [
       "            date_num           Ws          Pow         Temp     Pressure\n",
       "count    3952.000000  3952.000000  3952.000000  3898.000000  3898.000000\n",
       "mean   734884.478220     7.078841   790.306057     3.496633   981.844409\n",
       "std         9.005456     3.085873   743.848479     2.440402    11.968703\n",
       "min    734869.000000     1.821097    10.138330    -2.180700   936.090027\n",
       "25%    734876.616319     4.576938   117.458776     1.627327   974.352264\n",
       "50%    734884.989583     6.521796   488.904800     3.362340   983.518005\n",
       "75%    734892.126736     9.323606  1420.521484     5.230392   991.213242\n",
       "max    734899.993056    18.339830  2302.708008     9.993120  1001.919983"
      ]
     },
     "execution_count": 33,
     "metadata": {},
     "output_type": "execute_result"
    }
   ],
   "source": [
    "df4.describe()\n"
   ]
  },
  {
   "cell_type": "code",
   "execution_count": 34,
   "metadata": {},
   "outputs": [
    {
     "data": {
      "text/plain": [
       "3952"
      ]
     },
     "execution_count": 34,
     "metadata": {},
     "output_type": "execute_result"
    }
   ],
   "source": [
    "df4.shape[0]"
   ]
  },
  {
   "cell_type": "code",
   "execution_count": 35,
   "metadata": {},
   "outputs": [],
   "source": [
    "#error with df4 for dendrogram\n",
    "df5=df4.head(700)\n",
    "#https://medium.com/@sametgirgin/hierarchical-clustering-model-in-5-steps-with-python-6c45087d4318\n"
   ]
  },
  {
   "cell_type": "code",
   "execution_count": 36,
   "metadata": {},
   "outputs": [],
   "source": [
    "# Ws, T or Pow, T?\n",
    "X = df5.iloc[:, [1,3]].values\n",
    "\n",
    "\n"
   ]
  },
  {
   "cell_type": "code",
   "execution_count": 37,
   "metadata": {},
   "outputs": [],
   "source": [
    "import scipy.cluster.hierarchy as sch"
   ]
  },
  {
   "cell_type": "code",
   "execution_count": 38,
   "metadata": {},
   "outputs": [
    {
     "data": {
      "image/png": "[encoded data removed]",
      "text/plain": [
       "<Figure size 432x288 with 1 Axes>"
      ]
     },
     "metadata": {
      "needs_background": "light"
     },
     "output_type": "display_data"
    }
   ],
   "source": [
    "\n",
    "try:\n",
    "    dendrogram = sch.dendrogram(sch.linkage(X, method  = \"ward\"))\n",
    "    plt.title('Dendrogram')\n",
    "    plt.xlabel('Data')\n",
    "    plt.ylabel('Euclidean distances')\n",
    "    plt.show()\n",
    "except:\n",
    "  print(\"An exception occurred\")\n",
    "    "
   ]
  },
  {
   "cell_type": "code",
   "execution_count": 39,
   "metadata": {},
   "outputs": [],
   "source": [
    "# How do we determine the optimal number of clusters from this diagram? We look for the largest distance that we can vertically without crossing any horizontal line\n"
   ]
  },
  {
   "cell_type": "code",
   "execution_count": 40,
   "metadata": {},
   "outputs": [],
   "source": [
    "from sklearn.cluster import AgglomerativeClustering \n",
    "hc = AgglomerativeClustering(n_clusters = 4, affinity = 'euclidean', linkage ='ward')"
   ]
  },
  {
   "cell_type": "code",
   "execution_count": 41,
   "metadata": {},
   "outputs": [],
   "source": [
    "y_hc=hc.fit_predict(X)"
   ]
  },
  {
   "cell_type": "code",
   "execution_count": 42,
   "metadata": {},
   "outputs": [
    {
     "data": {
      "image/png": "[encoded data removed]",
      "text/plain": [
       "<Figure size 432x288 with 1 Axes>"
      ]
     },
     "metadata": {
      "needs_background": "light"
     },
     "output_type": "display_data"
    }
   ],
   "source": [
    "plt.scatter(X[y_hc==0, 0], X[y_hc==0, 1], s=100, c='red', label ='Cluster 1')\n",
    "plt.scatter(X[y_hc==1, 0], X[y_hc==1, 1], s=100, c='blue', label ='Cluster 2')\n",
    "plt.scatter(X[y_hc==2, 0], X[y_hc==2, 1], s=100, c='green', label ='Cluster 3')\n",
    "plt.scatter(X[y_hc==3, 0], X[y_hc==3, 1], s=100, c='cyan', label ='Cluster 4')\n",
    "plt.title('Clusters (Hierarchical Clustering Model)')\n",
    "plt.xlabel('Ws')\n",
    "plt.ylabel('Temp')\n",
    "plt.show()"
   ]
  },
  {
   "cell_type": "code",
   "execution_count": 43,
   "metadata": {},
   "outputs": [],
   "source": [
    "#Cluster 1 red: Ws [5.8-12.5], Temp[1-5.5]\n",
    "#Cluster 2 blue: Ws [5-12.5], Temp[3-9]\n",
    "#Cluster 4 cyan : Ws [2.2-6.5], Temp[1-4.5]\n",
    "#Cluster 3 green: Ws [11-18.3], Temp[1-10]"
   ]
  },
  {
   "cell_type": "code",
   "execution_count": 44,
   "metadata": {},
   "outputs": [],
   "source": [
    "coordinatesCenter=[]\n",
    "\n",
    "def findCordinateCenter(xList,yList,coordinates):\n",
    "    xCenter= np.sum(xList)/len(xList)\n",
    "    yCenter= np.sum(yList)/len(yList)\n",
    "    coordinates.append(xCenter)\n",
    "    coordinates.append(yCenter)\n",
    "    return coordinates\n",
    "\n",
    "\n",
    "    "
   ]
  },
  {
   "cell_type": "code",
   "execution_count": 45,
   "metadata": {},
   "outputs": [
    {
     "name": "stdout",
     "output_type": "stream",
     "text": [
      "         date_num        Ws          Pow     Temp    Pressure\n",
      "7   734869.048611  9.876040  1633.453003  5.08222  962.325989\n",
      "8   734869.055556  9.009182  1315.854980  4.86094  962.309998\n",
      "9   734869.062500  8.327333  1141.844971  4.83201  962.119995\n",
      "10  734869.069444  8.674167  1190.046997  4.78734  962.099976\n",
      "11  734869.076389  8.021000   993.341675  4.73432  962.245972\n"
     ]
    }
   ],
   "source": [
    "#Cluster 1 red: Ws [5.8-12.5], Temp[1-5.5]\n",
    "df6=df5[(df5['Ws']>=5.8)&(df5['Ws']<=12.5)&(df5['Temp']>=1)&(df5['Temp']<=5.5)]\n",
    "print(df6.head())\n",
    "\n"
   ]
  },
  {
   "cell_type": "code",
   "execution_count": 46,
   "metadata": {},
   "outputs": [
    {
     "name": "stdout",
     "output_type": "stream",
     "text": [
      "[9.188052343989085, 3.223777292255394]\n"
     ]
    }
   ],
   "source": [
    "C1=findCordinateCenter(df6['Ws'],df6['Temp'],coordinatesCenter)\n",
    "print(C1)"
   ]
  },
  {
   "cell_type": "code",
   "execution_count": 47,
   "metadata": {},
   "outputs": [
    {
     "name": "stderr",
     "output_type": "stream",
     "text": [
      "<ipython-input-47-26bb9f52520d>:1: SettingWithCopyWarning: \n",
      "A value is trying to be set on a copy of a slice from a DataFrame.\n",
      "Try using .loc[row_indexer,col_indexer] = value instead\n",
      "\n",
      "See the caveats in the documentation: https://pandas.pydata.org/pandas-docs/stable/user_guide/indexing.html#returning-a-view-versus-a-copy\n",
      "  df6['distance'] = df6[['Ws', 'Temp']].sub(np.array(C1)).pow(2).sum(1).pow(0.5)\n"
     ]
    }
   ],
   "source": [
    "df6['distance'] = df6[['Ws', 'Temp']].sub(np.array(C1)).pow(2).sum(1).pow(0.5)"
   ]
  },
  {
   "cell_type": "code",
   "execution_count": 48,
   "metadata": {},
   "outputs": [
    {
     "name": "stdout",
     "output_type": "stream",
     "text": [
      "        date_num         Ws          Pow     Temp    Pressure\n",
      "0  734869.000000   8.974833  1310.025024  6.57349  962.732971\n",
      "1  734869.006944   9.908769  1684.520996  6.62630  962.578003\n",
      "2  734869.013889   9.639434  1532.052002  6.81988  962.244019\n",
      "3  734869.020833  11.836330  1997.869995  6.93197  961.859985\n",
      "4  734869.027778  11.687170  2135.758057  6.98667  961.864014\n"
     ]
    }
   ],
   "source": [
    "#Cluster 2 blue: Ws [5-12.5], Temp[3-9]\n",
    "df7=df5[(df5['Ws']>=5)&(df5['Ws']<=12.5)&(df5['Temp']>=3)&(df5['Temp']<=9)]\n",
    "print(df7.head())\n"
   ]
  },
  {
   "cell_type": "code",
   "execution_count": 49,
   "metadata": {},
   "outputs": [
    {
     "data": {
      "text/html": [
       "<div>\n",
       "<style scoped>\n",
       "    .dataframe tbody tr th:only-of-type {\n",
       "        vertical-align: middle;\n",
       "    }\n",
       "\n",
       "    .dataframe tbody tr th {\n",
       "        vertical-align: top;\n",
       "    }\n",
       "\n",
       "    .dataframe thead th {\n",
       "        text-align: right;\n",
       "    }\n",
       "</style>\n",
       "<table border=\"1\" class=\"dataframe\">\n",
       "  <thead>\n",
       "    <tr style=\"text-align: right;\">\n",
       "      <th></th>\n",
       "      <th>date_num</th>\n",
       "      <th>Ws</th>\n",
       "      <th>Pow</th>\n",
       "      <th>Temp</th>\n",
       "      <th>Pressure</th>\n",
       "    </tr>\n",
       "  </thead>\n",
       "  <tbody>\n",
       "    <tr>\n",
       "      <th>count</th>\n",
       "      <td>321.000000</td>\n",
       "      <td>321.000000</td>\n",
       "      <td>321.000000</td>\n",
       "      <td>321.000000</td>\n",
       "      <td>321.000000</td>\n",
       "    </tr>\n",
       "    <tr>\n",
       "      <th>mean</th>\n",
       "      <td>734871.340429</td>\n",
       "      <td>9.357610</td>\n",
       "      <td>1413.986315</td>\n",
       "      <td>4.388060</td>\n",
       "      <td>965.338903</td>\n",
       "    </tr>\n",
       "    <tr>\n",
       "      <th>std</th>\n",
       "      <td>1.850661</td>\n",
       "      <td>1.593629</td>\n",
       "      <td>492.725443</td>\n",
       "      <td>1.072778</td>\n",
       "      <td>9.124988</td>\n",
       "    </tr>\n",
       "    <tr>\n",
       "      <th>min</th>\n",
       "      <td>734869.000000</td>\n",
       "      <td>5.179299</td>\n",
       "      <td>185.909897</td>\n",
       "      <td>3.000670</td>\n",
       "      <td>939.130005</td>\n",
       "    </tr>\n",
       "    <tr>\n",
       "      <th>25%</th>\n",
       "      <td>734869.562500</td>\n",
       "      <td>8.309500</td>\n",
       "      <td>1056.671997</td>\n",
       "      <td>3.477210</td>\n",
       "      <td>959.390991</td>\n",
       "    </tr>\n",
       "    <tr>\n",
       "      <th>50%</th>\n",
       "      <td>734870.958333</td>\n",
       "      <td>9.481803</td>\n",
       "      <td>1482.244995</td>\n",
       "      <td>4.247790</td>\n",
       "      <td>961.810974</td>\n",
       "    </tr>\n",
       "    <tr>\n",
       "      <th>75%</th>\n",
       "      <td>734873.347222</td>\n",
       "      <td>10.570670</td>\n",
       "      <td>1828.267944</td>\n",
       "      <td>5.042020</td>\n",
       "      <td>971.749023</td>\n",
       "    </tr>\n",
       "    <tr>\n",
       "      <th>max</th>\n",
       "      <td>734874.611111</td>\n",
       "      <td>12.477540</td>\n",
       "      <td>2254.333008</td>\n",
       "      <td>8.893600</td>\n",
       "      <td>988.979980</td>\n",
       "    </tr>\n",
       "  </tbody>\n",
       "</table>\n",
       "</div>"
      ],
      "text/plain": [
       "            date_num          Ws          Pow        Temp    Pressure\n",
       "count     321.000000  321.000000   321.000000  321.000000  321.000000\n",
       "mean   734871.340429    9.357610  1413.986315    4.388060  965.338903\n",
       "std         1.850661    1.593629   492.725443    1.072778    9.124988\n",
       "min    734869.000000    5.179299   185.909897    3.000670  939.130005\n",
       "25%    734869.562500    8.309500  1056.671997    3.477210  959.390991\n",
       "50%    734870.958333    9.481803  1482.244995    4.247790  961.810974\n",
       "75%    734873.347222   10.570670  1828.267944    5.042020  971.749023\n",
       "max    734874.611111   12.477540  2254.333008    8.893600  988.979980"
      ]
     },
     "execution_count": 49,
     "metadata": {},
     "output_type": "execute_result"
    }
   ],
   "source": [
    "df7.describe()"
   ]
  },
  {
   "cell_type": "code",
   "execution_count": 50,
   "metadata": {},
   "outputs": [
    {
     "name": "stdout",
     "output_type": "stream",
     "text": [
      "[9.357610029594921, 4.388059854507446]\n"
     ]
    }
   ],
   "source": [
    "coordinatesCenter=[]\n",
    "C2=findCordinateCenter(df7['Ws'],df7['Temp'],coordinatesCenter)\n",
    "print(C2)"
   ]
  },
  {
   "cell_type": "code",
   "execution_count": 51,
   "metadata": {},
   "outputs": [
    {
     "name": "stderr",
     "output_type": "stream",
     "text": [
      "<ipython-input-51-9d21c0196a30>:1: SettingWithCopyWarning: \n",
      "A value is trying to be set on a copy of a slice from a DataFrame.\n",
      "Try using .loc[row_indexer,col_indexer] = value instead\n",
      "\n",
      "See the caveats in the documentation: https://pandas.pydata.org/pandas-docs/stable/user_guide/indexing.html#returning-a-view-versus-a-copy\n",
      "  df7['distance'] = df7[['Ws', 'Temp']].sub(np.array(C2)).pow(2).sum(1).pow(0.5)\n"
     ]
    }
   ],
   "source": [
    "df7['distance'] = df7[['Ws', 'Temp']].sub(np.array(C2)).pow(2).sum(1).pow(0.5)"
   ]
  },
  {
   "cell_type": "raw",
   "metadata": {},
   "source": [
    "\n",
    "print(df7.head())"
   ]
  },
  {
   "cell_type": "code",
   "execution_count": 52,
   "metadata": {},
   "outputs": [
    {
     "name": "stdout",
     "output_type": "stream",
     "text": [
      "          date_num        Ws         Pow     Temp    Pressure\n",
      "389  734871.701389  6.193667  483.173309  2.85663  956.648987\n",
      "402  734871.791667  6.480366  414.567413  1.11090  959.716003\n",
      "411  734871.854167  6.140500  321.293304  1.29683  962.341980\n",
      "412  734871.861111  6.082333  212.346695  1.40071  962.721985\n",
      "414  734871.875000  4.953500  211.380005  1.65658  963.202026\n"
     ]
    }
   ],
   "source": [
    "#Cluster 4 cyan : Ws [2.2-6.5], Temp[1-4.5]\n",
    "df8=df5[(df5['Ws']>=2.2)&(df5['Ws']<=6.5)&(df5['Temp']>=1)&(df5['Temp']<=4.5)]\n",
    "print(df8.head())"
   ]
  },
  {
   "cell_type": "code",
   "execution_count": 53,
   "metadata": {},
   "outputs": [
    {
     "name": "stdout",
     "output_type": "stream",
     "text": [
      "[4.984124333627762, 2.5287833079215023]\n"
     ]
    }
   ],
   "source": [
    "coordinatesCenter=[]\n",
    "C3=findCordinateCenter(df8['Ws'],df8['Temp'],coordinatesCenter)\n",
    "print(C3)"
   ]
  },
  {
   "cell_type": "code",
   "execution_count": 54,
   "metadata": {},
   "outputs": [
    {
     "name": "stderr",
     "output_type": "stream",
     "text": [
      "<ipython-input-54-a090d24e9cf0>:1: SettingWithCopyWarning: \n",
      "A value is trying to be set on a copy of a slice from a DataFrame.\n",
      "Try using .loc[row_indexer,col_indexer] = value instead\n",
      "\n",
      "See the caveats in the documentation: https://pandas.pydata.org/pandas-docs/stable/user_guide/indexing.html#returning-a-view-versus-a-copy\n",
      "  df8['distance'] = df8[['Ws', 'Temp']].sub(np.array(C3)).pow(2).sum(1).pow(0.5)\n"
     ]
    }
   ],
   "source": [
    "df8['distance'] = df8[['Ws', 'Temp']].sub(np.array(C3)).pow(2).sum(1).pow(0.5)"
   ]
  },
  {
   "cell_type": "code",
   "execution_count": 55,
   "metadata": {},
   "outputs": [
    {
     "name": "stdout",
     "output_type": "stream",
     "text": [
      "         date_num        Ws          Pow     Temp    Pressure\n",
      "3   734869.020833  11.83633  1997.869995  6.93197  961.859985\n",
      "4   734869.027778  11.68717  2135.758057  6.98667  961.864014\n",
      "5   734869.034722  12.14433  2149.540039  6.74057  961.499023\n",
      "6   734869.041667  13.42517  2056.350098  5.35465  962.164978\n",
      "16  734869.111111  11.55907  1914.110962  6.74833  961.635010\n"
     ]
    }
   ],
   "source": [
    "#Cluster 3 green: Ws [11-18.3], Temp[1-10]\n",
    "df9=df5[(df5['Ws']>=11)&(df5['Ws']<=18.3)&(df5['Temp']>=1)&(df5['Temp']<=10)]\n",
    "print(df9.head())"
   ]
  },
  {
   "cell_type": "code",
   "execution_count": 56,
   "metadata": {},
   "outputs": [
    {
     "name": "stdout",
     "output_type": "stream",
     "text": [
      "[12.681771250738617, 3.992453346217889]\n"
     ]
    }
   ],
   "source": [
    "coordinatesCenter=[]\n",
    "C4=findCordinateCenter(df9['Ws'],df9['Temp'],coordinatesCenter)\n",
    "print(C4)"
   ]
  },
  {
   "cell_type": "code",
   "execution_count": 57,
   "metadata": {},
   "outputs": [
    {
     "name": "stderr",
     "output_type": "stream",
     "text": [
      "<ipython-input-57-4f7e3537234f>:1: SettingWithCopyWarning: \n",
      "A value is trying to be set on a copy of a slice from a DataFrame.\n",
      "Try using .loc[row_indexer,col_indexer] = value instead\n",
      "\n",
      "See the caveats in the documentation: https://pandas.pydata.org/pandas-docs/stable/user_guide/indexing.html#returning-a-view-versus-a-copy\n",
      "  df9['distance'] = df9[['Ws', 'Temp']].sub(np.array(C4)).pow(2).sum(1).pow(0.5)\n"
     ]
    }
   ],
   "source": [
    "df9['distance'] = df9[['Ws', 'Temp']].sub(np.array(C4)).pow(2).sum(1).pow(0.5)"
   ]
  },
  {
   "cell_type": "code",
   "execution_count": 58,
   "metadata": {},
   "outputs": [],
   "source": [
    "df_row = pd.concat([df6, df7,df8,df9])"
   ]
  },
  {
   "cell_type": "code",
   "execution_count": 59,
   "metadata": {},
   "outputs": [
    {
     "data": {
      "text/html": [
       "<div>\n",
       "<style scoped>\n",
       "    .dataframe tbody tr th:only-of-type {\n",
       "        vertical-align: middle;\n",
       "    }\n",
       "\n",
       "    .dataframe tbody tr th {\n",
       "        vertical-align: top;\n",
       "    }\n",
       "\n",
       "    .dataframe thead th {\n",
       "        text-align: right;\n",
       "    }\n",
       "</style>\n",
       "<table border=\"1\" class=\"dataframe\">\n",
       "  <thead>\n",
       "    <tr style=\"text-align: right;\">\n",
       "      <th></th>\n",
       "      <th>date_num</th>\n",
       "      <th>Ws</th>\n",
       "      <th>Pow</th>\n",
       "      <th>Temp</th>\n",
       "      <th>Pressure</th>\n",
       "      <th>distance</th>\n",
       "    </tr>\n",
       "  </thead>\n",
       "  <tbody>\n",
       "    <tr>\n",
       "      <th>count</th>\n",
       "      <td>1084.000000</td>\n",
       "      <td>1084.000000</td>\n",
       "      <td>1084.000000</td>\n",
       "      <td>1084.000000</td>\n",
       "      <td>1084.000000</td>\n",
       "      <td>1084.000000</td>\n",
       "    </tr>\n",
       "    <tr>\n",
       "      <th>mean</th>\n",
       "      <td>734871.660645</td>\n",
       "      <td>9.202143</td>\n",
       "      <td>1329.896300</td>\n",
       "      <td>3.586907</td>\n",
       "      <td>966.301064</td>\n",
       "      <td>1.708664</td>\n",
       "    </tr>\n",
       "    <tr>\n",
       "      <th>std</th>\n",
       "      <td>1.702169</td>\n",
       "      <td>2.440987</td>\n",
       "      <td>651.891091</td>\n",
       "      <td>1.327200</td>\n",
       "      <td>10.726246</td>\n",
       "      <td>0.900049</td>\n",
       "    </tr>\n",
       "    <tr>\n",
       "      <th>min</th>\n",
       "      <td>734869.000000</td>\n",
       "      <td>2.359766</td>\n",
       "      <td>20.244591</td>\n",
       "      <td>1.110900</td>\n",
       "      <td>936.090027</td>\n",
       "      <td>0.084612</td>\n",
       "    </tr>\n",
       "    <tr>\n",
       "      <th>25%</th>\n",
       "      <td>734870.081597</td>\n",
       "      <td>7.715399</td>\n",
       "      <td>841.778015</td>\n",
       "      <td>2.524590</td>\n",
       "      <td>959.427765</td>\n",
       "      <td>1.100525</td>\n",
       "    </tr>\n",
       "    <tr>\n",
       "      <th>50%</th>\n",
       "      <td>734871.586806</td>\n",
       "      <td>9.404341</td>\n",
       "      <td>1425.161011</td>\n",
       "      <td>3.389690</td>\n",
       "      <td>962.698975</td>\n",
       "      <td>1.625313</td>\n",
       "    </tr>\n",
       "    <tr>\n",
       "      <th>75%</th>\n",
       "      <td>734873.390625</td>\n",
       "      <td>10.868917</td>\n",
       "      <td>1907.983032</td>\n",
       "      <td>4.459400</td>\n",
       "      <td>973.227264</td>\n",
       "      <td>2.194796</td>\n",
       "    </tr>\n",
       "    <tr>\n",
       "      <th>max</th>\n",
       "      <td>734874.611111</td>\n",
       "      <td>18.292830</td>\n",
       "      <td>2302.708008</td>\n",
       "      <td>9.993120</td>\n",
       "      <td>989.280029</td>\n",
       "      <td>8.215350</td>\n",
       "    </tr>\n",
       "  </tbody>\n",
       "</table>\n",
       "</div>"
      ],
      "text/plain": [
       "            date_num           Ws          Pow         Temp     Pressure  \\\n",
       "count    1084.000000  1084.000000  1084.000000  1084.000000  1084.000000   \n",
       "mean   734871.660645     9.202143  1329.896300     3.586907   966.301064   \n",
       "std         1.702169     2.440987   651.891091     1.327200    10.726246   \n",
       "min    734869.000000     2.359766    20.244591     1.110900   936.090027   \n",
       "25%    734870.081597     7.715399   841.778015     2.524590   959.427765   \n",
       "50%    734871.586806     9.404341  1425.161011     3.389690   962.698975   \n",
       "75%    734873.390625    10.868917  1907.983032     4.459400   973.227264   \n",
       "max    734874.611111    18.292830  2302.708008     9.993120   989.280029   \n",
       "\n",
       "          distance  \n",
       "count  1084.000000  \n",
       "mean      1.708664  \n",
       "std       0.900049  \n",
       "min       0.084612  \n",
       "25%       1.100525  \n",
       "50%       1.625313  \n",
       "75%       2.194796  \n",
       "max       8.215350  "
      ]
     },
     "execution_count": 59,
     "metadata": {},
     "output_type": "execute_result"
    }
   ],
   "source": [
    "df_row.describe()"
   ]
  },
  {
   "cell_type": "code",
   "execution_count": 60,
   "metadata": {},
   "outputs": [
    {
     "name": "stdout",
     "output_type": "stream",
     "text": [
      "796600880.1388891\n"
     ]
    }
   ],
   "source": [
    "num_tot=df_row['date_num'].sum()\n",
    "print(num_tot)"
   ]
  },
  {
   "cell_type": "code",
   "execution_count": 61,
   "metadata": {},
   "outputs": [],
   "source": [
    "df_row['Pd1(%)'] =(df_row['distance']*df_row['date_num']*100)/num_tot"
   ]
  },
  {
   "cell_type": "code",
   "execution_count": 62,
   "metadata": {
    "scrolled": true
   },
   "outputs": [
    {
     "data": {
      "text/html": [
       "<div>\n",
       "<style scoped>\n",
       "    .dataframe tbody tr th:only-of-type {\n",
       "        vertical-align: middle;\n",
       "    }\n",
       "\n",
       "    .dataframe tbody tr th {\n",
       "        vertical-align: top;\n",
       "    }\n",
       "\n",
       "    .dataframe thead th {\n",
       "        text-align: right;\n",
       "    }\n",
       "</style>\n",
       "<table border=\"1\" class=\"dataframe\">\n",
       "  <thead>\n",
       "    <tr style=\"text-align: right;\">\n",
       "      <th></th>\n",
       "      <th>date_num</th>\n",
       "      <th>Ws</th>\n",
       "      <th>Pow</th>\n",
       "      <th>Temp</th>\n",
       "      <th>Pressure</th>\n",
       "      <th>distance</th>\n",
       "      <th>Pd1(%)</th>\n",
       "    </tr>\n",
       "  </thead>\n",
       "  <tbody>\n",
       "    <tr>\n",
       "      <th>count</th>\n",
       "      <td>1084.000000</td>\n",
       "      <td>1084.000000</td>\n",
       "      <td>1084.000000</td>\n",
       "      <td>1084.000000</td>\n",
       "      <td>1084.000000</td>\n",
       "      <td>1084.000000</td>\n",
       "      <td>1084.000000</td>\n",
       "    </tr>\n",
       "    <tr>\n",
       "      <th>mean</th>\n",
       "      <td>734871.660645</td>\n",
       "      <td>9.202143</td>\n",
       "      <td>1329.896300</td>\n",
       "      <td>3.586907</td>\n",
       "      <td>966.301064</td>\n",
       "      <td>1.708664</td>\n",
       "      <td>0.157626</td>\n",
       "    </tr>\n",
       "    <tr>\n",
       "      <th>std</th>\n",
       "      <td>1.702169</td>\n",
       "      <td>2.440987</td>\n",
       "      <td>651.891091</td>\n",
       "      <td>1.327200</td>\n",
       "      <td>10.726246</td>\n",
       "      <td>0.900049</td>\n",
       "      <td>0.083030</td>\n",
       "    </tr>\n",
       "    <tr>\n",
       "      <th>min</th>\n",
       "      <td>734869.000000</td>\n",
       "      <td>2.359766</td>\n",
       "      <td>20.244591</td>\n",
       "      <td>1.110900</td>\n",
       "      <td>936.090027</td>\n",
       "      <td>0.084612</td>\n",
       "      <td>0.007806</td>\n",
       "    </tr>\n",
       "    <tr>\n",
       "      <th>25%</th>\n",
       "      <td>734870.081597</td>\n",
       "      <td>7.715399</td>\n",
       "      <td>841.778015</td>\n",
       "      <td>2.524590</td>\n",
       "      <td>959.427765</td>\n",
       "      <td>1.100525</td>\n",
       "      <td>0.101524</td>\n",
       "    </tr>\n",
       "    <tr>\n",
       "      <th>50%</th>\n",
       "      <td>734871.586806</td>\n",
       "      <td>9.404341</td>\n",
       "      <td>1425.161011</td>\n",
       "      <td>3.389690</td>\n",
       "      <td>962.698975</td>\n",
       "      <td>1.625313</td>\n",
       "      <td>0.149936</td>\n",
       "    </tr>\n",
       "    <tr>\n",
       "      <th>75%</th>\n",
       "      <td>734873.390625</td>\n",
       "      <td>10.868917</td>\n",
       "      <td>1907.983032</td>\n",
       "      <td>4.459400</td>\n",
       "      <td>973.227264</td>\n",
       "      <td>2.194796</td>\n",
       "      <td>0.202472</td>\n",
       "    </tr>\n",
       "    <tr>\n",
       "      <th>max</th>\n",
       "      <td>734874.611111</td>\n",
       "      <td>18.292830</td>\n",
       "      <td>2302.708008</td>\n",
       "      <td>9.993120</td>\n",
       "      <td>989.280029</td>\n",
       "      <td>8.215350</td>\n",
       "      <td>0.757873</td>\n",
       "    </tr>\n",
       "  </tbody>\n",
       "</table>\n",
       "</div>"
      ],
      "text/plain": [
       "            date_num           Ws          Pow         Temp     Pressure  \\\n",
       "count    1084.000000  1084.000000  1084.000000  1084.000000  1084.000000   \n",
       "mean   734871.660645     9.202143  1329.896300     3.586907   966.301064   \n",
       "std         1.702169     2.440987   651.891091     1.327200    10.726246   \n",
       "min    734869.000000     2.359766    20.244591     1.110900   936.090027   \n",
       "25%    734870.081597     7.715399   841.778015     2.524590   959.427765   \n",
       "50%    734871.586806     9.404341  1425.161011     3.389690   962.698975   \n",
       "75%    734873.390625    10.868917  1907.983032     4.459400   973.227264   \n",
       "max    734874.611111    18.292830  2302.708008     9.993120   989.280029   \n",
       "\n",
       "          distance       Pd1(%)  \n",
       "count  1084.000000  1084.000000  \n",
       "mean      1.708664     0.157626  \n",
       "std       0.900049     0.083030  \n",
       "min       0.084612     0.007806  \n",
       "25%       1.100525     0.101524  \n",
       "50%       1.625313     0.149936  \n",
       "75%       2.194796     0.202472  \n",
       "max       8.215350     0.757873  "
      ]
     },
     "execution_count": 62,
     "metadata": {},
     "output_type": "execute_result"
    }
   ],
   "source": [
    "df_row.describe()"
   ]
  },
  {
   "cell_type": "code",
   "execution_count": 63,
   "metadata": {},
   "outputs": [],
   "source": [
    "#Eliminate those data vectors, whose probability of occurrence is lower than a threshold value\n",
    "df10=df_row[df_row['Pd1(%)']>=0.025]"
   ]
  },
  {
   "cell_type": "code",
   "execution_count": 64,
   "metadata": {},
   "outputs": [
    {
     "data": {
      "text/plain": [
       "1084"
      ]
     },
     "execution_count": 64,
     "metadata": {},
     "output_type": "execute_result"
    }
   ],
   "source": [
    "df_row.shape[0]"
   ]
  },
  {
   "cell_type": "code",
   "execution_count": 65,
   "metadata": {},
   "outputs": [
    {
     "data": {
      "text/plain": [
       "1069"
      ]
     },
     "execution_count": 65,
     "metadata": {},
     "output_type": "execute_result"
    }
   ],
   "source": [
    "df10.shape[0]"
   ]
  },
  {
   "cell_type": "code",
   "execution_count": 66,
   "metadata": {},
   "outputs": [
    {
     "data": {
      "image/png": "[encoded data removed]",
      "text/plain": [
       "<Figure size 432x288 with 1 Axes>"
      ]
     },
     "metadata": {
      "needs_background": "light"
     },
     "output_type": "display_data"
    }
   ],
   "source": [
    "ax=df.plot(kind='scatter',x='Ws',y='Pow',color='red')\n",
    "df10.plot(ax=ax, kind='scatter',x='Ws',y='Pow',color='blue')\n",
    "ax.set_xlabel(\"Ws(m/s)\")\n",
    "ax.set_ylabel(\"Pow(%)\")\n",
    "#ax.left_ax.set_ylabel('Variance of log wages')\n",
    "#plt.legend(loc='best')\n",
    "\n",
    "plt.show()"
   ]
  },
  {
   "cell_type": "code",
   "execution_count": null,
   "metadata": {},
   "outputs": [],
   "source": []
  },
  {
   "cell_type": "code",
   "execution_count": 67,
   "metadata": {},
   "outputs": [],
   "source": [
    "#https://blog.csdn.net/V_lq6h/article/details/88647945"
   ]
  },
  {
   "cell_type": "code",
   "execution_count": 68,
   "metadata": {},
   "outputs": [],
   "source": [
    "#Wrong method: use the distance matrix obtained by the squareform function\n",
    "\n",
    "#from scipy.cluster.hierarchy import linkage\n",
    "\n",
    "#row_clusters=linkage(row_dist,method='complete',metric='euclidean')\n",
    "#The correct method: use the dense distance matrix\n",
    "\n",
    "#row_clusters=linkage(pdist(df,metric='euclidean'),method='complete')\n",
    "#The correct method: use the matrix format to enter\n",
    "\n",
    "#row_clusters=linkage(df.values,method='complete',metric='euclidean')"
   ]
  },
  {
   "cell_type": "code",
   "execution_count": 69,
   "metadata": {},
   "outputs": [],
   "source": [
    "#import scipy.cluster.hierarchy as sch\n",
    "#dendrogram = sch.dendrogram(sch.linkage(X, method  = \"ward\"))\n",
    "   "
   ]
  },
  {
   "cell_type": "code",
   "execution_count": 70,
   "metadata": {},
   "outputs": [],
   "source": [
    "import scipy.cluster.hierarchy as sch\n",
    "from scipy.cluster.hierarchy import linkage\n",
    "X = df4.iloc[:, [1,3]].values\n",
    "\n",
    "\n",
    "\n",
    "#row_clusters=linkage(pdist(X,metric='euclidean'),method='complete')"
   ]
  },
  {
   "cell_type": "code",
   "execution_count": 71,
   "metadata": {},
   "outputs": [],
   "source": [
    "#clusters\n",
    "#pd.DataFrame(row_clusters,columns=['row label 1','row label 2','distance','no. of items in clust.'],index=['cluster %d'%(i+1) for i in range(row_clusters.shape[0])])"
   ]
  },
  {
   "cell_type": "code",
   "execution_count": 72,
   "metadata": {},
   "outputs": [],
   "source": [
    "#from scipy.cluster.hierarchy import dendrogram\n",
    "\n",
    "#row_dendr=dendrogram(row_clusters,labels=labels)\n",
    "\n",
    "#plt.tight_layout()\n",
    "#plt.ylabel('Euclidean distance')\n",
    "\n",
    "#plt.show()"
   ]
  },
  {
   "cell_type": "code",
   "execution_count": 73,
   "metadata": {},
   "outputs": [
    {
     "name": "stdout",
     "output_type": "stream",
     "text": [
      "(3951, 2)\n"
     ]
    }
   ],
   "source": [
    "import numpy as np\n",
    "from scipy.cluster import hierarchy \n",
    "from scipy.spatial import distance\n",
    "\n",
    "X = df4.iloc[:, [2,3]].values\n",
    "\n",
    "y = distance.pdist(X, metric=\"euclidean\")\n",
    "y[np.isnan(y)] = 1\n",
    "\n",
    "out = hierarchy.linkage(y,method='ward')\n",
    "\n",
    "children = out[:, :2].astype(np.int)\n",
    "row_clusters=linkage(pdist(children,metric='euclidean'),method='ward')\n",
    "print(children.shape)"
   ]
  },
  {
   "cell_type": "code",
   "execution_count": 77,
   "metadata": {},
   "outputs": [
    {
     "data": {
      "image/png": "[encoded data removed]",
      "text/plain": [
       "<Figure size 432x288 with 1 Axes>"
      ]
     },
     "metadata": {
      "needs_background": "light"
     },
     "output_type": "display_data"
    }
   ],
   "source": [
    "import scipy.cluster.hierarchy as sch\n",
    "try:\n",
    "    dendrogram = sch.dendrogram(sch.linkage(children, method  = \"ward\"))\n",
    "    plt.title('Dendrogram')\n",
    "    plt.xlabel('Data')\n",
    "    plt.ylabel('Euclidean distances')\n",
    "    plt.show()\n",
    "except:\n",
    "  print(\"An exception occurred\")\n",
    "    "
   ]
  },
  {
   "cell_type": "code",
   "execution_count": 75,
   "metadata": {},
   "outputs": [],
   "source": [
    "from sklearn.cluster import AgglomerativeClustering \n",
    "hc = AgglomerativeClustering(n_clusters =4, affinity = 'euclidean', linkage ='ward')"
   ]
  },
  {
   "cell_type": "code",
   "execution_count": 76,
   "metadata": {},
   "outputs": [],
   "source": [
    "y_hc=hc.fit_predict(children)"
   ]
  },
  {
   "cell_type": "code",
   "execution_count": null,
   "metadata": {},
   "outputs": [],
   "source": [
    "X=children\n",
    "plt.scatter(X[y_hc==0, 0], X[y_hc==0, 1], s=100, c='red', label ='Cluster 1')\n",
    "plt.scatter(X[y_hc==1, 0], X[y_hc==1, 1], s=100, c='blue', label ='Cluster 2')\n",
    "plt.scatter(X[y_hc==2, 0], X[y_hc==2, 1], s=100, c='green', label ='Cluster 3')\n",
    "plt.scatter(X[y_hc==3, 0], X[y_hc==3, 1], s=100, c='cyan', label ='Cluster 4')\n",
    "#plt.scatter(X[y_hc==4, 0], X[y_hc==4, 1], s=100, c='magenta', label ='Cluster 5')\n",
    "plt.title('Clusters of Customers (Hierarchical Clustering Model)')\n",
    "plt.xlabel('ws')\n",
    "plt.ylabel('pow')\n",
    "plt.show()"
   ]
  },
  {
   "cell_type": "code",
   "execution_count": null,
   "metadata": {},
   "outputs": [],
   "source": []
  },
  {
   "cell_type": "code",
   "execution_count": 1596,
   "metadata": {},
   "outputs": [],
   "source": [
    "coordinatesCenter=[]\n",
    "\n",
    "def findCordinateCenter(xList,yList,coordinates):\n",
    "    xCenter= np.sum(xList)/len(xList)\n",
    "    yCenter= np.sum(yList)/len(yList)\n",
    "    coordinates.append(xCenter)\n",
    "    coordinates.append(yCenter)\n",
    "    return coordinates"
   ]
  },
  {
   "cell_type": "code",
   "execution_count": null,
   "metadata": {},
   "outputs": [],
   "source": [
    "#Cluster 1 red: Ws [5.8-12.5], Temp[1-5.5]\n",
    "df6=df4[(df4['Pow']>=2800)&(df4['Pow']<=6000)&(df4['Temp']>=2800)&(df4['Temp']<=7200)]\n",
    "print(df6.head())\n",
    "C1=findCordinateCenter(df6['Ws'],df6['Temp'],coordinatesCenter)\n",
    "print(C1)\n",
    "df6['distance'] = df6[['Ws', 'Temp']].sub(np.array(C1)).pow(2).sum(1).pow(0.5)"
   ]
  },
  {
   "cell_type": "code",
   "execution_count": 1558,
   "metadata": {},
   "outputs": [
    {
     "data": {
      "text/html": [
       "<div>\n",
       "<style scoped>\n",
       "    .dataframe tbody tr th:only-of-type {\n",
       "        vertical-align: middle;\n",
       "    }\n",
       "\n",
       "    .dataframe tbody tr th {\n",
       "        vertical-align: top;\n",
       "    }\n",
       "\n",
       "    .dataframe thead th {\n",
       "        text-align: right;\n",
       "    }\n",
       "</style>\n",
       "<table border=\"1\" class=\"dataframe\">\n",
       "  <thead>\n",
       "    <tr style=\"text-align: right;\">\n",
       "      <th></th>\n",
       "      <th>date_num</th>\n",
       "      <th>Ws</th>\n",
       "      <th>Pow</th>\n",
       "      <th>Temp</th>\n",
       "      <th>Pressure</th>\n",
       "      <th>distance</th>\n",
       "    </tr>\n",
       "  </thead>\n",
       "  <tbody>\n",
       "  </tbody>\n",
       "</table>\n",
       "</div>"
      ],
      "text/plain": [
       "Empty DataFrame\n",
       "Columns: [date_num, Ws, Pow, Temp, Pressure, distance]\n",
       "Index: []"
      ]
     },
     "execution_count": 1558,
     "metadata": {},
     "output_type": "execute_result"
    }
   ],
   "source": [
    "df6.head()"
   ]
  },
  {
   "cell_type": "code",
   "execution_count": 1559,
   "metadata": {},
   "outputs": [
    {
     "name": "stdout",
     "output_type": "stream",
     "text": [
      "        date_num         Ws          Pow     Temp    Pressure\n",
      "0  734869.000000   8.974833  1310.025024  6.57349  962.732971\n",
      "1  734869.006944   9.908769  1684.520996  6.62630  962.578003\n",
      "2  734869.013889   9.639434  1532.052002  6.81988  962.244019\n",
      "3  734869.020833  11.836330  1997.869995  6.93197  961.859985\n",
      "4  734869.027778  11.687170  2135.758057  6.98667  961.864014\n",
      "[7.272698374572932, 3.7762094650080775]\n"
     ]
    },
    {
     "name": "stderr",
     "output_type": "stream",
     "text": [
      "<ipython-input-1559-1820f925f57f>:7: SettingWithCopyWarning: \n",
      "A value is trying to be set on a copy of a slice from a DataFrame.\n",
      "Try using .loc[row_indexer,col_indexer] = value instead\n",
      "\n",
      "See the caveats in the documentation: https://pandas.pydata.org/pandas-docs/stable/user_guide/indexing.html#returning-a-view-versus-a-copy\n",
      "  df7['distance'] = df7[['Ws', 'Temp']].sub(np.array(C2)).pow(2).sum(1).pow(0.5)\n"
     ]
    }
   ],
   "source": [
    "#Cluster green: Ws [5.8-12.5], Temp[1-5.5]\n",
    "coordinatesCenter=[]\n",
    "df7=df4[(df4['Pow']>=0)&(df4['Pow']<=3000)&(df4['Temp']>=0)&(df4['Temp']<=45000)]\n",
    "print(df7.head())\n",
    "C2=findCordinateCenter(df7['Ws'],df7['Temp'],coordinatesCenter)\n",
    "print(C2)\n",
    "df7['distance'] = df7[['Ws', 'Temp']].sub(np.array(C2)).pow(2).sum(1).pow(0.5)"
   ]
  },
  {
   "cell_type": "code",
   "execution_count": 1560,
   "metadata": {},
   "outputs": [
    {
     "name": "stdout",
     "output_type": "stream",
     "text": [
      "Empty DataFrame\n",
      "Columns: [date_num, Ws, Pow, Temp, Pressure]\n",
      "Index: []\n",
      "[nan, nan]\n"
     ]
    },
    {
     "name": "stderr",
     "output_type": "stream",
     "text": [
      "<ipython-input-1556-3dc6b94436c4>:4: RuntimeWarning: invalid value encountered in double_scalars\n",
      "  xCenter= np.sum(xList)/len(xList)\n",
      "<ipython-input-1556-3dc6b94436c4>:5: RuntimeWarning: invalid value encountered in double_scalars\n",
      "  yCenter= np.sum(yList)/len(yList)\n"
     ]
    }
   ],
   "source": [
    "coordinatesCenter=[]\n",
    "#Cluster 1 cyan: Ws [5.8-12.5], Temp[1-5.5]\n",
    "df8=df4[(df4['Pow']>=4500)&(df4['Pow']<=8000)&(df4['Temp']>=5700)&(df4['Temp']<=8000)]\n",
    "print(df8.head())\n",
    "C3=findCordinateCenter(df8['Ws'],df8['Temp'],coordinatesCenter)\n",
    "print(C3)\n",
    "df8['distance'] = df8[['Ws', 'Temp']].sub(np.array(C3)).pow(2).sum(1).pow(0.5)"
   ]
  },
  {
   "cell_type": "code",
   "execution_count": 1561,
   "metadata": {},
   "outputs": [
    {
     "name": "stdout",
     "output_type": "stream",
     "text": [
      "Empty DataFrame\n",
      "Columns: [date_num, Ws, Pow, Temp, Pressure]\n",
      "Index: []\n",
      "[nan, nan]\n"
     ]
    },
    {
     "name": "stderr",
     "output_type": "stream",
     "text": [
      "<ipython-input-1556-3dc6b94436c4>:4: RuntimeWarning: invalid value encountered in double_scalars\n",
      "  xCenter= np.sum(xList)/len(xList)\n",
      "<ipython-input-1556-3dc6b94436c4>:5: RuntimeWarning: invalid value encountered in double_scalars\n",
      "  yCenter= np.sum(yList)/len(yList)\n"
     ]
    }
   ],
   "source": [
    "coordinatesCenter=[]\n",
    "#Cluster 1 blue: Ws [5.8-12.5], Temp[1-5.5]\n",
    "df9=df4[(df4['Pow']>=0)&(df4['Pow']<=3500)&(df4['Temp']>=4000)&(df4['Temp']<=7000)]\n",
    "print(df9.head())\n",
    "C4=findCordinateCenter(df6['Ws'],df6['Temp'],coordinatesCenter)\n",
    "print(C4)\n",
    "df9['distance'] = df9[['Ws', 'Temp']].sub(np.array(C4)).pow(2).sum(1).pow(0.5)"
   ]
  },
  {
   "cell_type": "code",
   "execution_count": 1599,
   "metadata": {},
   "outputs": [],
   "source": [
    "df_row = pd.concat([df6, df7,df8,df9])\n"
   ]
  },
  {
   "cell_type": "code",
   "execution_count": 1600,
   "metadata": {},
   "outputs": [
    {
     "name": "stdout",
     "output_type": "stream",
     "text": [
      "2678651847.4375005\n"
     ]
    }
   ],
   "source": [
    "num_tot=df_row['date_num'].sum()\n",
    "print(num_tot)"
   ]
  },
  {
   "cell_type": "code",
   "execution_count": 1601,
   "metadata": {},
   "outputs": [],
   "source": [
    "df_row['Pd1(%)'] =(df_row['distance']*df_row['date_num']*100)/num_tot\n"
   ]
  },
  {
   "cell_type": "code",
   "execution_count": 1602,
   "metadata": {},
   "outputs": [
    {
     "data": {
      "text/html": [
       "<div>\n",
       "<style scoped>\n",
       "    .dataframe tbody tr th:only-of-type {\n",
       "        vertical-align: middle;\n",
       "    }\n",
       "\n",
       "    .dataframe tbody tr th {\n",
       "        vertical-align: top;\n",
       "    }\n",
       "\n",
       "    .dataframe thead th {\n",
       "        text-align: right;\n",
       "    }\n",
       "</style>\n",
       "<table border=\"1\" class=\"dataframe\">\n",
       "  <thead>\n",
       "    <tr style=\"text-align: right;\">\n",
       "      <th></th>\n",
       "      <th>date_num</th>\n",
       "      <th>Ws</th>\n",
       "      <th>Pow</th>\n",
       "      <th>Temp</th>\n",
       "      <th>Pressure</th>\n",
       "      <th>distance</th>\n",
       "      <th>Pd1(%)</th>\n",
       "    </tr>\n",
       "  </thead>\n",
       "  <tbody>\n",
       "    <tr>\n",
       "      <th>count</th>\n",
       "      <td>3645.000000</td>\n",
       "      <td>3645.000000</td>\n",
       "      <td>3645.000000</td>\n",
       "      <td>3645.000000</td>\n",
       "      <td>3645.000000</td>\n",
       "      <td>3645.000000</td>\n",
       "      <td>3645.000000</td>\n",
       "    </tr>\n",
       "    <tr>\n",
       "      <th>mean</th>\n",
       "      <td>734883.908762</td>\n",
       "      <td>7.272698</td>\n",
       "      <td>836.578275</td>\n",
       "      <td>3.776209</td>\n",
       "      <td>981.237354</td>\n",
       "      <td>3.462372</td>\n",
       "      <td>0.094990</td>\n",
       "    </tr>\n",
       "    <tr>\n",
       "      <th>std</th>\n",
       "      <td>8.933130</td>\n",
       "      <td>3.095980</td>\n",
       "      <td>749.075581</td>\n",
       "      <td>2.270072</td>\n",
       "      <td>11.978783</td>\n",
       "      <td>1.657410</td>\n",
       "      <td>0.045471</td>\n",
       "    </tr>\n",
       "    <tr>\n",
       "      <th>min</th>\n",
       "      <td>734869.000000</td>\n",
       "      <td>1.821097</td>\n",
       "      <td>10.138330</td>\n",
       "      <td>0.000646</td>\n",
       "      <td>936.090027</td>\n",
       "      <td>0.040352</td>\n",
       "      <td>0.001107</td>\n",
       "    </tr>\n",
       "    <tr>\n",
       "      <th>25%</th>\n",
       "      <td>734876.097222</td>\n",
       "      <td>4.737313</td>\n",
       "      <td>129.126404</td>\n",
       "      <td>1.916840</td>\n",
       "      <td>973.822998</td>\n",
       "      <td>2.267006</td>\n",
       "      <td>0.062194</td>\n",
       "    </tr>\n",
       "    <tr>\n",
       "      <th>50%</th>\n",
       "      <td>734884.687500</td>\n",
       "      <td>6.901833</td>\n",
       "      <td>599.739990</td>\n",
       "      <td>3.722590</td>\n",
       "      <td>982.544006</td>\n",
       "      <td>3.399079</td>\n",
       "      <td>0.093251</td>\n",
       "    </tr>\n",
       "    <tr>\n",
       "      <th>75%</th>\n",
       "      <td>734891.597222</td>\n",
       "      <td>9.476461</td>\n",
       "      <td>1494.094971</td>\n",
       "      <td>5.418560</td>\n",
       "      <td>990.765991</td>\n",
       "      <td>4.413479</td>\n",
       "      <td>0.121085</td>\n",
       "    </tr>\n",
       "    <tr>\n",
       "      <th>max</th>\n",
       "      <td>734899.868056</td>\n",
       "      <td>18.339830</td>\n",
       "      <td>2302.708008</td>\n",
       "      <td>9.993120</td>\n",
       "      <td>1001.140015</td>\n",
       "      <td>12.652797</td>\n",
       "      <td>0.347122</td>\n",
       "    </tr>\n",
       "  </tbody>\n",
       "</table>\n",
       "</div>"
      ],
      "text/plain": [
       "            date_num           Ws          Pow         Temp     Pressure  \\\n",
       "count    3645.000000  3645.000000  3645.000000  3645.000000  3645.000000   \n",
       "mean   734883.908762     7.272698   836.578275     3.776209   981.237354   \n",
       "std         8.933130     3.095980   749.075581     2.270072    11.978783   \n",
       "min    734869.000000     1.821097    10.138330     0.000646   936.090027   \n",
       "25%    734876.097222     4.737313   129.126404     1.916840   973.822998   \n",
       "50%    734884.687500     6.901833   599.739990     3.722590   982.544006   \n",
       "75%    734891.597222     9.476461  1494.094971     5.418560   990.765991   \n",
       "max    734899.868056    18.339830  2302.708008     9.993120  1001.140015   \n",
       "\n",
       "          distance       Pd1(%)  \n",
       "count  3645.000000  3645.000000  \n",
       "mean      3.462372     0.094990  \n",
       "std       1.657410     0.045471  \n",
       "min       0.040352     0.001107  \n",
       "25%       2.267006     0.062194  \n",
       "50%       3.399079     0.093251  \n",
       "75%       4.413479     0.121085  \n",
       "max      12.652797     0.347122  "
      ]
     },
     "execution_count": 1602,
     "metadata": {},
     "output_type": "execute_result"
    }
   ],
   "source": [
    "df_row.describe()"
   ]
  },
  {
   "cell_type": "code",
   "execution_count": 1603,
   "metadata": {},
   "outputs": [
    {
     "data": {
      "text/plain": [
       "3645"
      ]
     },
     "execution_count": 1603,
     "metadata": {},
     "output_type": "execute_result"
    }
   ],
   "source": [
    "df_row.shape[0]"
   ]
  },
  {
   "cell_type": "code",
   "execution_count": 1604,
   "metadata": {},
   "outputs": [],
   "source": [
    "#Eliminate those data vectors, whose probability of occurrence is lower than a threshold value\n",
    "df10=df_row[df_row['Pd1(%)']>=0.025]"
   ]
  },
  {
   "cell_type": "code",
   "execution_count": 1605,
   "metadata": {},
   "outputs": [
    {
     "data": {
      "text/plain": [
       "3488"
      ]
     },
     "execution_count": 1605,
     "metadata": {},
     "output_type": "execute_result"
    }
   ],
   "source": [
    "df10.shape[0]"
   ]
  },
  {
   "cell_type": "code",
   "execution_count": 1606,
   "metadata": {},
   "outputs": [
    {
     "data": {
      "image/png": "[encoded data removed]",
      "text/plain": [
       "<Figure size 432x288 with 1 Axes>"
      ]
     },
     "metadata": {
      "needs_background": "light"
     },
     "output_type": "display_data"
    }
   ],
   "source": [
    "ax=df.plot(kind='scatter',x='Ws',y='Pow',color='red')\n",
    "df10.plot(ax=ax, kind='scatter',x='Ws',y='Pow',color='blue')\n",
    "ax.set_xlabel(\"Ws(m/s)\")\n",
    "ax.set_ylabel(\"Pow\")\n",
    "#ax.left_ax.set_ylabel('Variance of log wages')\n",
    "#plt.legend(loc='best')\n",
    "\n",
    "plt.show()"
   ]
  },
  {
   "cell_type": "code",
   "execution_count": null,
   "metadata": {},
   "outputs": [],
   "source": []
  }
 ],
 "metadata": {
  "kernelspec": {
   "display_name": "Python 3",
   "language": "python",
   "name": "python3"
  },
  "language_info": {
   "codemirror_mode": {
    "name": "ipython",
    "version": 3
   },
   "file_extension": ".py",
   "mimetype": "text/x-python",
   "name": "python",
   "nbconvert_exporter": "python",
   "pygments_lexer": "ipython3",
   "version": "3.8.3"
  }
 },
 "nbformat": 4,
 "nbformat_minor": 4
}
