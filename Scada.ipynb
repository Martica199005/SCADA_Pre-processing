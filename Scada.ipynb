{
 "cells": [
  {
   "cell_type": "code",
   "execution_count": 329,
   "metadata": {},
   "outputs": [],
   "source": [
    "%matplotlib inline\n",
    "import numpy as np\n",
    "import pandas as pd\n",
    "import matplotlib.pyplot as plt\n",
    "import scipy\n",
    "from scipy.cluster.hierarchy import dendrogram, linkage\n",
    "from scipy.cluster.hierarchy import fcluster\n",
    "from scipy.cluster.hierarchy import cophenet\n",
    "from scipy.spatial.distance import pdist\n",
    "\n",
    "from pylab import rcParams\n",
    "import sklearn "
   ]
  },
  {
   "cell_type": "code",
   "execution_count": 330,
   "metadata": {},
   "outputs": [],
   "source": [
    "pd.options.mode.chained_assignment = None  # default='warn'"
   ]
  },
  {
   "cell_type": "code",
   "execution_count": 331,
   "metadata": {},
   "outputs": [],
   "source": [
    "df=pd.read_excel(\"rK3g26ERseWlQI7rj1yw_Table_1.xlsx\")"
   ]
  },
  {
   "cell_type": "code",
   "execution_count": 332,
   "metadata": {},
   "outputs": [],
   "source": [
    "max_value = df['Pow'].max()\n",
    "min_value = df['Pow'].min()"
   ]
  },
  {
   "cell_type": "code",
   "execution_count": 333,
   "metadata": {},
   "outputs": [],
   "source": [
    "#Insert the new column normalized power(%)"
   ]
  },
  {
   "cell_type": "code",
   "execution_count": 334,
   "metadata": {},
   "outputs": [],
   "source": [
    "df.insert(6, \"NPow\", (df.Pow-min_value)/(max_value-min_value), True)"
   ]
  },
  {
   "cell_type": "code",
   "execution_count": 335,
   "metadata": {},
   "outputs": [],
   "source": [
    "df.insert(7, \"NPow(%)\", 100*df.NPow, True)"
   ]
  },
  {
   "cell_type": "code",
   "execution_count": 336,
   "metadata": {},
   "outputs": [
    {
     "data": {
      "text/html": [
       "<div>\n",
       "<style scoped>\n",
       "    .dataframe tbody tr th:only-of-type {\n",
       "        vertical-align: middle;\n",
       "    }\n",
       "\n",
       "    .dataframe tbody tr th {\n",
       "        vertical-align: top;\n",
       "    }\n",
       "\n",
       "    .dataframe thead th {\n",
       "        text-align: right;\n",
       "    }\n",
       "</style>\n",
       "<table border=\"1\" class=\"dataframe\">\n",
       "  <thead>\n",
       "    <tr style=\"text-align: right;\">\n",
       "      <th></th>\n",
       "      <th>Time_stamp</th>\n",
       "      <th>date_num</th>\n",
       "      <th>Ws</th>\n",
       "      <th>Pow</th>\n",
       "      <th>Temp</th>\n",
       "      <th>Pressure</th>\n",
       "      <th>NPow</th>\n",
       "      <th>NPow(%)</th>\n",
       "    </tr>\n",
       "  </thead>\n",
       "  <tbody>\n",
       "    <tr>\n",
       "      <th>0</th>\n",
       "      <td>'2012-01-01 00:00:00'</td>\n",
       "      <td>734869.000000</td>\n",
       "      <td>8.974833</td>\n",
       "      <td>1310.025024</td>\n",
       "      <td>6.57349</td>\n",
       "      <td>962.732971</td>\n",
       "      <td>0.576746</td>\n",
       "      <td>57.674591</td>\n",
       "    </tr>\n",
       "    <tr>\n",
       "      <th>1</th>\n",
       "      <td>'2012-01-01 00:10:00'</td>\n",
       "      <td>734869.006944</td>\n",
       "      <td>9.908769</td>\n",
       "      <td>1684.520996</td>\n",
       "      <td>6.62630</td>\n",
       "      <td>962.578003</td>\n",
       "      <td>0.736421</td>\n",
       "      <td>73.642121</td>\n",
       "    </tr>\n",
       "    <tr>\n",
       "      <th>2</th>\n",
       "      <td>'2012-01-01 00:20:00'</td>\n",
       "      <td>734869.013889</td>\n",
       "      <td>9.639434</td>\n",
       "      <td>1532.052002</td>\n",
       "      <td>6.81988</td>\n",
       "      <td>962.244019</td>\n",
       "      <td>0.671412</td>\n",
       "      <td>67.141241</td>\n",
       "    </tr>\n",
       "    <tr>\n",
       "      <th>3</th>\n",
       "      <td>'2012-01-01 00:30:00'</td>\n",
       "      <td>734869.020833</td>\n",
       "      <td>11.836330</td>\n",
       "      <td>1997.869995</td>\n",
       "      <td>6.93197</td>\n",
       "      <td>961.859985</td>\n",
       "      <td>0.870025</td>\n",
       "      <td>87.002503</td>\n",
       "    </tr>\n",
       "    <tr>\n",
       "      <th>4</th>\n",
       "      <td>'2012-01-01 00:40:00'</td>\n",
       "      <td>734869.027778</td>\n",
       "      <td>11.687170</td>\n",
       "      <td>2135.758057</td>\n",
       "      <td>6.98667</td>\n",
       "      <td>961.864014</td>\n",
       "      <td>0.928817</td>\n",
       "      <td>92.881690</td>\n",
       "    </tr>\n",
       "  </tbody>\n",
       "</table>\n",
       "</div>"
      ],
      "text/plain": [
       "              Time_stamp       date_num         Ws          Pow     Temp  \\\n",
       "0  '2012-01-01 00:00:00'  734869.000000   8.974833  1310.025024  6.57349   \n",
       "1  '2012-01-01 00:10:00'  734869.006944   9.908769  1684.520996  6.62630   \n",
       "2  '2012-01-01 00:20:00'  734869.013889   9.639434  1532.052002  6.81988   \n",
       "3  '2012-01-01 00:30:00'  734869.020833  11.836330  1997.869995  6.93197   \n",
       "4  '2012-01-01 00:40:00'  734869.027778  11.687170  2135.758057  6.98667   \n",
       "\n",
       "     Pressure      NPow    NPow(%)  \n",
       "0  962.732971  0.576746  57.674591  \n",
       "1  962.578003  0.736421  73.642121  \n",
       "2  962.244019  0.671412  67.141241  \n",
       "3  961.859985  0.870025  87.002503  \n",
       "4  961.864014  0.928817  92.881690  "
      ]
     },
     "execution_count": 336,
     "metadata": {},
     "output_type": "execute_result"
    }
   ],
   "source": [
    "df.head()"
   ]
  },
  {
   "cell_type": "code",
   "execution_count": null,
   "metadata": {},
   "outputs": [],
   "source": []
  },
  {
   "cell_type": "markdown",
   "metadata": {},
   "source": [
    "# Data Pre-processing"
   ]
  },
  {
   "cell_type": "code",
   "execution_count": 337,
   "metadata": {},
   "outputs": [],
   "source": [
    "#Data points where maximum wind speed has reached more than 25 m/s are also filtered out\n"
   ]
  },
  {
   "cell_type": "code",
   "execution_count": 338,
   "metadata": {},
   "outputs": [],
   "source": [
    "if df['Ws'].max()>25:\n",
    "    df=df[df['Ws']<=25]"
   ]
  },
  {
   "cell_type": "code",
   "execution_count": 339,
   "metadata": {},
   "outputs": [],
   "source": [
    "#samples with missing values or no power production are filtered out"
   ]
  },
  {
   "cell_type": "code",
   "execution_count": 340,
   "metadata": {},
   "outputs": [],
   "source": [
    "df1=df.dropna()"
   ]
  },
  {
   "cell_type": "code",
   "execution_count": 341,
   "metadata": {},
   "outputs": [],
   "source": [
    "#a lower limit of output power is set at 0 kW for data sample selection.\n",
    "df2= df1[df1['Pow'] >= 10]  \n"
   ]
  },
  {
   "cell_type": "code",
   "execution_count": 342,
   "metadata": {},
   "outputs": [],
   "source": [
    "\n",
    "#cluster filter is applied on the training data and aims to remove outliers depending on the operating conditions \n",
    "#of the wind turbine.\n",
    "#A multivariate outlier detection approach based on Mahalanobis distance is used in "
   ]
  },
  {
   "cell_type": "code",
   "execution_count": 343,
   "metadata": {},
   "outputs": [],
   "source": [
    "#Time_stamp column not used\n",
    "df3=df2[['date_num', 'Ws', 'Pow', 'Temp', 'Pressure', 'NPow',\n",
    "       'NPow(%)']]\n",
    "\n"
   ]
  },
  {
   "cell_type": "code",
   "execution_count": 344,
   "metadata": {},
   "outputs": [
    {
     "data": {
      "text/plain": [
       "Index(['date_num', 'Ws', 'Pow', 'Temp', 'Pressure', 'NPow', 'NPow(%)'], dtype='object')"
      ]
     },
     "execution_count": 344,
     "metadata": {},
     "output_type": "execute_result"
    }
   ],
   "source": [
    "df3.columns"
   ]
  },
  {
   "cell_type": "code",
   "execution_count": 345,
   "metadata": {},
   "outputs": [
    {
     "data": {
      "text/plain": [
       "(3898, 7)"
      ]
     },
     "execution_count": 345,
     "metadata": {},
     "output_type": "execute_result"
    }
   ],
   "source": [
    "df3.shape"
   ]
  },
  {
   "cell_type": "code",
   "execution_count": 346,
   "metadata": {},
   "outputs": [
    {
     "name": "stdout",
     "output_type": "stream",
     "text": [
      "(3897, 4)\n"
     ]
    }
   ],
   "source": [
    "#Find clusters\n",
    "\n",
    "import numpy as np\n",
    "from scipy.cluster import hierarchy \n",
    "from scipy.spatial import distance\n",
    "\n",
    "X = df3.iloc[:, [1,3]].values\n",
    "#Ws and Temperature ranges\n",
    "\n",
    "row_clusters=linkage(pdist(X,metric='euclidean'),method='ward')\n",
    "print(row_clusters.shape)\n",
    "\n",
    "#y = distance.pdist(X, metric=\"euclidean\")\n",
    "#y[np.isnan(y)] = 1\n",
    "\n",
    "#out = hierarchy.linkage(y,method='ward')\n",
    "\n",
    "#children = out[:, :2].astype(np.int)\n",
    "#row_clusters=linkage(pdist(children,metric='euclidean'),method='ward')\n",
    "#print(children.shape)"
   ]
  },
  {
   "cell_type": "code",
   "execution_count": 347,
   "metadata": {},
   "outputs": [
    {
     "data": {
      "image/png": "[encoded data removed]",
      "text/plain": [
       "<Figure size 432x288 with 1 Axes>"
      ]
     },
     "metadata": {
      "needs_background": "light"
     },
     "output_type": "display_data"
    }
   ],
   "source": [
    "#Show dendrogram to see how many clusters\n",
    "import scipy.cluster.hierarchy as sch\n",
    "\n",
    "children=row_clusters\n",
    "\n",
    "try:\n",
    "    dendrogram = sch.dendrogram(sch.linkage(children, method  = \"ward\"))\n",
    "    plt.title('Dendrogram')\n",
    "    plt.xlabel('Data')\n",
    "    plt.ylabel('Euclidean distances')\n",
    "    plt.show()\n",
    "except:\n",
    "  print(\"An exception occurred\")\n",
    "    "
   ]
  },
  {
   "cell_type": "code",
   "execution_count": 349,
   "metadata": {},
   "outputs": [],
   "source": [
    "a=len(dendrogram)"
   ]
  },
  {
   "cell_type": "code",
   "execution_count": 425,
   "metadata": {},
   "outputs": [],
   "source": [
    "#max num 3\n",
    "N_clusters=3\n",
    "count=0"
   ]
  },
  {
   "cell_type": "code",
   "execution_count": 426,
   "metadata": {},
   "outputs": [],
   "source": [
    "if a>0:\n",
    "    exists=True\n",
    "else:\n",
    "    exists=False"
   ]
  },
  {
   "cell_type": "code",
   "execution_count": 427,
   "metadata": {},
   "outputs": [],
   "source": [
    "from sklearn.cluster import AgglomerativeClustering \n",
    "\n",
    "hc = AgglomerativeClustering(n_clusters =N_clusters, affinity = 'euclidean', linkage ='ward')"
   ]
  },
  {
   "cell_type": "code",
   "execution_count": 428,
   "metadata": {},
   "outputs": [],
   "source": [
    "y_hc=hc.fit_predict(children)"
   ]
  },
  {
   "cell_type": "code",
   "execution_count": 429,
   "metadata": {},
   "outputs": [
    {
     "data": {
      "text/plain": [
       "Text(0, 0.5, 'Temp')"
      ]
     },
     "execution_count": 429,
     "metadata": {},
     "output_type": "execute_result"
    },
    {
     "data": {
      "image/png": "[encoded data removed]",
      "text/plain": [
       "<Figure size 432x288 with 1 Axes>"
      ]
     },
     "metadata": {
      "needs_background": "light"
     },
     "output_type": "display_data"
    }
   ],
   "source": [
    "X=children\n",
    "plt.scatter(X[y_hc==0, 0], X[y_hc==0, 1], s=100, c='red', label ='Cluster 1')\n",
    "plt.scatter(X[y_hc==1, 0], X[y_hc==1, 1], s=100, c='blue', label ='Cluster 2')\n",
    "plt.scatter(X[y_hc==2, 0], X[y_hc==2, 1], s=100, c='green', label ='Cluster 3')\n",
    "\n",
    "\n",
    "plt.title('Clusters of Customers (Hierarchical Clustering Model)')\n",
    "plt.xlabel('Ws')\n",
    "plt.ylabel('Temp')\n",
    "#plt.show()"
   ]
  },
  {
   "cell_type": "code",
   "execution_count": 430,
   "metadata": {},
   "outputs": [],
   "source": [
    "def is_pos_def(A):\n",
    "    '''define if the matrix is positive definite'''\n",
    "    if np.allclose(A, A.T):\n",
    "        try:\n",
    "            np.linalg.cholesky(A)\n",
    "            return True\n",
    "        except np.linalg.LinAlgError:\n",
    "            return False\n",
    "    else:\n",
    "        return False\n",
    "\n",
    "\n",
    "def MahalanobisDist(data,verbose=False):\n",
    "    '''calculates Mahalanobis distance from the mean value'''\n",
    "    covariance_matrix = np.cov(data, rowvar=False)\n",
    "    if is_pos_def(covariance_matrix):\n",
    "        inv_covariance_matrix = np.linalg.inv(covariance_matrix)\n",
    "        if is_pos_def(inv_covariance_matrix):\n",
    "            vars_mean = []\n",
    "            for i in range(data.shape[0]):\n",
    "                vars_mean.append(list(data.mean(axis=0)))\n",
    "            \n",
    "            diff = data - vars_mean\n",
    "            md = []\n",
    "            for i in range(len(diff)):\n",
    "                md.append(np.sqrt(diff[i].dot(inv_covariance_matrix).dot(diff[i])))\n",
    "\n",
    "            if verbose:\n",
    "                print(\"Covariance Matrix:\\n {}\\n\".format(covariance_matrix))\n",
    "                print(\"Inverse of Covariance Matrix:\\n {}\\n\".format(inv_covariance_matrix))\n",
    "                print(\"Variables Mean Vector:\\n {}\\n\".format(vars_mean))\n",
    "                print(\"Variables - Variables Mean Vector:\\n {}\\n\".format(diff))\n",
    "                print(\"Mahalanobis Distance:\\n {}\\n\".format(md))\n",
    "            return md\n",
    "        else:\n",
    "            print(\"2 Error: Inverse of Covariance Matrix is not positive definite!\")\n",
    "            return md\n",
    "    else:\n",
    "        print(\"1 Error: Covariance Matrix is not positive definite!\")\n",
    "        return md"
   ]
  },
  {
   "cell_type": "code",
   "execution_count": 431,
   "metadata": {},
   "outputs": [],
   "source": [
    "def cluster(count,df3):\n",
    "    ''' Find the cluster interval of Ws and Temp'''\n",
    "        print('Cluster'+str(count+1))\n",
    "        a=[]\n",
    "        b=[]\n",
    "        a=X[y_hc==count, 0]\n",
    "        b=X[y_hc==count, 1]\n",
    "\n",
    "        df4= pd.DataFrame({'Ws': a, 'Temp':b})\n",
    "        df1_c1=df3[(df3['Ws']>=df4['Ws'].min())]\n",
    "        df1_c2=df3[(df3['Ws']<=df4['Ws'].max())]\n",
    "        df1_c=pd.concat([df1_c1,df1_c2])\n",
    "        return df1_c"
   ]
  },
  {
   "cell_type": "code",
   "execution_count": 432,
   "metadata": {},
   "outputs": [],
   "source": [
    "def insertColumns(result,data,pos):\n",
    "    ''' Insert inside the dataframe the distance calculated and the probability density'''\n",
    "            data.insert(pos, \"dist\", result, True)\n",
    "            num_tot=data['date_num'].sum()\n",
    "            data.insert(pos+1,'Pd(%)',((data['dist']*data['date_num']*100)/num_tot), True)\n",
    "            return data"
   ]
  },
  {
   "cell_type": "code",
   "execution_count": 433,
   "metadata": {},
   "outputs": [
    {
     "data": {
      "text/plain": [
       "(3898, 7)"
      ]
     },
     "execution_count": 433,
     "metadata": {},
     "output_type": "execute_result"
    }
   ],
   "source": [
    "df3.shape"
   ]
  },
  {
   "cell_type": "code",
   "execution_count": 434,
   "metadata": {},
   "outputs": [],
   "source": [
    "count=0"
   ]
  },
  {
   "cell_type": "code",
   "execution_count": 435,
   "metadata": {},
   "outputs": [],
   "source": [
    "pd_list=[]"
   ]
  },
  {
   "cell_type": "code",
   "execution_count": null,
   "metadata": {},
   "outputs": [],
   "source": []
  },
  {
   "cell_type": "code",
   "execution_count": 436,
   "metadata": {},
   "outputs": [
    {
     "name": "stdout",
     "output_type": "stream",
     "text": [
      "Cluster1\n"
     ]
    },
    {
     "name": "stderr",
     "output_type": "stream",
     "text": [
      "<ipython-input-436-70ba8e72c47e>:5: UserWarning: Boolean Series key will be reindexed to match DataFrame index.\n",
      "  data=df4[(df3['Temp']>=0)]\n"
     ]
    },
    {
     "name": "stdout",
     "output_type": "stream",
     "text": [
      "5098\n",
      "Cluster2\n",
      "3645\n",
      "Cluster3\n",
      "7290\n"
     ]
    }
   ],
   "source": [
    "#Gives the list of dataframe for each cluster, in this case for T>=0\n",
    "\n",
    "while count<N_clusters and exists:\n",
    "    try:\n",
    "        df4=cluster(count,df3)\n",
    "        if df4.shape[0]>0:\n",
    "            data=df4[(df3['Temp']>=0)]\n",
    "            data1=data[['Ws','Temp']]\n",
    "\n",
    "            list_df=data1.to_numpy()\n",
    "\n",
    "            result=MahalanobisDist(list_df,verbose=False)\n",
    "            if len(result)>0:\n",
    "                pos=list_df.shape[1]\n",
    "                data=insertColumns(result,data,pos)\n",
    "                print(data.shape[0])\n",
    "                pd_list.append(data)\n",
    "                count=count+1\n",
    "        else:\n",
    "            count=count+1\n",
    "            print(df4.shape[0])\n",
    "            \n",
    "    except:\n",
    "        print('error')\n",
    "        break"
   ]
  },
  {
   "cell_type": "code",
   "execution_count": 437,
   "metadata": {},
   "outputs": [
    {
     "name": "stdout",
     "output_type": "stream",
     "text": [
      "3\n"
     ]
    }
   ],
   "source": [
    "print(len(pd_list))"
   ]
  },
  {
   "cell_type": "code",
   "execution_count": 438,
   "metadata": {},
   "outputs": [
    {
     "name": "stdout",
     "output_type": "stream",
     "text": [
      "Cluster1\n",
      "253\n",
      "Cluster2\n",
      "253\n",
      "Cluster3\n",
      "506\n"
     ]
    },
    {
     "name": "stderr",
     "output_type": "stream",
     "text": [
      "<ipython-input-438-c4106df96bc6>:7: UserWarning: Boolean Series key will be reindexed to match DataFrame index.\n",
      "  data=df4[(df3['Temp']<0)]\n"
     ]
    }
   ],
   "source": [
    "#Gives the list of dataframe for each cluster, in this case for T<0\n",
    "count=0\n",
    "pd_list_l=[]\n",
    "while count<N_clusters and exists:\n",
    "    try:\n",
    "        df4=cluster(count,df3)\n",
    "        if df4.shape[0]>0:\n",
    "            data=df4[(df3['Temp']<0)]\n",
    "            data1=data[['Ws','Temp']]\n",
    "\n",
    "            list_df=data1.to_numpy()\n",
    "\n",
    "            result=MahalanobisDist(list_df,verbose=False)\n",
    "            if len(result)>0:\n",
    "                pos=list_df.shape[1]\n",
    "                data=insertColumns(result,data,pos)\n",
    "                print(data.shape[0])\n",
    "                pd_list_l.append(data)\n",
    "                count=count+1\n",
    "        else:\n",
    "            count=count+1\n",
    "            print(df4.shape[0])\n",
    "            \n",
    "    except:\n",
    "        print('error')\n",
    "        count=count+1"
   ]
  },
  {
   "cell_type": "code",
   "execution_count": 606,
   "metadata": {},
   "outputs": [],
   "source": [
    "min_threshold=0.025"
   ]
  },
  {
   "cell_type": "code",
   "execution_count": null,
   "metadata": {},
   "outputs": [],
   "source": []
  },
  {
   "cell_type": "code",
   "execution_count": null,
   "metadata": {},
   "outputs": [],
   "source": []
  },
  {
   "cell_type": "code",
   "execution_count": null,
   "metadata": {},
   "outputs": [],
   "source": []
  },
  {
   "cell_type": "code",
   "execution_count": null,
   "metadata": {},
   "outputs": [],
   "source": [
    "#concatenate each resulting dataframe"
   ]
  },
  {
   "cell_type": "code",
   "execution_count": 607,
   "metadata": {},
   "outputs": [
    {
     "name": "stdout",
     "output_type": "stream",
     "text": [
      "16033\n"
     ]
    }
   ],
   "source": [
    "\n",
    "df_end=pd.concat(pd_list)\n",
    "print(df_end.shape[0])"
   ]
  },
  {
   "cell_type": "code",
   "execution_count": null,
   "metadata": {},
   "outputs": [],
   "source": []
  },
  {
   "cell_type": "code",
   "execution_count": 608,
   "metadata": {},
   "outputs": [],
   "source": [
    "if df_end.shape[0]>0:\n",
    "    df_end1=df_end[df_end['Pd(%)']>min_threshold]"
   ]
  },
  {
   "cell_type": "code",
   "execution_count": null,
   "metadata": {},
   "outputs": [],
   "source": [
    "#plot for T>0"
   ]
  },
  {
   "cell_type": "code",
   "execution_count": 609,
   "metadata": {},
   "outputs": [
    {
     "data": {
      "image/png": "[encoded data removed]",
      "text/plain": [
       "<Figure size 432x288 with 1 Axes>"
      ]
     },
     "metadata": {
      "needs_background": "light"
     },
     "output_type": "display_data"
    }
   ],
   "source": [
    "ax=df.plot(kind='scatter',x='Ws',y='NPow(%)',color='red')\n",
    "df_end1.plot(ax=ax, kind='scatter',x='Ws',y='NPow(%)',color='blue')\n",
    "ax.set_xlabel(\"Ws(m/s)\")\n",
    "ax.set_ylabel(\"NPow(%)\")\n",
    "\n",
    "\n",
    "plt.show()"
   ]
  },
  {
   "cell_type": "code",
   "execution_count": null,
   "metadata": {},
   "outputs": [],
   "source": []
  },
  {
   "cell_type": "code",
   "execution_count": 629,
   "metadata": {},
   "outputs": [],
   "source": [
    "#total data"
   ]
  },
  {
   "cell_type": "code",
   "execution_count": 630,
   "metadata": {},
   "outputs": [],
   "source": [
    "df_end_tot=pd.concat([df_end,df_end2])"
   ]
  },
  {
   "cell_type": "code",
   "execution_count": 633,
   "metadata": {},
   "outputs": [
    {
     "name": "stdout",
     "output_type": "stream",
     "text": [
      "1012\n"
     ]
    }
   ],
   "source": [
    "print(df_end2.shape[0])"
   ]
  },
  {
   "cell_type": "code",
   "execution_count": null,
   "metadata": {},
   "outputs": [],
   "source": [
    "#Figure 1 of the paper"
   ]
  },
  {
   "cell_type": "code",
   "execution_count": 654,
   "metadata": {},
   "outputs": [
    {
     "data": {
      "text/plain": [
       "[<matplotlib.lines.Line2D at 0x237c76f7580>]"
      ]
     },
     "execution_count": 654,
     "metadata": {},
     "output_type": "execute_result"
    },
    {
     "data": {
      "image/png": "[encoded data removed]",
      "text/plain": [
       "<Figure size 432x288 with 1 Axes>"
      ]
     },
     "metadata": {
      "needs_background": "light"
     },
     "output_type": "display_data"
    }
   ],
   "source": [
    "from scipy.stats import norm\n",
    "plt.hist(df_end_tot.dist,bins=20,rwidth=0.8, density=True)\n",
    "plt.xlabel('Mahalanobis distance values of data vectors from its cluster centre')\n",
    "plt.ylabel('Probability density')\n",
    "rng=np.arange(df_end_tot.dist.min(),df_end_tot.dist.max(),0.1)\n",
    "plt.plot(rng,norm.pdf(rng,df_end_tot.dist.mean(),df_end_tot.dist.std()))"
   ]
  },
  {
   "cell_type": "code",
   "execution_count": null,
   "metadata": {},
   "outputs": [],
   "source": []
  },
  {
   "cell_type": "code",
   "execution_count": 632,
   "metadata": {},
   "outputs": [],
   "source": [
    "df_end2=pd.concat(pd_list_l)\n",
    "print(df_end2.shape[0])"
   ]
  },
  {
   "cell_type": "code",
   "execution_count": 611,
   "metadata": {},
   "outputs": [],
   "source": [
    "if df_end2.shape[0]>0:\n",
    "    df_end2=df_end2[df_end2['Pd(%)']>min_threshold]"
   ]
  },
  {
   "cell_type": "code",
   "execution_count": null,
   "metadata": {},
   "outputs": [],
   "source": [
    "#Concatenate all the dataframes with T>0 and T<0 "
   ]
  },
  {
   "cell_type": "code",
   "execution_count": 612,
   "metadata": {},
   "outputs": [],
   "source": [
    "df_end3=pd.concat([df_end1,df_end2])"
   ]
  },
  {
   "cell_type": "code",
   "execution_count": null,
   "metadata": {},
   "outputs": [],
   "source": [
    "#Final plot"
   ]
  },
  {
   "cell_type": "code",
   "execution_count": 613,
   "metadata": {},
   "outputs": [
    {
     "data": {
      "image/png": "[encoded data removed]",
      "text/plain": [
       "<Figure size 432x288 with 1 Axes>"
      ]
     },
     "metadata": {
      "needs_background": "light"
     },
     "output_type": "display_data"
    }
   ],
   "source": [
    "ax=df.plot(kind='scatter',x='Ws',y='NPow(%)',color='red')\n",
    "df_end3.plot(ax=ax, kind='scatter',x='Ws',y='NPow(%)',color='blue')\n",
    "ax.set_xlabel(\"Ws(m/s)\")\n",
    "ax.set_ylabel(\"NPow(%)\")\n",
    "\n",
    "\n",
    "plt.show()"
   ]
  },
  {
   "cell_type": "code",
   "execution_count": null,
   "metadata": {},
   "outputs": [],
   "source": []
  },
  {
   "cell_type": "code",
   "execution_count": 627,
   "metadata": {},
   "outputs": [
    {
     "data": {
      "text/html": [
       "<div>\n",
       "<style scoped>\n",
       "    .dataframe tbody tr th:only-of-type {\n",
       "        vertical-align: middle;\n",
       "    }\n",
       "\n",
       "    .dataframe tbody tr th {\n",
       "        vertical-align: top;\n",
       "    }\n",
       "\n",
       "    .dataframe thead th {\n",
       "        text-align: right;\n",
       "    }\n",
       "</style>\n",
       "<table border=\"1\" class=\"dataframe\">\n",
       "  <thead>\n",
       "    <tr style=\"text-align: right;\">\n",
       "      <th></th>\n",
       "      <th>date_num</th>\n",
       "      <th>Ws</th>\n",
       "      <th>dist</th>\n",
       "      <th>Pd(%)</th>\n",
       "      <th>Pow</th>\n",
       "      <th>Temp</th>\n",
       "      <th>Pressure</th>\n",
       "      <th>NPow</th>\n",
       "      <th>NPow(%)</th>\n",
       "    </tr>\n",
       "  </thead>\n",
       "  <tbody>\n",
       "    <tr>\n",
       "      <th>3</th>\n",
       "      <td>734869.020833</td>\n",
       "      <td>11.83633</td>\n",
       "      <td>1.336502</td>\n",
       "      <td>0.026216</td>\n",
       "      <td>1997.869995</td>\n",
       "      <td>6.93197</td>\n",
       "      <td>961.859985</td>\n",
       "      <td>0.870025</td>\n",
       "      <td>87.002503</td>\n",
       "    </tr>\n",
       "    <tr>\n",
       "      <th>4</th>\n",
       "      <td>734869.027778</td>\n",
       "      <td>11.68717</td>\n",
       "      <td>1.328828</td>\n",
       "      <td>0.026065</td>\n",
       "      <td>2135.758057</td>\n",
       "      <td>6.98667</td>\n",
       "      <td>961.864014</td>\n",
       "      <td>0.928817</td>\n",
       "      <td>92.881690</td>\n",
       "    </tr>\n",
       "    <tr>\n",
       "      <th>5</th>\n",
       "      <td>734869.034722</td>\n",
       "      <td>12.14433</td>\n",
       "      <td>1.350488</td>\n",
       "      <td>0.026490</td>\n",
       "      <td>2149.540039</td>\n",
       "      <td>6.74057</td>\n",
       "      <td>961.499023</td>\n",
       "      <td>0.934693</td>\n",
       "      <td>93.469318</td>\n",
       "    </tr>\n",
       "    <tr>\n",
       "      <th>6</th>\n",
       "      <td>734869.041667</td>\n",
       "      <td>13.42517</td>\n",
       "      <td>1.745956</td>\n",
       "      <td>0.034247</td>\n",
       "      <td>2056.350098</td>\n",
       "      <td>5.35465</td>\n",
       "      <td>962.164978</td>\n",
       "      <td>0.894959</td>\n",
       "      <td>89.495942</td>\n",
       "    </tr>\n",
       "    <tr>\n",
       "      <th>118</th>\n",
       "      <td>734869.819444</td>\n",
       "      <td>10.85083</td>\n",
       "      <td>1.293719</td>\n",
       "      <td>0.025377</td>\n",
       "      <td>1946.447021</td>\n",
       "      <td>3.46283</td>\n",
       "      <td>958.982971</td>\n",
       "      <td>0.848100</td>\n",
       "      <td>84.809962</td>\n",
       "    </tr>\n",
       "  </tbody>\n",
       "</table>\n",
       "</div>"
      ],
      "text/plain": [
       "          date_num        Ws      dist     Pd(%)          Pow     Temp  \\\n",
       "3    734869.020833  11.83633  1.336502  0.026216  1997.869995  6.93197   \n",
       "4    734869.027778  11.68717  1.328828  0.026065  2135.758057  6.98667   \n",
       "5    734869.034722  12.14433  1.350488  0.026490  2149.540039  6.74057   \n",
       "6    734869.041667  13.42517  1.745956  0.034247  2056.350098  5.35465   \n",
       "118  734869.819444  10.85083  1.293719  0.025377  1946.447021  3.46283   \n",
       "\n",
       "       Pressure      NPow    NPow(%)  \n",
       "3    961.859985  0.870025  87.002503  \n",
       "4    961.864014  0.928817  92.881690  \n",
       "5    961.499023  0.934693  93.469318  \n",
       "6    962.164978  0.894959  89.495942  \n",
       "118  958.982971  0.848100  84.809962  "
      ]
     },
     "execution_count": 627,
     "metadata": {},
     "output_type": "execute_result"
    }
   ],
   "source": [
    "df_end3.head()"
   ]
  },
  {
   "cell_type": "code",
   "execution_count": 615,
   "metadata": {},
   "outputs": [
    {
     "data": {
      "text/plain": [
       "7594"
      ]
     },
     "execution_count": 615,
     "metadata": {},
     "output_type": "execute_result"
    }
   ],
   "source": [
    "df_end3.shape[0]"
   ]
  },
  {
   "cell_type": "code",
   "execution_count": null,
   "metadata": {},
   "outputs": [],
   "source": []
  },
  {
   "cell_type": "code",
   "execution_count": 616,
   "metadata": {},
   "outputs": [],
   "source": [
    "#outliers removal "
   ]
  },
  {
   "cell_type": "code",
   "execution_count": 617,
   "metadata": {},
   "outputs": [],
   "source": [
    "df_end4=df_end3[(df_end3['NPow(%)']<27)&(df_end3['Ws']>7)]"
   ]
  },
  {
   "cell_type": "code",
   "execution_count": 618,
   "metadata": {},
   "outputs": [
    {
     "data": {
      "text/html": [
       "<div>\n",
       "<style scoped>\n",
       "    .dataframe tbody tr th:only-of-type {\n",
       "        vertical-align: middle;\n",
       "    }\n",
       "\n",
       "    .dataframe tbody tr th {\n",
       "        vertical-align: top;\n",
       "    }\n",
       "\n",
       "    .dataframe thead th {\n",
       "        text-align: right;\n",
       "    }\n",
       "</style>\n",
       "<table border=\"1\" class=\"dataframe\">\n",
       "  <thead>\n",
       "    <tr style=\"text-align: right;\">\n",
       "      <th></th>\n",
       "      <th>date_num</th>\n",
       "      <th>Ws</th>\n",
       "      <th>dist</th>\n",
       "      <th>Pd(%)</th>\n",
       "      <th>Pow</th>\n",
       "      <th>Temp</th>\n",
       "      <th>Pressure</th>\n",
       "      <th>NPow</th>\n",
       "      <th>NPow(%)</th>\n",
       "    </tr>\n",
       "  </thead>\n",
       "  <tbody>\n",
       "    <tr>\n",
       "      <th>count</th>\n",
       "      <td>108.000000</td>\n",
       "      <td>108.000000</td>\n",
       "      <td>108.000000</td>\n",
       "      <td>108.000000</td>\n",
       "      <td>108.000000</td>\n",
       "      <td>108.000000</td>\n",
       "      <td>108.000000</td>\n",
       "      <td>108.000000</td>\n",
       "      <td>108.000000</td>\n",
       "    </tr>\n",
       "    <tr>\n",
       "      <th>mean</th>\n",
       "      <td>734881.649177</td>\n",
       "      <td>10.638309</td>\n",
       "      <td>1.824956</td>\n",
       "      <td>0.037105</td>\n",
       "      <td>214.838359</td>\n",
       "      <td>3.461935</td>\n",
       "      <td>967.428376</td>\n",
       "      <td>0.109787</td>\n",
       "      <td>10.978692</td>\n",
       "    </tr>\n",
       "    <tr>\n",
       "      <th>std</th>\n",
       "      <td>10.257907</td>\n",
       "      <td>2.591474</td>\n",
       "      <td>0.391070</td>\n",
       "      <td>0.010399</td>\n",
       "      <td>164.709969</td>\n",
       "      <td>2.694065</td>\n",
       "      <td>9.718162</td>\n",
       "      <td>0.070228</td>\n",
       "      <td>7.022803</td>\n",
       "    </tr>\n",
       "    <tr>\n",
       "      <th>min</th>\n",
       "      <td>734870.381944</td>\n",
       "      <td>7.040812</td>\n",
       "      <td>0.972044</td>\n",
       "      <td>0.025134</td>\n",
       "      <td>29.454849</td>\n",
       "      <td>0.668453</td>\n",
       "      <td>944.645996</td>\n",
       "      <td>0.030744</td>\n",
       "      <td>3.074423</td>\n",
       "    </tr>\n",
       "    <tr>\n",
       "      <th>25%</th>\n",
       "      <td>734870.451389</td>\n",
       "      <td>8.643355</td>\n",
       "      <td>1.525131</td>\n",
       "      <td>0.029334</td>\n",
       "      <td>94.461464</td>\n",
       "      <td>1.657750</td>\n",
       "      <td>962.400970</td>\n",
       "      <td>0.058461</td>\n",
       "      <td>5.846136</td>\n",
       "    </tr>\n",
       "    <tr>\n",
       "      <th>50%</th>\n",
       "      <td>734887.694444</td>\n",
       "      <td>9.848253</td>\n",
       "      <td>1.832529</td>\n",
       "      <td>0.034632</td>\n",
       "      <td>117.016800</td>\n",
       "      <td>2.019645</td>\n",
       "      <td>964.231995</td>\n",
       "      <td>0.068078</td>\n",
       "      <td>6.807836</td>\n",
       "    </tr>\n",
       "    <tr>\n",
       "      <th>75%</th>\n",
       "      <td>734893.057292</td>\n",
       "      <td>13.156170</td>\n",
       "      <td>2.080734</td>\n",
       "      <td>0.041069</td>\n",
       "      <td>312.033203</td>\n",
       "      <td>6.051832</td>\n",
       "      <td>976.812988</td>\n",
       "      <td>0.151228</td>\n",
       "      <td>15.122826</td>\n",
       "    </tr>\n",
       "    <tr>\n",
       "      <th>max</th>\n",
       "      <td>734897.819444</td>\n",
       "      <td>15.714570</td>\n",
       "      <td>2.741468</td>\n",
       "      <td>0.075208</td>\n",
       "      <td>587.794983</td>\n",
       "      <td>7.930050</td>\n",
       "      <td>995.252991</td>\n",
       "      <td>0.268806</td>\n",
       "      <td>26.880588</td>\n",
       "    </tr>\n",
       "  </tbody>\n",
       "</table>\n",
       "</div>"
      ],
      "text/plain": [
       "            date_num          Ws        dist       Pd(%)         Pow  \\\n",
       "count     108.000000  108.000000  108.000000  108.000000  108.000000   \n",
       "mean   734881.649177   10.638309    1.824956    0.037105  214.838359   \n",
       "std        10.257907    2.591474    0.391070    0.010399  164.709969   \n",
       "min    734870.381944    7.040812    0.972044    0.025134   29.454849   \n",
       "25%    734870.451389    8.643355    1.525131    0.029334   94.461464   \n",
       "50%    734887.694444    9.848253    1.832529    0.034632  117.016800   \n",
       "75%    734893.057292   13.156170    2.080734    0.041069  312.033203   \n",
       "max    734897.819444   15.714570    2.741468    0.075208  587.794983   \n",
       "\n",
       "             Temp    Pressure        NPow     NPow(%)  \n",
       "count  108.000000  108.000000  108.000000  108.000000  \n",
       "mean     3.461935  967.428376    0.109787   10.978692  \n",
       "std      2.694065    9.718162    0.070228    7.022803  \n",
       "min      0.668453  944.645996    0.030744    3.074423  \n",
       "25%      1.657750  962.400970    0.058461    5.846136  \n",
       "50%      2.019645  964.231995    0.068078    6.807836  \n",
       "75%      6.051832  976.812988    0.151228   15.122826  \n",
       "max      7.930050  995.252991    0.268806   26.880588  "
      ]
     },
     "execution_count": 618,
     "metadata": {},
     "output_type": "execute_result"
    }
   ],
   "source": [
    "df_end4.describe()"
   ]
  },
  {
   "cell_type": "code",
   "execution_count": 619,
   "metadata": {},
   "outputs": [],
   "source": [
    "con1=(df_end3['NPow(%)']<27)&(df_end3['Ws']>7)"
   ]
  },
  {
   "cell_type": "code",
   "execution_count": 620,
   "metadata": {},
   "outputs": [],
   "source": [
    "df_end5=df_end3[~(con1)]"
   ]
  },
  {
   "cell_type": "code",
   "execution_count": 621,
   "metadata": {},
   "outputs": [],
   "source": [
    "con2=(df_end3['NPow(%)']>20)&(df_end3['NPow(%)']<80)&(df_end3['Ws']>11)"
   ]
  },
  {
   "cell_type": "code",
   "execution_count": 622,
   "metadata": {},
   "outputs": [],
   "source": [
    "df_end6=df_end3[~(con2)]"
   ]
  },
  {
   "cell_type": "code",
   "execution_count": 623,
   "metadata": {},
   "outputs": [],
   "source": [
    "con3=(df_end6['NPow(%)']<27)&(df_end6['Ws']>7)"
   ]
  },
  {
   "cell_type": "code",
   "execution_count": 624,
   "metadata": {},
   "outputs": [],
   "source": [
    "df_end7=df_end6[~(con3)]"
   ]
  },
  {
   "cell_type": "code",
   "execution_count": 625,
   "metadata": {},
   "outputs": [
    {
     "data": {
      "text/plain": [
       "16033"
      ]
     },
     "execution_count": 625,
     "metadata": {},
     "output_type": "execute_result"
    }
   ],
   "source": [
    "df_end.shape[0]"
   ]
  },
  {
   "cell_type": "code",
   "execution_count": null,
   "metadata": {},
   "outputs": [],
   "source": [
    "#Ws vs Normalized Power"
   ]
  },
  {
   "cell_type": "code",
   "execution_count": 626,
   "metadata": {},
   "outputs": [
    {
     "data": {
      "image/png": "[encoded data removed]",
      "text/plain": [
       "<Figure size 432x288 with 1 Axes>"
      ]
     },
     "metadata": {
      "needs_background": "light"
     },
     "output_type": "display_data"
    }
   ],
   "source": [
    "ax=df.plot(kind='scatter',x='Ws',y='NPow(%)',color='red')\n",
    "df_end7.plot(ax=ax, kind='scatter',x='Ws',y='NPow(%)',color='blue')\n",
    "ax.set_xlabel(\"Ws(m/s)\")\n",
    "ax.set_ylabel(\"NPow(%)\")\n",
    "\n",
    "\n",
    "plt.show()"
   ]
  },
  {
   "cell_type": "code",
   "execution_count": null,
   "metadata": {},
   "outputs": [],
   "source": []
  },
  {
   "cell_type": "code",
   "execution_count": null,
   "metadata": {},
   "outputs": [],
   "source": [
    "#Ws vs Power"
   ]
  },
  {
   "cell_type": "code",
   "execution_count": 628,
   "metadata": {},
   "outputs": [
    {
     "data": {
      "image/png": "[encoded data removed]",
      "text/plain": [
       "<Figure size 432x288 with 1 Axes>"
      ]
     },
     "metadata": {
      "needs_background": "light"
     },
     "output_type": "display_data"
    }
   ],
   "source": [
    "ax=df.plot(kind='scatter',x='Ws',y='Pow',color='red')\n",
    "df_end7.plot(ax=ax, kind='scatter',x='Ws',y='Pow',color='blue')\n",
    "ax.set_xlabel(\"Ws(m/s)\")\n",
    "ax.set_ylabel(\"Pow\")\n",
    "\n",
    "\n",
    "plt.show()"
   ]
  },
  {
   "cell_type": "code",
   "execution_count": null,
   "metadata": {},
   "outputs": [],
   "source": []
  },
  {
   "cell_type": "code",
   "execution_count": null,
   "metadata": {},
   "outputs": [],
   "source": []
  }
 ],
 "metadata": {
  "kernelspec": {
   "display_name": "Python 3",
   "language": "python",
   "name": "python3"
  },
  "language_info": {
   "codemirror_mode": {
    "name": "ipython",
    "version": 3
   },
   "file_extension": ".py",
   "mimetype": "text/x-python",
   "name": "python",
   "nbconvert_exporter": "python",
   "pygments_lexer": "ipython3",
   "version": "3.8.3"
  }
 },
 "nbformat": 4,
 "nbformat_minor": 4
}
