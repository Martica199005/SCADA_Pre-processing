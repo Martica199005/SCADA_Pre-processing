{
 "cells": [
  {
   "cell_type": "code",
   "execution_count": 277,
   "metadata": {},
   "outputs": [],
   "source": [
    "%matplotlib inline\n",
    "import numpy as np\n",
    "import pandas as pd\n",
    "import matplotlib.pyplot as plt\n",
    "import scipy\n",
    "from scipy.cluster.hierarchy import dendrogram, linkage\n",
    "from scipy.cluster.hierarchy import fcluster\n",
    "from scipy.cluster.hierarchy import cophenet\n",
    "from scipy.spatial.distance import pdist\n",
    "\n",
    "from pylab import rcParams\n",
    "import sklearn \n",
    "\n",
    "\n"
   ]
  },
  {
   "cell_type": "code",
   "execution_count": 278,
   "metadata": {},
   "outputs": [],
   "source": [
    "#https://strathprints.strath.ac.uk/67084/1/Koukoura_etal_2018_An_insight_into_wind_turbine_planet_bearing.pdf"
   ]
  },
  {
   "cell_type": "code",
   "execution_count": 279,
   "metadata": {},
   "outputs": [],
   "source": [
    "df=pd.read_excel(\"rK3g26ERseWlQI7rj1yw_Table_1.xlsx\")"
   ]
  },
  {
   "cell_type": "code",
   "execution_count": 282,
   "metadata": {},
   "outputs": [
    {
     "name": "stdout",
     "output_type": "stream",
     "text": [
      "max_value Pow: 2302.7080078125\n",
      "min_value Pow: -42.6514282226563\n"
     ]
    }
   ],
   "source": [
    "max_value = df['Pow'].max()\n",
    "print(\"max_value Pow: \"+str(max_value))\n",
    "min_value = df['Pow'].min()\n",
    "print(\"min_value Pow: \"+str(min_value))"
   ]
  },
  {
   "cell_type": "code",
   "execution_count": 283,
   "metadata": {},
   "outputs": [],
   "source": [
    "#calculate normalized power, which statistic?"
   ]
  },
  {
   "cell_type": "code",
   "execution_count": 284,
   "metadata": {},
   "outputs": [
    {
     "name": "stdout",
     "output_type": "stream",
     "text": [
      "Mean:\n",
      "date_num    734884.496528\n",
      "Ws               6.814093\n",
      "Pow            699.289243\n",
      "Temp             3.377414\n",
      "Pressure       981.915683\n",
      "NPow             0.316344\n",
      "dtype: float64\n",
      "Std:\n",
      "date_num      8.949931\n",
      "Ws            3.573914\n",
      "Pow         744.811356\n",
      "Temp          2.419593\n",
      "Pressure     12.942475\n",
      "NPow          0.317568\n",
      "dtype: float64\n"
     ]
    }
   ],
   "source": [
    "df.insert(6, \"NPow\", (df.Pow-min_value)/(max_value-min_value), True)\n",
    "#Normal?\n",
    "print(\"Mean:\")\n",
    "print(df.mean())\n",
    "print(\"Std:\")\n",
    "print(df.std())\n"
   ]
  },
  {
   "cell_type": "code",
   "execution_count": 285,
   "metadata": {},
   "outputs": [],
   "source": [
    "#df.insert(6, \"NPow\", (df.Pow-df.mean())/(df.std()), True)\n"
   ]
  },
  {
   "cell_type": "code",
   "execution_count": 286,
   "metadata": {},
   "outputs": [
    {
     "name": "stdout",
     "output_type": "stream",
     "text": [
      "              Time_stamp       date_num         Ws          Pow     Temp  \\\n",
      "0  '2012-01-01 00:00:00'  734869.000000   8.974833  1310.025024  6.57349   \n",
      "1  '2012-01-01 00:10:00'  734869.006944   9.908769  1684.520996  6.62630   \n",
      "2  '2012-01-01 00:20:00'  734869.013889   9.639434  1532.052002  6.81988   \n",
      "3  '2012-01-01 00:30:00'  734869.020833  11.836330  1997.869995  6.93197   \n",
      "4  '2012-01-01 00:40:00'  734869.027778  11.687170  2135.758057  6.98667   \n",
      "\n",
      "     Pressure      NPow  \n",
      "0  962.732971  0.576746  \n",
      "1  962.578003  0.736421  \n",
      "2  962.244019  0.671412  \n",
      "3  961.859985  0.870025  \n",
      "4  961.864014  0.928817  \n",
      "Pressure    58\n",
      "Temp        58\n",
      "NPow         4\n",
      "Pow          4\n",
      "Ws           4\n",
      "dtype: int64\n"
     ]
    }
   ],
   "source": [
    "print(df.head())\n",
    "print(df.isnull().sum().sort_values(ascending=False).head())\n",
    "df.insert(7, \"NPow(%)\", 100*df.NPow, True)"
   ]
  },
  {
   "cell_type": "code",
   "execution_count": 287,
   "metadata": {},
   "outputs": [
    {
     "name": "stdout",
     "output_type": "stream",
     "text": [
      "              Time_stamp       date_num         Ws          Pow     Temp  \\\n",
      "0  '2012-01-01 00:00:00'  734869.000000   8.974833  1310.025024  6.57349   \n",
      "1  '2012-01-01 00:10:00'  734869.006944   9.908769  1684.520996  6.62630   \n",
      "2  '2012-01-01 00:20:00'  734869.013889   9.639434  1532.052002  6.81988   \n",
      "3  '2012-01-01 00:30:00'  734869.020833  11.836330  1997.869995  6.93197   \n",
      "4  '2012-01-01 00:40:00'  734869.027778  11.687170  2135.758057  6.98667   \n",
      "\n",
      "     Pressure      NPow    NPow(%)  \n",
      "0  962.732971  0.576746  57.674591  \n",
      "1  962.578003  0.736421  73.642121  \n",
      "2  962.244019  0.671412  67.141241  \n",
      "3  961.859985  0.870025  87.002503  \n",
      "4  961.864014  0.928817  92.881690  \n"
     ]
    }
   ],
   "source": [
    "print(df.head(5))"
   ]
  },
  {
   "cell_type": "code",
   "execution_count": 288,
   "metadata": {},
   "outputs": [
    {
     "name": "stdout",
     "output_type": "stream",
     "text": [
      "max_value Ws: 23.1718807220459\n",
      "min_value Ws: 0.0\n"
     ]
    }
   ],
   "source": [
    "#Data points where maximum wind speed has reached more than 25 m/s are also filtered out\n",
    "max_value = df['Ws'].max()\n",
    "print(\"max_value Ws: \"+str(max_value))\n",
    "min_value = df['Ws'].min()\n",
    "print(\"min_value Ws: \"+str(min_value))"
   ]
  },
  {
   "cell_type": "code",
   "execution_count": 289,
   "metadata": {},
   "outputs": [],
   "source": [
    "#https://medium.com/critical-powers/formulas-from-training-and-racing-with-a-power-meter-2a295c661b46#:~:text=Normalized%20Power,-Normalized%20Power%20(NP&text=Step%201%3A%20Calculate%20the%20rolling,values%20from%20the%20previous%20step."
   ]
  },
  {
   "cell_type": "code",
   "execution_count": 290,
   "metadata": {},
   "outputs": [
    {
     "name": "stdout",
     "output_type": "stream",
     "text": [
      "Number of rows in df: 4464\n"
     ]
    }
   ],
   "source": [
    "#print(df.head(10))\n",
    "print(\"Number of rows in df: \"+str(len(df.index)))"
   ]
  },
  {
   "cell_type": "code",
   "execution_count": 291,
   "metadata": {},
   "outputs": [],
   "source": [
    "#before pre-processing Red"
   ]
  },
  {
   "cell_type": "code",
   "execution_count": 292,
   "metadata": {},
   "outputs": [],
   "source": [
    "#data pre-processing"
   ]
  },
  {
   "cell_type": "code",
   "execution_count": 293,
   "metadata": {},
   "outputs": [
    {
     "name": "stdout",
     "output_type": "stream",
     "text": [
      "Index(['Time_stamp', 'date_num', 'Ws', 'Pow', 'Temp', 'Pressure', 'NPow',\n",
      "       'NPow(%)'],\n",
      "      dtype='object')\n",
      "            date_num           Ws          Pow         Temp     Pressure  \\\n",
      "count    4464.000000  4460.000000  4460.000000  4406.000000  4406.000000   \n",
      "mean   734884.496528     6.814093   699.289243     3.377414   981.915683   \n",
      "std         8.949931     3.573914   744.811356     2.419593    12.942475   \n",
      "min    734869.000000     0.000000   -42.651428    -2.180700   934.159973   \n",
      "25%    734876.748264     4.166160    80.860479     1.510470   973.849762   \n",
      "50%    734884.496528     6.225677   335.774612     3.189075   984.079498   \n",
      "75%    734892.244792     9.325553  1285.598236     5.094607   992.327026   \n",
      "max    734899.993056    23.171881  2302.708008     9.993120  1001.919983   \n",
      "\n",
      "              NPow      NPow(%)  \n",
      "count  4460.000000  4460.000000  \n",
      "mean      0.316344    31.634412  \n",
      "std       0.317568    31.756811  \n",
      "min       0.000000     0.000000  \n",
      "25%       0.052662     5.266225  \n",
      "50%       0.161351    16.135098  \n",
      "75%       0.566331    56.633096  \n",
      "max       1.000000   100.000000  \n"
     ]
    }
   ],
   "source": [
    "print(df.columns)\n",
    "print(df.describe())"
   ]
  },
  {
   "cell_type": "code",
   "execution_count": 294,
   "metadata": {},
   "outputs": [
    {
     "name": "stdout",
     "output_type": "stream",
     "text": [
      "Pressure    58\n",
      "Temp        58\n",
      "NPow(%)      4\n",
      "NPow         4\n",
      "Pow          4\n",
      "dtype: int64\n"
     ]
    }
   ],
   "source": [
    "print(df.isnull().sum().sort_values(ascending=False).head())"
   ]
  },
  {
   "cell_type": "code",
   "execution_count": 295,
   "metadata": {},
   "outputs": [],
   "source": [
    "#Firstly, samples with missing values or no power production are filtered out\n",
    "\n",
    "df1=df[['date_num', 'Ws', 'Pow', 'Temp', 'Pressure','NPow(%)']]\n",
    "\n"
   ]
  },
  {
   "cell_type": "code",
   "execution_count": 296,
   "metadata": {},
   "outputs": [
    {
     "data": {
      "text/html": [
       "<div>\n",
       "<style scoped>\n",
       "    .dataframe tbody tr th:only-of-type {\n",
       "        vertical-align: middle;\n",
       "    }\n",
       "\n",
       "    .dataframe tbody tr th {\n",
       "        vertical-align: top;\n",
       "    }\n",
       "\n",
       "    .dataframe thead th {\n",
       "        text-align: right;\n",
       "    }\n",
       "</style>\n",
       "<table border=\"1\" class=\"dataframe\">\n",
       "  <thead>\n",
       "    <tr style=\"text-align: right;\">\n",
       "      <th></th>\n",
       "      <th>date_num</th>\n",
       "      <th>Ws</th>\n",
       "      <th>Pow</th>\n",
       "      <th>Temp</th>\n",
       "      <th>Pressure</th>\n",
       "      <th>NPow(%)</th>\n",
       "    </tr>\n",
       "  </thead>\n",
       "  <tbody>\n",
       "    <tr>\n",
       "      <th>0</th>\n",
       "      <td>734869.000000</td>\n",
       "      <td>8.974833</td>\n",
       "      <td>1310.025024</td>\n",
       "      <td>6.57349</td>\n",
       "      <td>962.732971</td>\n",
       "      <td>57.674591</td>\n",
       "    </tr>\n",
       "    <tr>\n",
       "      <th>1</th>\n",
       "      <td>734869.006944</td>\n",
       "      <td>9.908769</td>\n",
       "      <td>1684.520996</td>\n",
       "      <td>6.62630</td>\n",
       "      <td>962.578003</td>\n",
       "      <td>73.642121</td>\n",
       "    </tr>\n",
       "    <tr>\n",
       "      <th>2</th>\n",
       "      <td>734869.013889</td>\n",
       "      <td>9.639434</td>\n",
       "      <td>1532.052002</td>\n",
       "      <td>6.81988</td>\n",
       "      <td>962.244019</td>\n",
       "      <td>67.141241</td>\n",
       "    </tr>\n",
       "    <tr>\n",
       "      <th>3</th>\n",
       "      <td>734869.020833</td>\n",
       "      <td>11.836330</td>\n",
       "      <td>1997.869995</td>\n",
       "      <td>6.93197</td>\n",
       "      <td>961.859985</td>\n",
       "      <td>87.002503</td>\n",
       "    </tr>\n",
       "    <tr>\n",
       "      <th>4</th>\n",
       "      <td>734869.027778</td>\n",
       "      <td>11.687170</td>\n",
       "      <td>2135.758057</td>\n",
       "      <td>6.98667</td>\n",
       "      <td>961.864014</td>\n",
       "      <td>92.881690</td>\n",
       "    </tr>\n",
       "    <tr>\n",
       "      <th>...</th>\n",
       "      <td>...</td>\n",
       "      <td>...</td>\n",
       "      <td>...</td>\n",
       "      <td>...</td>\n",
       "      <td>...</td>\n",
       "      <td>...</td>\n",
       "    </tr>\n",
       "    <tr>\n",
       "      <th>4459</th>\n",
       "      <td>734899.965278</td>\n",
       "      <td>5.758693</td>\n",
       "      <td>357.255615</td>\n",
       "      <td>-1.31252</td>\n",
       "      <td>1001.549988</td>\n",
       "      <td>17.050992</td>\n",
       "    </tr>\n",
       "    <tr>\n",
       "      <th>4460</th>\n",
       "      <td>734899.972222</td>\n",
       "      <td>4.885149</td>\n",
       "      <td>201.526596</td>\n",
       "      <td>-1.06633</td>\n",
       "      <td>1001.659973</td>\n",
       "      <td>10.411113</td>\n",
       "    </tr>\n",
       "    <tr>\n",
       "      <th>4461</th>\n",
       "      <td>734899.979167</td>\n",
       "      <td>4.899565</td>\n",
       "      <td>208.354401</td>\n",
       "      <td>-1.06325</td>\n",
       "      <td>1001.669983</td>\n",
       "      <td>10.702233</td>\n",
       "    </tr>\n",
       "    <tr>\n",
       "      <th>4462</th>\n",
       "      <td>734899.986111</td>\n",
       "      <td>4.493377</td>\n",
       "      <td>169.388901</td>\n",
       "      <td>-1.16304</td>\n",
       "      <td>1001.809998</td>\n",
       "      <td>9.040846</td>\n",
       "    </tr>\n",
       "    <tr>\n",
       "      <th>4463</th>\n",
       "      <td>734899.993056</td>\n",
       "      <td>3.062457</td>\n",
       "      <td>49.622471</td>\n",
       "      <td>-2.18070</td>\n",
       "      <td>1001.919983</td>\n",
       "      <td>3.934318</td>\n",
       "    </tr>\n",
       "  </tbody>\n",
       "</table>\n",
       "<p>4402 rows × 6 columns</p>\n",
       "</div>"
      ],
      "text/plain": [
       "           date_num         Ws          Pow     Temp     Pressure    NPow(%)\n",
       "0     734869.000000   8.974833  1310.025024  6.57349   962.732971  57.674591\n",
       "1     734869.006944   9.908769  1684.520996  6.62630   962.578003  73.642121\n",
       "2     734869.013889   9.639434  1532.052002  6.81988   962.244019  67.141241\n",
       "3     734869.020833  11.836330  1997.869995  6.93197   961.859985  87.002503\n",
       "4     734869.027778  11.687170  2135.758057  6.98667   961.864014  92.881690\n",
       "...             ...        ...          ...      ...          ...        ...\n",
       "4459  734899.965278   5.758693   357.255615 -1.31252  1001.549988  17.050992\n",
       "4460  734899.972222   4.885149   201.526596 -1.06633  1001.659973  10.411113\n",
       "4461  734899.979167   4.899565   208.354401 -1.06325  1001.669983  10.702233\n",
       "4462  734899.986111   4.493377   169.388901 -1.16304  1001.809998   9.040846\n",
       "4463  734899.993056   3.062457    49.622471 -2.18070  1001.919983   3.934318\n",
       "\n",
       "[4402 rows x 6 columns]"
      ]
     },
     "execution_count": 296,
     "metadata": {},
     "output_type": "execute_result"
    }
   ],
   "source": [
    "#df1.fillna(df.mean(), inplace = True) \n",
    "df1.dropna()"
   ]
  },
  {
   "cell_type": "code",
   "execution_count": 297,
   "metadata": {},
   "outputs": [
    {
     "name": "stdout",
     "output_type": "stream",
     "text": [
      "Pressure    58\n",
      "Temp        58\n",
      "NPow(%)      4\n",
      "Pow          4\n",
      "Ws           4\n",
      "dtype: int64\n"
     ]
    }
   ],
   "source": [
    "print(df1.isnull().sum().sort_values(ascending=False).head())"
   ]
  },
  {
   "cell_type": "code",
   "execution_count": 298,
   "metadata": {},
   "outputs": [
    {
     "name": "stdout",
     "output_type": "stream",
     "text": [
      "max_value NPow(%): 100.0\n",
      "min_value NPow(%): 0.0\n"
     ]
    }
   ],
   "source": [
    "max_value = df['NPow(%)'].max()\n",
    "print(\"max_value NPow(%): \"+str(max_value))\n",
    "min_value = df['NPow(%)'].min()\n",
    "print(\"min_value NPow(%): \"+str(min_value))"
   ]
  },
  {
   "cell_type": "code",
   "execution_count": 299,
   "metadata": {},
   "outputs": [
    {
     "name": "stdout",
     "output_type": "stream",
     "text": [
      "Number of rows in df1: 4464\n"
     ]
    }
   ],
   "source": [
    "#print(\"Number of rows in df1: \"+str(len(df1.index)))\n",
    "print(\"Number of rows in df1: \"+str(len(df1.index)))"
   ]
  },
  {
   "cell_type": "code",
   "execution_count": 300,
   "metadata": {},
   "outputs": [
    {
     "name": "stdout",
     "output_type": "stream",
     "text": [
      "Number of rows in df2: 3952\n",
      "min_value Pow in df2: 10.1383304595947\n"
     ]
    }
   ],
   "source": [
    "#a lower limit of output power is set at 0 kW for data sample selection.\n",
    "df2= df1[df1['Pow'] >= 10]  \n",
    "print(\"Number of rows in df2: \"+str(len(df2.index)))\n",
    "min_value = df2['Pow'].min()\n",
    "print(\"min_value Pow in df2: \"+str(min_value))"
   ]
  },
  {
   "cell_type": "code",
   "execution_count": 301,
   "metadata": {},
   "outputs": [
    {
     "data": {
      "text/html": [
       "<div>\n",
       "<style scoped>\n",
       "    .dataframe tbody tr th:only-of-type {\n",
       "        vertical-align: middle;\n",
       "    }\n",
       "\n",
       "    .dataframe tbody tr th {\n",
       "        vertical-align: top;\n",
       "    }\n",
       "\n",
       "    .dataframe thead th {\n",
       "        text-align: right;\n",
       "    }\n",
       "</style>\n",
       "<table border=\"1\" class=\"dataframe\">\n",
       "  <thead>\n",
       "    <tr style=\"text-align: right;\">\n",
       "      <th></th>\n",
       "      <th>date_num</th>\n",
       "      <th>Ws</th>\n",
       "      <th>Pow</th>\n",
       "      <th>Temp</th>\n",
       "      <th>Pressure</th>\n",
       "      <th>NPow(%)</th>\n",
       "    </tr>\n",
       "  </thead>\n",
       "  <tbody>\n",
       "    <tr>\n",
       "      <th>count</th>\n",
       "      <td>3952.000000</td>\n",
       "      <td>3952.000000</td>\n",
       "      <td>3952.000000</td>\n",
       "      <td>3898.000000</td>\n",
       "      <td>3898.000000</td>\n",
       "      <td>3952.000000</td>\n",
       "    </tr>\n",
       "    <tr>\n",
       "      <th>mean</th>\n",
       "      <td>734884.478220</td>\n",
       "      <td>7.078841</td>\n",
       "      <td>790.306057</td>\n",
       "      <td>3.496633</td>\n",
       "      <td>981.844409</td>\n",
       "      <td>35.515131</td>\n",
       "    </tr>\n",
       "    <tr>\n",
       "      <th>std</th>\n",
       "      <td>9.005456</td>\n",
       "      <td>3.085873</td>\n",
       "      <td>743.848479</td>\n",
       "      <td>2.440402</td>\n",
       "      <td>11.968703</td>\n",
       "      <td>31.715756</td>\n",
       "    </tr>\n",
       "    <tr>\n",
       "      <th>min</th>\n",
       "      <td>734869.000000</td>\n",
       "      <td>1.821097</td>\n",
       "      <td>10.138330</td>\n",
       "      <td>-2.180700</td>\n",
       "      <td>936.090027</td>\n",
       "      <td>2.250817</td>\n",
       "    </tr>\n",
       "    <tr>\n",
       "      <th>25%</th>\n",
       "      <td>734876.616319</td>\n",
       "      <td>4.576938</td>\n",
       "      <td>117.458776</td>\n",
       "      <td>1.627327</td>\n",
       "      <td>974.352264</td>\n",
       "      <td>6.826681</td>\n",
       "    </tr>\n",
       "    <tr>\n",
       "      <th>50%</th>\n",
       "      <td>734884.989583</td>\n",
       "      <td>6.521796</td>\n",
       "      <td>488.904800</td>\n",
       "      <td>3.362340</td>\n",
       "      <td>983.518005</td>\n",
       "      <td>22.664169</td>\n",
       "    </tr>\n",
       "    <tr>\n",
       "      <th>75%</th>\n",
       "      <td>734892.126736</td>\n",
       "      <td>9.323606</td>\n",
       "      <td>1420.521484</td>\n",
       "      <td>5.230392</td>\n",
       "      <td>991.213242</td>\n",
       "      <td>62.385871</td>\n",
       "    </tr>\n",
       "    <tr>\n",
       "      <th>max</th>\n",
       "      <td>734899.993056</td>\n",
       "      <td>18.339830</td>\n",
       "      <td>2302.708008</td>\n",
       "      <td>9.993120</td>\n",
       "      <td>1001.919983</td>\n",
       "      <td>100.000000</td>\n",
       "    </tr>\n",
       "  </tbody>\n",
       "</table>\n",
       "</div>"
      ],
      "text/plain": [
       "            date_num           Ws          Pow         Temp     Pressure  \\\n",
       "count    3952.000000  3952.000000  3952.000000  3898.000000  3898.000000   \n",
       "mean   734884.478220     7.078841   790.306057     3.496633   981.844409   \n",
       "std         9.005456     3.085873   743.848479     2.440402    11.968703   \n",
       "min    734869.000000     1.821097    10.138330    -2.180700   936.090027   \n",
       "25%    734876.616319     4.576938   117.458776     1.627327   974.352264   \n",
       "50%    734884.989583     6.521796   488.904800     3.362340   983.518005   \n",
       "75%    734892.126736     9.323606  1420.521484     5.230392   991.213242   \n",
       "max    734899.993056    18.339830  2302.708008     9.993120  1001.919983   \n",
       "\n",
       "           NPow(%)  \n",
       "count  3952.000000  \n",
       "mean     35.515131  \n",
       "std      31.715756  \n",
       "min       2.250817  \n",
       "25%       6.826681  \n",
       "50%      22.664169  \n",
       "75%      62.385871  \n",
       "max     100.000000  "
      ]
     },
     "execution_count": 301,
     "metadata": {},
     "output_type": "execute_result"
    }
   ],
   "source": [
    "df2.describe()"
   ]
  },
  {
   "cell_type": "code",
   "execution_count": 302,
   "metadata": {},
   "outputs": [
    {
     "data": {
      "text/html": [
       "<div>\n",
       "<style scoped>\n",
       "    .dataframe tbody tr th:only-of-type {\n",
       "        vertical-align: middle;\n",
       "    }\n",
       "\n",
       "    .dataframe tbody tr th {\n",
       "        vertical-align: top;\n",
       "    }\n",
       "\n",
       "    .dataframe thead th {\n",
       "        text-align: right;\n",
       "    }\n",
       "</style>\n",
       "<table border=\"1\" class=\"dataframe\">\n",
       "  <thead>\n",
       "    <tr style=\"text-align: right;\">\n",
       "      <th></th>\n",
       "      <th>date_num</th>\n",
       "      <th>Ws</th>\n",
       "      <th>Pow</th>\n",
       "      <th>Temp</th>\n",
       "      <th>Pressure</th>\n",
       "      <th>NPow(%)</th>\n",
       "    </tr>\n",
       "  </thead>\n",
       "  <tbody>\n",
       "    <tr>\n",
       "      <th>count</th>\n",
       "      <td>3952.000000</td>\n",
       "      <td>3952.000000</td>\n",
       "      <td>3952.000000</td>\n",
       "      <td>3898.000000</td>\n",
       "      <td>3898.000000</td>\n",
       "      <td>3952.000000</td>\n",
       "    </tr>\n",
       "    <tr>\n",
       "      <th>mean</th>\n",
       "      <td>734884.478220</td>\n",
       "      <td>7.078841</td>\n",
       "      <td>790.306057</td>\n",
       "      <td>3.496633</td>\n",
       "      <td>981.844409</td>\n",
       "      <td>35.515131</td>\n",
       "    </tr>\n",
       "    <tr>\n",
       "      <th>std</th>\n",
       "      <td>9.005456</td>\n",
       "      <td>3.085873</td>\n",
       "      <td>743.848479</td>\n",
       "      <td>2.440402</td>\n",
       "      <td>11.968703</td>\n",
       "      <td>31.715756</td>\n",
       "    </tr>\n",
       "    <tr>\n",
       "      <th>min</th>\n",
       "      <td>734869.000000</td>\n",
       "      <td>1.821097</td>\n",
       "      <td>10.138330</td>\n",
       "      <td>-2.180700</td>\n",
       "      <td>936.090027</td>\n",
       "      <td>2.250817</td>\n",
       "    </tr>\n",
       "    <tr>\n",
       "      <th>25%</th>\n",
       "      <td>734876.616319</td>\n",
       "      <td>4.576938</td>\n",
       "      <td>117.458776</td>\n",
       "      <td>1.627327</td>\n",
       "      <td>974.352264</td>\n",
       "      <td>6.826681</td>\n",
       "    </tr>\n",
       "    <tr>\n",
       "      <th>50%</th>\n",
       "      <td>734884.989583</td>\n",
       "      <td>6.521796</td>\n",
       "      <td>488.904800</td>\n",
       "      <td>3.362340</td>\n",
       "      <td>983.518005</td>\n",
       "      <td>22.664169</td>\n",
       "    </tr>\n",
       "    <tr>\n",
       "      <th>75%</th>\n",
       "      <td>734892.126736</td>\n",
       "      <td>9.323606</td>\n",
       "      <td>1420.521484</td>\n",
       "      <td>5.230392</td>\n",
       "      <td>991.213242</td>\n",
       "      <td>62.385871</td>\n",
       "    </tr>\n",
       "    <tr>\n",
       "      <th>max</th>\n",
       "      <td>734899.993056</td>\n",
       "      <td>18.339830</td>\n",
       "      <td>2302.708008</td>\n",
       "      <td>9.993120</td>\n",
       "      <td>1001.919983</td>\n",
       "      <td>100.000000</td>\n",
       "    </tr>\n",
       "  </tbody>\n",
       "</table>\n",
       "</div>"
      ],
      "text/plain": [
       "            date_num           Ws          Pow         Temp     Pressure  \\\n",
       "count    3952.000000  3952.000000  3952.000000  3898.000000  3898.000000   \n",
       "mean   734884.478220     7.078841   790.306057     3.496633   981.844409   \n",
       "std         9.005456     3.085873   743.848479     2.440402    11.968703   \n",
       "min    734869.000000     1.821097    10.138330    -2.180700   936.090027   \n",
       "25%    734876.616319     4.576938   117.458776     1.627327   974.352264   \n",
       "50%    734884.989583     6.521796   488.904800     3.362340   983.518005   \n",
       "75%    734892.126736     9.323606  1420.521484     5.230392   991.213242   \n",
       "max    734899.993056    18.339830  2302.708008     9.993120  1001.919983   \n",
       "\n",
       "           NPow(%)  \n",
       "count  3952.000000  \n",
       "mean     35.515131  \n",
       "std      31.715756  \n",
       "min       2.250817  \n",
       "25%       6.826681  \n",
       "50%      22.664169  \n",
       "75%      62.385871  \n",
       "max     100.000000  "
      ]
     },
     "execution_count": 302,
     "metadata": {},
     "output_type": "execute_result"
    }
   ],
   "source": [
    "#Data pointswhere maximum wind speed has reached more than 25 m/s are also filtered out\n",
    "df3=df2[(df2['Ws']<25)]\n",
    "df3.describe()"
   ]
  },
  {
   "cell_type": "code",
   "execution_count": 303,
   "metadata": {},
   "outputs": [
    {
     "data": {
      "image/png": "[encoded data removed]",
      "text/plain": [
       "<Figure size 432x288 with 1 Axes>"
      ]
     },
     "metadata": {
      "needs_background": "light"
     },
     "output_type": "display_data"
    }
   ],
   "source": [
    "ax=df.plot(kind='scatter',x='Ws',y='NPow(%)',color='red')\n",
    "df3.plot(ax=ax, kind='scatter',x='Ws',y='NPow(%)',color='blue')\n",
    "ax.set_xlabel(\"Ws(m/s)\")\n",
    "ax.set_ylabel(\"NPow(%)\")\n",
    "#ax.left_ax.set_ylabel('Variance of log wages')\n",
    "#plt.legend(loc='best')\n",
    "\n",
    "plt.show()"
   ]
  },
  {
   "cell_type": "code",
   "execution_count": 304,
   "metadata": {},
   "outputs": [],
   "source": [
    "\n",
    "# model normal behaviour so curtailment should not be considered\n",
    "\n",
    "\n",
    "#cluster filter is applied on the training data and aims to remove outliers depending on the operating conditions \n",
    "#of the wind turbine.\n",
    "#A multivariate outlier detection approach based on Mahalanobis distance is used in \n",
    "#This paper utilizes agglomerative hierarchical clustering (Rokach & Maimon, 2005)\n",
    "\n",
    "#used in the linkage function which determines how the objects in the data set should be grouped into clusters that form a binary hierarchical cluster tree.\n",
    "\n",
    "#A probability threshold of 2.5% is chosen"
   ]
  },
  {
   "cell_type": "code",
   "execution_count": 305,
   "metadata": {},
   "outputs": [
    {
     "name": "stdout",
     "output_type": "stream",
     "text": [
      "Index(['date_num', 'Ws', 'Pow', 'Temp', 'Pressure', 'NPow(%)'], dtype='object')\n",
      "Index(['date_num', 'Ws', 'Pow', 'Temp', 'Pressure'], dtype='object')\n"
     ]
    }
   ],
   "source": [
    "\n",
    "\n",
    "print(df3.columns)\n",
    "df4=df3[['date_num', 'Ws', 'Pow', 'Temp', 'Pressure']]\n",
    "print(df4.columns)\n",
    "\n",
    "#The distance is calculated in the Euclidean space and the inner squared distance is computed using Ward’s algorithm\n",
    "#The distance is calculated for each data vector in the training data set from its cluster centre\n"
   ]
  },
  {
   "cell_type": "code",
   "execution_count": 306,
   "metadata": {},
   "outputs": [
    {
     "data": {
      "text/html": [
       "<div>\n",
       "<style scoped>\n",
       "    .dataframe tbody tr th:only-of-type {\n",
       "        vertical-align: middle;\n",
       "    }\n",
       "\n",
       "    .dataframe tbody tr th {\n",
       "        vertical-align: top;\n",
       "    }\n",
       "\n",
       "    .dataframe thead th {\n",
       "        text-align: right;\n",
       "    }\n",
       "</style>\n",
       "<table border=\"1\" class=\"dataframe\">\n",
       "  <thead>\n",
       "    <tr style=\"text-align: right;\">\n",
       "      <th></th>\n",
       "      <th>date_num</th>\n",
       "      <th>Ws</th>\n",
       "      <th>Pow</th>\n",
       "      <th>Temp</th>\n",
       "      <th>Pressure</th>\n",
       "    </tr>\n",
       "  </thead>\n",
       "  <tbody>\n",
       "    <tr>\n",
       "      <th>count</th>\n",
       "      <td>3952.000000</td>\n",
       "      <td>3952.000000</td>\n",
       "      <td>3952.000000</td>\n",
       "      <td>3898.000000</td>\n",
       "      <td>3898.000000</td>\n",
       "    </tr>\n",
       "    <tr>\n",
       "      <th>mean</th>\n",
       "      <td>734884.478220</td>\n",
       "      <td>7.078841</td>\n",
       "      <td>790.306057</td>\n",
       "      <td>3.496633</td>\n",
       "      <td>981.844409</td>\n",
       "    </tr>\n",
       "    <tr>\n",
       "      <th>std</th>\n",
       "      <td>9.005456</td>\n",
       "      <td>3.085873</td>\n",
       "      <td>743.848479</td>\n",
       "      <td>2.440402</td>\n",
       "      <td>11.968703</td>\n",
       "    </tr>\n",
       "    <tr>\n",
       "      <th>min</th>\n",
       "      <td>734869.000000</td>\n",
       "      <td>1.821097</td>\n",
       "      <td>10.138330</td>\n",
       "      <td>-2.180700</td>\n",
       "      <td>936.090027</td>\n",
       "    </tr>\n",
       "    <tr>\n",
       "      <th>25%</th>\n",
       "      <td>734876.616319</td>\n",
       "      <td>4.576938</td>\n",
       "      <td>117.458776</td>\n",
       "      <td>1.627327</td>\n",
       "      <td>974.352264</td>\n",
       "    </tr>\n",
       "    <tr>\n",
       "      <th>50%</th>\n",
       "      <td>734884.989583</td>\n",
       "      <td>6.521796</td>\n",
       "      <td>488.904800</td>\n",
       "      <td>3.362340</td>\n",
       "      <td>983.518005</td>\n",
       "    </tr>\n",
       "    <tr>\n",
       "      <th>75%</th>\n",
       "      <td>734892.126736</td>\n",
       "      <td>9.323606</td>\n",
       "      <td>1420.521484</td>\n",
       "      <td>5.230392</td>\n",
       "      <td>991.213242</td>\n",
       "    </tr>\n",
       "    <tr>\n",
       "      <th>max</th>\n",
       "      <td>734899.993056</td>\n",
       "      <td>18.339830</td>\n",
       "      <td>2302.708008</td>\n",
       "      <td>9.993120</td>\n",
       "      <td>1001.919983</td>\n",
       "    </tr>\n",
       "  </tbody>\n",
       "</table>\n",
       "</div>"
      ],
      "text/plain": [
       "            date_num           Ws          Pow         Temp     Pressure\n",
       "count    3952.000000  3952.000000  3952.000000  3898.000000  3898.000000\n",
       "mean   734884.478220     7.078841   790.306057     3.496633   981.844409\n",
       "std         9.005456     3.085873   743.848479     2.440402    11.968703\n",
       "min    734869.000000     1.821097    10.138330    -2.180700   936.090027\n",
       "25%    734876.616319     4.576938   117.458776     1.627327   974.352264\n",
       "50%    734884.989583     6.521796   488.904800     3.362340   983.518005\n",
       "75%    734892.126736     9.323606  1420.521484     5.230392   991.213242\n",
       "max    734899.993056    18.339830  2302.708008     9.993120  1001.919983"
      ]
     },
     "execution_count": 306,
     "metadata": {},
     "output_type": "execute_result"
    }
   ],
   "source": [
    "df4.describe()\n"
   ]
  },
  {
   "cell_type": "code",
   "execution_count": 307,
   "metadata": {},
   "outputs": [
    {
     "data": {
      "text/plain": [
       "3952"
      ]
     },
     "execution_count": 307,
     "metadata": {},
     "output_type": "execute_result"
    }
   ],
   "source": [
    "df4.shape[0]"
   ]
  },
  {
   "cell_type": "code",
   "execution_count": 308,
   "metadata": {},
   "outputs": [
    {
     "name": "stdout",
     "output_type": "stream",
     "text": [
      "(3951, 2)\n"
     ]
    }
   ],
   "source": [
    "import numpy as np\n",
    "from scipy.cluster import hierarchy \n",
    "from scipy.spatial import distance\n",
    "\n",
    "X = df4.iloc[:, [2,3]].values\n",
    "#Power and Temperature ranges\n",
    "#print(df4.iloc[:, [2,3]])\n",
    "y = distance.pdist(X, metric=\"euclidean\")\n",
    "y[np.isnan(y)] = 1\n",
    "\n",
    "out = hierarchy.linkage(y,method='ward')\n",
    "\n",
    "children = out[:, :2].astype(np.int)\n",
    "row_clusters=linkage(pdist(children,metric='euclidean'),method='ward')\n",
    "print(children.shape)"
   ]
  },
  {
   "cell_type": "code",
   "execution_count": 309,
   "metadata": {},
   "outputs": [
    {
     "data": {
      "image/png": "[encoded data removed]",
      "text/plain": [
       "<Figure size 432x288 with 1 Axes>"
      ]
     },
     "metadata": {
      "needs_background": "light"
     },
     "output_type": "display_data"
    }
   ],
   "source": [
    "import scipy.cluster.hierarchy as sch\n",
    "try:\n",
    "    dendrogram = sch.dendrogram(sch.linkage(children, method  = \"ward\"))\n",
    "    plt.title('Dendrogram')\n",
    "    plt.xlabel('Data')\n",
    "    plt.ylabel('Euclidean distances')\n",
    "    plt.show()\n",
    "except:\n",
    "  print(\"An exception occurred\")\n",
    "    "
   ]
  },
  {
   "cell_type": "code",
   "execution_count": 310,
   "metadata": {},
   "outputs": [],
   "source": [
    "from sklearn.cluster import AgglomerativeClustering \n",
    "hc = AgglomerativeClustering(n_clusters =3, affinity = 'euclidean', linkage ='ward')"
   ]
  },
  {
   "cell_type": "code",
   "execution_count": 311,
   "metadata": {},
   "outputs": [],
   "source": [
    "y_hc=hc.fit_predict(children)"
   ]
  },
  {
   "cell_type": "code",
   "execution_count": 312,
   "metadata": {},
   "outputs": [
    {
     "data": {
      "text/plain": [
       "<matplotlib.collections.PathCollection at 0x208db8e2bb0>"
      ]
     },
     "execution_count": 312,
     "metadata": {},
     "output_type": "execute_result"
    },
    {
     "data": {
      "image/png": "[encoded data removed]",
      "text/plain": [
       "<Figure size 432x288 with 1 Axes>"
      ]
     },
     "metadata": {
      "needs_background": "light"
     },
     "output_type": "display_data"
    }
   ],
   "source": [
    "X=children\n",
    "plt.scatter(X[y_hc==0, 0], X[y_hc==0, 1], s=100, c='red', label ='Cluster 1')\n",
    "plt.scatter(X[y_hc==1, 0], X[y_hc==1, 1], s=100, c='blue', label ='Cluster 2')\n",
    "plt.scatter(X[y_hc==2, 0], X[y_hc==2, 1], s=100, c='green', label ='Cluster 3')\n",
    "\n",
    "\n",
    "#plt.title('Clusters of Customers (Hierarchical Clustering Model)')\n",
    "#plt.xlabel('Pow')\n",
    "#plt.ylabel('Temp')\n",
    "#plt.show()"
   ]
  },
  {
   "cell_type": "code",
   "execution_count": 313,
   "metadata": {},
   "outputs": [],
   "source": [
    "\n",
    "def findCordinateCenter(xList,yList,coordinates):\n",
    "    xCenter= np.sum(xList)/len(xList)\n",
    "    yCenter= np.sum(yList)/len(yList)\n",
    "    coordinates.append(xCenter)\n",
    "    coordinates.append(yCenter)\n",
    "    return coordinates"
   ]
  },
  {
   "cell_type": "code",
   "execution_count": 314,
   "metadata": {},
   "outputs": [
    {
     "name": "stdout",
     "output_type": "stream",
     "text": [
      "1894\n"
     ]
    }
   ],
   "source": [
    "#Cluster1 X[y_hc==0, 0],X[y_hc==0, 1]\n",
    "a=X[y_hc==0, 0]\n",
    "b=X[y_hc==0, 1]\n",
    "print(len(a))\n"
   ]
  },
  {
   "cell_type": "code",
   "execution_count": 315,
   "metadata": {},
   "outputs": [],
   "source": [
    "df16= pd.DataFrame({'Pow': a, 'Temp':b})"
   ]
  },
  {
   "cell_type": "code",
   "execution_count": 316,
   "metadata": {},
   "outputs": [
    {
     "name": "stdout",
     "output_type": "stream",
     "text": [
      "[3024.708025343189, 5009.414994720169]\n"
     ]
    }
   ],
   "source": [
    "coordinatesCenter=[]\n",
    "C1=findCordinateCenter(df16['Pow'],df16['Temp'],coordinatesCenter)\n",
    "print(C1)"
   ]
  },
  {
   "cell_type": "code",
   "execution_count": 317,
   "metadata": {},
   "outputs": [],
   "source": [
    "C1=np.array(C1)\n",
    "C1=C1.reshape(1,- 1)"
   ]
  },
  {
   "cell_type": "code",
   "execution_count": null,
   "metadata": {},
   "outputs": [],
   "source": []
  },
  {
   "cell_type": "code",
   "execution_count": null,
   "metadata": {},
   "outputs": [],
   "source": []
  },
  {
   "cell_type": "code",
   "execution_count": 318,
   "metadata": {},
   "outputs": [],
   "source": [
    "import numpy as np\n",
    "\n",
    "def is_pos_def(A):\n",
    "    if np.allclose(A, A.T):\n",
    "        try:\n",
    "            np.linalg.cholesky(A)\n",
    "            return True\n",
    "        except np.linalg.LinAlgError:\n",
    "            return False\n",
    "    else:\n",
    "        return False\n",
    "\n",
    "\n",
    "def MahalanobisDist(data,verbose=False):\n",
    "    covariance_matrix = np.cov(data, rowvar=False)\n",
    "    if is_pos_def(covariance_matrix):\n",
    "        inv_covariance_matrix = np.linalg.inv(covariance_matrix)\n",
    "        if is_pos_def(inv_covariance_matrix):\n",
    "            vars_mean = []\n",
    "            for i in range(data.shape[0]):\n",
    "                vars_mean.append(list(data.mean(axis=0)))\n",
    "            \n",
    "            diff = data - vars_mean\n",
    "            md = []\n",
    "            for i in range(len(diff)):\n",
    "                md.append(np.sqrt(diff[i].dot(inv_covariance_matrix).dot(diff[i])))\n",
    "\n",
    "            if verbose:\n",
    "                print(\"Covariance Matrix:\\n {}\\n\".format(covariance_matrix))\n",
    "                print(\"Inverse of Covariance Matrix:\\n {}\\n\".format(inv_covariance_matrix))\n",
    "                print(\"Variables Mean Vector:\\n {}\\n\".format(vars_mean))\n",
    "                print(\"Variables - Variables Mean Vector:\\n {}\\n\".format(diff))\n",
    "                print(\"Mahalanobis Distance:\\n {}\\n\".format(md))\n",
    "            return md\n",
    "        else:\n",
    "            print(\"2 Error: Inverse of Covariance Matrix is not positive definite!\")\n",
    "    else:\n",
    "        print(\"1 Error: Covariance Matrix is not positive definite!\")"
   ]
  },
  {
   "cell_type": "code",
   "execution_count": 319,
   "metadata": {},
   "outputs": [],
   "source": [
    "data=df16\n",
    "data1=df16[['Temp','Pow']]\n",
    "\n",
    "list_df=data1.to_numpy()\n",
    "\n",
    "result=MahalanobisDist(list_df,verbose=False)\n",
    "#print(result)\n",
    "    "
   ]
  },
  {
   "cell_type": "code",
   "execution_count": 320,
   "metadata": {},
   "outputs": [
    {
     "data": {
      "text/html": [
       "<div>\n",
       "<style scoped>\n",
       "    .dataframe tbody tr th:only-of-type {\n",
       "        vertical-align: middle;\n",
       "    }\n",
       "\n",
       "    .dataframe tbody tr th {\n",
       "        vertical-align: top;\n",
       "    }\n",
       "\n",
       "    .dataframe thead th {\n",
       "        text-align: right;\n",
       "    }\n",
       "</style>\n",
       "<table border=\"1\" class=\"dataframe\">\n",
       "  <thead>\n",
       "    <tr style=\"text-align: right;\">\n",
       "      <th></th>\n",
       "      <th>Pow</th>\n",
       "      <th>Temp</th>\n",
       "    </tr>\n",
       "  </thead>\n",
       "  <tbody>\n",
       "    <tr>\n",
       "      <th>count</th>\n",
       "      <td>1894.000000</td>\n",
       "      <td>1894.000000</td>\n",
       "    </tr>\n",
       "    <tr>\n",
       "      <th>mean</th>\n",
       "      <td>3024.708025</td>\n",
       "      <td>5009.414995</td>\n",
       "    </tr>\n",
       "    <tr>\n",
       "      <th>std</th>\n",
       "      <td>1579.273919</td>\n",
       "      <td>894.070592</td>\n",
       "    </tr>\n",
       "    <tr>\n",
       "      <th>min</th>\n",
       "      <td>18.000000</td>\n",
       "      <td>3248.000000</td>\n",
       "    </tr>\n",
       "    <tr>\n",
       "      <th>25%</th>\n",
       "      <td>1769.250000</td>\n",
       "      <td>4242.250000</td>\n",
       "    </tr>\n",
       "    <tr>\n",
       "      <th>50%</th>\n",
       "      <td>3220.500000</td>\n",
       "      <td>4990.500000</td>\n",
       "    </tr>\n",
       "    <tr>\n",
       "      <th>75%</th>\n",
       "      <td>4347.750000</td>\n",
       "      <td>5723.750000</td>\n",
       "    </tr>\n",
       "    <tr>\n",
       "      <th>max</th>\n",
       "      <td>5874.000000</td>\n",
       "      <td>7206.000000</td>\n",
       "    </tr>\n",
       "  </tbody>\n",
       "</table>\n",
       "</div>"
      ],
      "text/plain": [
       "               Pow         Temp\n",
       "count  1894.000000  1894.000000\n",
       "mean   3024.708025  5009.414995\n",
       "std    1579.273919   894.070592\n",
       "min      18.000000  3248.000000\n",
       "25%    1769.250000  4242.250000\n",
       "50%    3220.500000  4990.500000\n",
       "75%    4347.750000  5723.750000\n",
       "max    5874.000000  7206.000000"
      ]
     },
     "execution_count": 320,
     "metadata": {},
     "output_type": "execute_result"
    }
   ],
   "source": [
    "df16.describe()"
   ]
  },
  {
   "cell_type": "code",
   "execution_count": 321,
   "metadata": {},
   "outputs": [],
   "source": [
    "df1_c=df4[(df4['Pow']>=df16['Pow'].min())&(df4['Pow']<=df16['Pow'].max())]"
   ]
  },
  {
   "cell_type": "code",
   "execution_count": 322,
   "metadata": {},
   "outputs": [
    {
     "data": {
      "text/html": [
       "<div>\n",
       "<style scoped>\n",
       "    .dataframe tbody tr th:only-of-type {\n",
       "        vertical-align: middle;\n",
       "    }\n",
       "\n",
       "    .dataframe tbody tr th {\n",
       "        vertical-align: top;\n",
       "    }\n",
       "\n",
       "    .dataframe thead th {\n",
       "        text-align: right;\n",
       "    }\n",
       "</style>\n",
       "<table border=\"1\" class=\"dataframe\">\n",
       "  <thead>\n",
       "    <tr style=\"text-align: right;\">\n",
       "      <th></th>\n",
       "      <th>date_num</th>\n",
       "      <th>Ws</th>\n",
       "      <th>Pow</th>\n",
       "      <th>Temp</th>\n",
       "      <th>Pressure</th>\n",
       "    </tr>\n",
       "  </thead>\n",
       "  <tbody>\n",
       "    <tr>\n",
       "      <th>count</th>\n",
       "      <td>3893.000000</td>\n",
       "      <td>3893.000000</td>\n",
       "      <td>3893.000000</td>\n",
       "      <td>3839.000000</td>\n",
       "      <td>3839.000000</td>\n",
       "    </tr>\n",
       "    <tr>\n",
       "      <th>mean</th>\n",
       "      <td>734884.369065</td>\n",
       "      <td>7.149882</td>\n",
       "      <td>802.069688</td>\n",
       "      <td>3.531885</td>\n",
       "      <td>981.716236</td>\n",
       "    </tr>\n",
       "    <tr>\n",
       "      <th>std</th>\n",
       "      <td>8.992590</td>\n",
       "      <td>3.054040</td>\n",
       "      <td>743.254057</td>\n",
       "      <td>2.438166</td>\n",
       "      <td>11.946724</td>\n",
       "    </tr>\n",
       "    <tr>\n",
       "      <th>min</th>\n",
       "      <td>734869.000000</td>\n",
       "      <td>2.004207</td>\n",
       "      <td>18.105000</td>\n",
       "      <td>-2.180700</td>\n",
       "      <td>936.090027</td>\n",
       "    </tr>\n",
       "    <tr>\n",
       "      <th>25%</th>\n",
       "      <td>734876.513889</td>\n",
       "      <td>4.658667</td>\n",
       "      <td>122.694099</td>\n",
       "      <td>1.657165</td>\n",
       "      <td>974.293488</td>\n",
       "    </tr>\n",
       "    <tr>\n",
       "      <th>50%</th>\n",
       "      <td>734884.923611</td>\n",
       "      <td>6.611962</td>\n",
       "      <td>518.131714</td>\n",
       "      <td>3.454170</td>\n",
       "      <td>983.346008</td>\n",
       "    </tr>\n",
       "    <tr>\n",
       "      <th>75%</th>\n",
       "      <td>734891.958333</td>\n",
       "      <td>9.359699</td>\n",
       "      <td>1434.233032</td>\n",
       "      <td>5.270040</td>\n",
       "      <td>991.037506</td>\n",
       "    </tr>\n",
       "    <tr>\n",
       "      <th>max</th>\n",
       "      <td>734899.993056</td>\n",
       "      <td>18.339830</td>\n",
       "      <td>2302.708008</td>\n",
       "      <td>9.993120</td>\n",
       "      <td>1001.919983</td>\n",
       "    </tr>\n",
       "  </tbody>\n",
       "</table>\n",
       "</div>"
      ],
      "text/plain": [
       "            date_num           Ws          Pow         Temp     Pressure\n",
       "count    3893.000000  3893.000000  3893.000000  3839.000000  3839.000000\n",
       "mean   734884.369065     7.149882   802.069688     3.531885   981.716236\n",
       "std         8.992590     3.054040   743.254057     2.438166    11.946724\n",
       "min    734869.000000     2.004207    18.105000    -2.180700   936.090027\n",
       "25%    734876.513889     4.658667   122.694099     1.657165   974.293488\n",
       "50%    734884.923611     6.611962   518.131714     3.454170   983.346008\n",
       "75%    734891.958333     9.359699  1434.233032     5.270040   991.037506\n",
       "max    734899.993056    18.339830  2302.708008     9.993120  1001.919983"
      ]
     },
     "execution_count": 322,
     "metadata": {},
     "output_type": "execute_result"
    }
   ],
   "source": [
    "df1_c.describe()"
   ]
  },
  {
   "cell_type": "code",
   "execution_count": 323,
   "metadata": {},
   "outputs": [
    {
     "name": "stderr",
     "output_type": "stream",
     "text": [
      "<ipython-input-323-5d9dc437ca56>:1: UserWarning: Boolean Series key will be reindexed to match DataFrame index.\n",
      "  data=df1_c[(df4['Temp']>=0)]\n"
     ]
    }
   ],
   "source": [
    "data=df1_c[(df4['Temp']>=0)]\n",
    "data1=data[['Pow','Temp']]\n",
    "\n",
    "list_df=data1.to_numpy()\n",
    "\n",
    "result=MahalanobisDist(list_df,verbose=False)\n",
    "#print(result)"
   ]
  },
  {
   "cell_type": "code",
   "execution_count": 324,
   "metadata": {},
   "outputs": [
    {
     "data": {
      "text/plain": [
       "(3595, 5)"
      ]
     },
     "execution_count": 324,
     "metadata": {},
     "output_type": "execute_result"
    }
   ],
   "source": [
    "data.shape"
   ]
  },
  {
   "cell_type": "code",
   "execution_count": 325,
   "metadata": {},
   "outputs": [
    {
     "data": {
      "text/plain": [
       "(3952, 5)"
      ]
     },
     "execution_count": 325,
     "metadata": {},
     "output_type": "execute_result"
    }
   ],
   "source": [
    "df4.shape"
   ]
  },
  {
   "cell_type": "code",
   "execution_count": 326,
   "metadata": {},
   "outputs": [
    {
     "name": "stdout",
     "output_type": "stream",
     "text": [
      "3595\n"
     ]
    }
   ],
   "source": [
    "print(len(result))"
   ]
  },
  {
   "cell_type": "code",
   "execution_count": 327,
   "metadata": {},
   "outputs": [
    {
     "name": "stderr",
     "output_type": "stream",
     "text": [
      "<ipython-input-327-a1ffde6da0a3>:1: SettingWithCopyWarning: \n",
      "A value is trying to be set on a copy of a slice from a DataFrame.\n",
      "Try using .loc[row_indexer,col_indexer] = value instead\n",
      "\n",
      "See the caveats in the documentation: https://pandas.pydata.org/pandas-docs/stable/user_guide/indexing.html#returning-a-view-versus-a-copy\n",
      "  data['dist']=result\n"
     ]
    }
   ],
   "source": [
    "data['dist']=result"
   ]
  },
  {
   "cell_type": "code",
   "execution_count": 328,
   "metadata": {},
   "outputs": [
    {
     "name": "stdout",
     "output_type": "stream",
     "text": [
      "2641907224.9375\n"
     ]
    }
   ],
   "source": [
    "num_tot=data['date_num'].sum()\n",
    "print(num_tot)"
   ]
  },
  {
   "cell_type": "code",
   "execution_count": 329,
   "metadata": {},
   "outputs": [
    {
     "name": "stderr",
     "output_type": "stream",
     "text": [
      "<ipython-input-329-d81983a4ecdc>:1: SettingWithCopyWarning: \n",
      "A value is trying to be set on a copy of a slice from a DataFrame.\n",
      "Try using .loc[row_indexer,col_indexer] = value instead\n",
      "\n",
      "See the caveats in the documentation: https://pandas.pydata.org/pandas-docs/stable/user_guide/indexing.html#returning-a-view-versus-a-copy\n",
      "  data['Pd(%)'] =(data['dist']*data['date_num']*100)/num_tot\n"
     ]
    }
   ],
   "source": [
    "data['Pd(%)'] =(data['dist']*data['date_num']*100)/num_tot"
   ]
  },
  {
   "cell_type": "code",
   "execution_count": 330,
   "metadata": {},
   "outputs": [
    {
     "data": {
      "text/html": [
       "<div>\n",
       "<style scoped>\n",
       "    .dataframe tbody tr th:only-of-type {\n",
       "        vertical-align: middle;\n",
       "    }\n",
       "\n",
       "    .dataframe tbody tr th {\n",
       "        vertical-align: top;\n",
       "    }\n",
       "\n",
       "    .dataframe thead th {\n",
       "        text-align: right;\n",
       "    }\n",
       "</style>\n",
       "<table border=\"1\" class=\"dataframe\">\n",
       "  <thead>\n",
       "    <tr style=\"text-align: right;\">\n",
       "      <th></th>\n",
       "      <th>date_num</th>\n",
       "      <th>Ws</th>\n",
       "      <th>Pow</th>\n",
       "      <th>Temp</th>\n",
       "      <th>Pressure</th>\n",
       "      <th>dist</th>\n",
       "      <th>Pd(%)</th>\n",
       "    </tr>\n",
       "  </thead>\n",
       "  <tbody>\n",
       "    <tr>\n",
       "      <th>count</th>\n",
       "      <td>3595.000000</td>\n",
       "      <td>3595.000000</td>\n",
       "      <td>3595.000000</td>\n",
       "      <td>3595.000000</td>\n",
       "      <td>3595.000000</td>\n",
       "      <td>3595.000000</td>\n",
       "      <td>3595.000000</td>\n",
       "    </tr>\n",
       "    <tr>\n",
       "      <th>mean</th>\n",
       "      <td>734883.789969</td>\n",
       "      <td>7.341070</td>\n",
       "      <td>848.016158</td>\n",
       "      <td>3.807868</td>\n",
       "      <td>981.104310</td>\n",
       "      <td>1.312315</td>\n",
       "      <td>0.036504</td>\n",
       "    </tr>\n",
       "    <tr>\n",
       "      <th>std</th>\n",
       "      <td>8.905089</td>\n",
       "      <td>3.062122</td>\n",
       "      <td>747.917522</td>\n",
       "      <td>2.266819</td>\n",
       "      <td>11.944894</td>\n",
       "      <td>0.526641</td>\n",
       "      <td>0.014649</td>\n",
       "    </tr>\n",
       "    <tr>\n",
       "      <th>min</th>\n",
       "      <td>734869.000000</td>\n",
       "      <td>2.004207</td>\n",
       "      <td>18.105000</td>\n",
       "      <td>0.000646</td>\n",
       "      <td>936.090027</td>\n",
       "      <td>0.036372</td>\n",
       "      <td>0.001012</td>\n",
       "    </tr>\n",
       "    <tr>\n",
       "      <th>25%</th>\n",
       "      <td>734876.010417</td>\n",
       "      <td>4.821453</td>\n",
       "      <td>136.363953</td>\n",
       "      <td>1.956565</td>\n",
       "      <td>973.770508</td>\n",
       "      <td>0.971243</td>\n",
       "      <td>0.027016</td>\n",
       "    </tr>\n",
       "    <tr>\n",
       "      <th>50%</th>\n",
       "      <td>734884.611111</td>\n",
       "      <td>6.967305</td>\n",
       "      <td>621.407715</td>\n",
       "      <td>3.783980</td>\n",
       "      <td>982.377991</td>\n",
       "      <td>1.296589</td>\n",
       "      <td>0.036066</td>\n",
       "    </tr>\n",
       "    <tr>\n",
       "      <th>75%</th>\n",
       "      <td>734891.434028</td>\n",
       "      <td>9.503250</td>\n",
       "      <td>1503.536499</td>\n",
       "      <td>5.442430</td>\n",
       "      <td>990.402985</td>\n",
       "      <td>1.656994</td>\n",
       "      <td>0.046092</td>\n",
       "    </tr>\n",
       "    <tr>\n",
       "      <th>max</th>\n",
       "      <td>734899.868056</td>\n",
       "      <td>18.339830</td>\n",
       "      <td>2302.708008</td>\n",
       "      <td>9.993120</td>\n",
       "      <td>1001.140015</td>\n",
       "      <td>3.297938</td>\n",
       "      <td>0.091735</td>\n",
       "    </tr>\n",
       "  </tbody>\n",
       "</table>\n",
       "</div>"
      ],
      "text/plain": [
       "            date_num           Ws          Pow         Temp     Pressure  \\\n",
       "count    3595.000000  3595.000000  3595.000000  3595.000000  3595.000000   \n",
       "mean   734883.789969     7.341070   848.016158     3.807868   981.104310   \n",
       "std         8.905089     3.062122   747.917522     2.266819    11.944894   \n",
       "min    734869.000000     2.004207    18.105000     0.000646   936.090027   \n",
       "25%    734876.010417     4.821453   136.363953     1.956565   973.770508   \n",
       "50%    734884.611111     6.967305   621.407715     3.783980   982.377991   \n",
       "75%    734891.434028     9.503250  1503.536499     5.442430   990.402985   \n",
       "max    734899.868056    18.339830  2302.708008     9.993120  1001.140015   \n",
       "\n",
       "              dist        Pd(%)  \n",
       "count  3595.000000  3595.000000  \n",
       "mean      1.312315     0.036504  \n",
       "std       0.526641     0.014649  \n",
       "min       0.036372     0.001012  \n",
       "25%       0.971243     0.027016  \n",
       "50%       1.296589     0.036066  \n",
       "75%       1.656994     0.046092  \n",
       "max       3.297938     0.091735  "
      ]
     },
     "execution_count": 330,
     "metadata": {},
     "output_type": "execute_result"
    }
   ],
   "source": [
    "data.describe()"
   ]
  },
  {
   "cell_type": "code",
   "execution_count": 331,
   "metadata": {},
   "outputs": [
    {
     "data": {
      "text/plain": [
       "0.09173527681256759"
      ]
     },
     "execution_count": 331,
     "metadata": {},
     "output_type": "execute_result"
    }
   ],
   "source": [
    "data['Pd(%)'].max()"
   ]
  },
  {
   "cell_type": "code",
   "execution_count": null,
   "metadata": {},
   "outputs": [],
   "source": []
  },
  {
   "cell_type": "code",
   "execution_count": 332,
   "metadata": {},
   "outputs": [
    {
     "name": "stdout",
     "output_type": "stream",
     "text": [
      "863\n"
     ]
    }
   ],
   "source": [
    "#Cluster2 X[y_hc==1, 0],X[y_hc==1, 1]\n",
    "c=X[y_hc==1, 0]\n",
    "d=X[y_hc==1, 1]\n",
    "print(len(c))"
   ]
  },
  {
   "cell_type": "code",
   "execution_count": 333,
   "metadata": {},
   "outputs": [],
   "source": [
    "df18= pd.DataFrame({'Pow': c, 'Temp':d})"
   ]
  },
  {
   "cell_type": "code",
   "execution_count": 334,
   "metadata": {},
   "outputs": [
    {
     "name": "stdout",
     "output_type": "stream",
     "text": [
      "[6777.542294322132, 7152.311703360371]\n"
     ]
    }
   ],
   "source": [
    "coordinatesCenter=[]\n",
    "C2=findCordinateCenter(df18['Pow'],df18['Temp'],coordinatesCenter)\n",
    "print(C2)"
   ]
  },
  {
   "cell_type": "code",
   "execution_count": 335,
   "metadata": {},
   "outputs": [],
   "source": [
    "C2=np.array(C2)\n",
    "C2=C2.reshape(1,- 1)"
   ]
  },
  {
   "cell_type": "code",
   "execution_count": 336,
   "metadata": {},
   "outputs": [],
   "source": [
    "data2=df18\n",
    "data2=df18[['Temp','Pow']]\n",
    "\n",
    "list_df2=data2.to_numpy()\n",
    "\n",
    "result2=MahalanobisDist(list_df2,verbose=False)\n",
    "#print(result)"
   ]
  },
  {
   "cell_type": "code",
   "execution_count": 337,
   "metadata": {},
   "outputs": [
    {
     "data": {
      "text/html": [
       "<div>\n",
       "<style scoped>\n",
       "    .dataframe tbody tr th:only-of-type {\n",
       "        vertical-align: middle;\n",
       "    }\n",
       "\n",
       "    .dataframe tbody tr th {\n",
       "        vertical-align: top;\n",
       "    }\n",
       "\n",
       "    .dataframe thead th {\n",
       "        text-align: right;\n",
       "    }\n",
       "</style>\n",
       "<table border=\"1\" class=\"dataframe\">\n",
       "  <thead>\n",
       "    <tr style=\"text-align: right;\">\n",
       "      <th></th>\n",
       "      <th>Pow</th>\n",
       "      <th>Temp</th>\n",
       "    </tr>\n",
       "  </thead>\n",
       "  <tbody>\n",
       "    <tr>\n",
       "      <th>count</th>\n",
       "      <td>863.000000</td>\n",
       "      <td>863.000000</td>\n",
       "    </tr>\n",
       "    <tr>\n",
       "      <th>mean</th>\n",
       "      <td>6777.542294</td>\n",
       "      <td>7152.311703</td>\n",
       "    </tr>\n",
       "    <tr>\n",
       "      <th>std</th>\n",
       "      <td>673.433845</td>\n",
       "      <td>459.125893</td>\n",
       "    </tr>\n",
       "    <tr>\n",
       "      <th>min</th>\n",
       "      <td>5037.000000</td>\n",
       "      <td>6020.000000</td>\n",
       "    </tr>\n",
       "    <tr>\n",
       "      <th>25%</th>\n",
       "      <td>6235.500000</td>\n",
       "      <td>6801.500000</td>\n",
       "    </tr>\n",
       "    <tr>\n",
       "      <th>50%</th>\n",
       "      <td>6767.000000</td>\n",
       "      <td>7195.000000</td>\n",
       "    </tr>\n",
       "    <tr>\n",
       "      <th>75%</th>\n",
       "      <td>7374.000000</td>\n",
       "      <td>7534.000000</td>\n",
       "    </tr>\n",
       "    <tr>\n",
       "      <th>max</th>\n",
       "      <td>7899.000000</td>\n",
       "      <td>7901.000000</td>\n",
       "    </tr>\n",
       "  </tbody>\n",
       "</table>\n",
       "</div>"
      ],
      "text/plain": [
       "               Pow         Temp\n",
       "count   863.000000   863.000000\n",
       "mean   6777.542294  7152.311703\n",
       "std     673.433845   459.125893\n",
       "min    5037.000000  6020.000000\n",
       "25%    6235.500000  6801.500000\n",
       "50%    6767.000000  7195.000000\n",
       "75%    7374.000000  7534.000000\n",
       "max    7899.000000  7901.000000"
      ]
     },
     "execution_count": 337,
     "metadata": {},
     "output_type": "execute_result"
    }
   ],
   "source": [
    "df18.describe()"
   ]
  },
  {
   "cell_type": "code",
   "execution_count": 338,
   "metadata": {},
   "outputs": [],
   "source": [
    "df2_c=df4[(df4['Pow']<=df18['Pow'].max())]"
   ]
  },
  {
   "cell_type": "code",
   "execution_count": 339,
   "metadata": {},
   "outputs": [
    {
     "data": {
      "text/html": [
       "<div>\n",
       "<style scoped>\n",
       "    .dataframe tbody tr th:only-of-type {\n",
       "        vertical-align: middle;\n",
       "    }\n",
       "\n",
       "    .dataframe tbody tr th {\n",
       "        vertical-align: top;\n",
       "    }\n",
       "\n",
       "    .dataframe thead th {\n",
       "        text-align: right;\n",
       "    }\n",
       "</style>\n",
       "<table border=\"1\" class=\"dataframe\">\n",
       "  <thead>\n",
       "    <tr style=\"text-align: right;\">\n",
       "      <th></th>\n",
       "      <th>date_num</th>\n",
       "      <th>Ws</th>\n",
       "      <th>Pow</th>\n",
       "      <th>Temp</th>\n",
       "      <th>Pressure</th>\n",
       "    </tr>\n",
       "  </thead>\n",
       "  <tbody>\n",
       "    <tr>\n",
       "      <th>count</th>\n",
       "      <td>3952.000000</td>\n",
       "      <td>3952.000000</td>\n",
       "      <td>3952.000000</td>\n",
       "      <td>3898.000000</td>\n",
       "      <td>3898.000000</td>\n",
       "    </tr>\n",
       "    <tr>\n",
       "      <th>mean</th>\n",
       "      <td>734884.478220</td>\n",
       "      <td>7.078841</td>\n",
       "      <td>790.306057</td>\n",
       "      <td>3.496633</td>\n",
       "      <td>981.844409</td>\n",
       "    </tr>\n",
       "    <tr>\n",
       "      <th>std</th>\n",
       "      <td>9.005456</td>\n",
       "      <td>3.085873</td>\n",
       "      <td>743.848479</td>\n",
       "      <td>2.440402</td>\n",
       "      <td>11.968703</td>\n",
       "    </tr>\n",
       "    <tr>\n",
       "      <th>min</th>\n",
       "      <td>734869.000000</td>\n",
       "      <td>1.821097</td>\n",
       "      <td>10.138330</td>\n",
       "      <td>-2.180700</td>\n",
       "      <td>936.090027</td>\n",
       "    </tr>\n",
       "    <tr>\n",
       "      <th>25%</th>\n",
       "      <td>734876.616319</td>\n",
       "      <td>4.576938</td>\n",
       "      <td>117.458776</td>\n",
       "      <td>1.627327</td>\n",
       "      <td>974.352264</td>\n",
       "    </tr>\n",
       "    <tr>\n",
       "      <th>50%</th>\n",
       "      <td>734884.989583</td>\n",
       "      <td>6.521796</td>\n",
       "      <td>488.904800</td>\n",
       "      <td>3.362340</td>\n",
       "      <td>983.518005</td>\n",
       "    </tr>\n",
       "    <tr>\n",
       "      <th>75%</th>\n",
       "      <td>734892.126736</td>\n",
       "      <td>9.323606</td>\n",
       "      <td>1420.521484</td>\n",
       "      <td>5.230392</td>\n",
       "      <td>991.213242</td>\n",
       "    </tr>\n",
       "    <tr>\n",
       "      <th>max</th>\n",
       "      <td>734899.993056</td>\n",
       "      <td>18.339830</td>\n",
       "      <td>2302.708008</td>\n",
       "      <td>9.993120</td>\n",
       "      <td>1001.919983</td>\n",
       "    </tr>\n",
       "  </tbody>\n",
       "</table>\n",
       "</div>"
      ],
      "text/plain": [
       "            date_num           Ws          Pow         Temp     Pressure\n",
       "count    3952.000000  3952.000000  3952.000000  3898.000000  3898.000000\n",
       "mean   734884.478220     7.078841   790.306057     3.496633   981.844409\n",
       "std         9.005456     3.085873   743.848479     2.440402    11.968703\n",
       "min    734869.000000     1.821097    10.138330    -2.180700   936.090027\n",
       "25%    734876.616319     4.576938   117.458776     1.627327   974.352264\n",
       "50%    734884.989583     6.521796   488.904800     3.362340   983.518005\n",
       "75%    734892.126736     9.323606  1420.521484     5.230392   991.213242\n",
       "max    734899.993056    18.339830  2302.708008     9.993120  1001.919983"
      ]
     },
     "execution_count": 339,
     "metadata": {},
     "output_type": "execute_result"
    }
   ],
   "source": [
    "df2_c.describe()"
   ]
  },
  {
   "cell_type": "code",
   "execution_count": 340,
   "metadata": {},
   "outputs": [],
   "source": [
    "data2=df2_c[(df4['Temp']>=0)]\n",
    "data3=data2[['Pow','Temp']]\n",
    "\n",
    "list_df2=data3.to_numpy()\n",
    "\n",
    "result2=MahalanobisDist(list_df2,verbose=False)"
   ]
  },
  {
   "cell_type": "code",
   "execution_count": 341,
   "metadata": {},
   "outputs": [
    {
     "name": "stderr",
     "output_type": "stream",
     "text": [
      "<ipython-input-341-d70b724ef4b0>:1: SettingWithCopyWarning: \n",
      "A value is trying to be set on a copy of a slice from a DataFrame.\n",
      "Try using .loc[row_indexer,col_indexer] = value instead\n",
      "\n",
      "See the caveats in the documentation: https://pandas.pydata.org/pandas-docs/stable/user_guide/indexing.html#returning-a-view-versus-a-copy\n",
      "  data2['dist']=result2\n"
     ]
    }
   ],
   "source": [
    "data2['dist']=result2"
   ]
  },
  {
   "cell_type": "code",
   "execution_count": 342,
   "metadata": {},
   "outputs": [
    {
     "name": "stdout",
     "output_type": "stream",
     "text": [
      "2678651847.4375005\n"
     ]
    }
   ],
   "source": [
    "num_tot2=data2['date_num'].sum()\n",
    "print(num_tot2)"
   ]
  },
  {
   "cell_type": "code",
   "execution_count": 343,
   "metadata": {},
   "outputs": [
    {
     "name": "stderr",
     "output_type": "stream",
     "text": [
      "<ipython-input-343-582a4374ed74>:1: SettingWithCopyWarning: \n",
      "A value is trying to be set on a copy of a slice from a DataFrame.\n",
      "Try using .loc[row_indexer,col_indexer] = value instead\n",
      "\n",
      "See the caveats in the documentation: https://pandas.pydata.org/pandas-docs/stable/user_guide/indexing.html#returning-a-view-versus-a-copy\n",
      "  data2['Pd(%)'] =(data2['dist']*data2['date_num']*100)/num_tot2\n"
     ]
    }
   ],
   "source": [
    "data2['Pd(%)'] =(data2['dist']*data2['date_num']*100)/num_tot2"
   ]
  },
  {
   "cell_type": "code",
   "execution_count": 344,
   "metadata": {},
   "outputs": [
    {
     "data": {
      "text/html": [
       "<div>\n",
       "<style scoped>\n",
       "    .dataframe tbody tr th:only-of-type {\n",
       "        vertical-align: middle;\n",
       "    }\n",
       "\n",
       "    .dataframe tbody tr th {\n",
       "        vertical-align: top;\n",
       "    }\n",
       "\n",
       "    .dataframe thead th {\n",
       "        text-align: right;\n",
       "    }\n",
       "</style>\n",
       "<table border=\"1\" class=\"dataframe\">\n",
       "  <thead>\n",
       "    <tr style=\"text-align: right;\">\n",
       "      <th></th>\n",
       "      <th>date_num</th>\n",
       "      <th>Ws</th>\n",
       "      <th>Pow</th>\n",
       "      <th>Temp</th>\n",
       "      <th>Pressure</th>\n",
       "      <th>dist</th>\n",
       "      <th>Pd(%)</th>\n",
       "    </tr>\n",
       "  </thead>\n",
       "  <tbody>\n",
       "    <tr>\n",
       "      <th>count</th>\n",
       "      <td>3645.000000</td>\n",
       "      <td>3645.000000</td>\n",
       "      <td>3645.000000</td>\n",
       "      <td>3645.000000</td>\n",
       "      <td>3645.000000</td>\n",
       "      <td>3645.000000</td>\n",
       "      <td>3645.000000</td>\n",
       "    </tr>\n",
       "    <tr>\n",
       "      <th>mean</th>\n",
       "      <td>734883.908762</td>\n",
       "      <td>7.272698</td>\n",
       "      <td>836.578275</td>\n",
       "      <td>3.776209</td>\n",
       "      <td>981.237354</td>\n",
       "      <td>1.311627</td>\n",
       "      <td>0.035984</td>\n",
       "    </tr>\n",
       "    <tr>\n",
       "      <th>std</th>\n",
       "      <td>8.933130</td>\n",
       "      <td>3.095980</td>\n",
       "      <td>749.075581</td>\n",
       "      <td>2.270072</td>\n",
       "      <td>11.978783</td>\n",
       "      <td>0.528357</td>\n",
       "      <td>0.014495</td>\n",
       "    </tr>\n",
       "    <tr>\n",
       "      <th>min</th>\n",
       "      <td>734869.000000</td>\n",
       "      <td>1.821097</td>\n",
       "      <td>10.138330</td>\n",
       "      <td>0.000646</td>\n",
       "      <td>936.090027</td>\n",
       "      <td>0.032251</td>\n",
       "      <td>0.000885</td>\n",
       "    </tr>\n",
       "    <tr>\n",
       "      <th>25%</th>\n",
       "      <td>734876.097222</td>\n",
       "      <td>4.737313</td>\n",
       "      <td>129.126404</td>\n",
       "      <td>1.916840</td>\n",
       "      <td>973.822998</td>\n",
       "      <td>0.965711</td>\n",
       "      <td>0.026494</td>\n",
       "    </tr>\n",
       "    <tr>\n",
       "      <th>50%</th>\n",
       "      <td>734884.687500</td>\n",
       "      <td>6.901833</td>\n",
       "      <td>599.739990</td>\n",
       "      <td>3.722590</td>\n",
       "      <td>982.544006</td>\n",
       "      <td>1.289146</td>\n",
       "      <td>0.035368</td>\n",
       "    </tr>\n",
       "    <tr>\n",
       "      <th>75%</th>\n",
       "      <td>734891.597222</td>\n",
       "      <td>9.476461</td>\n",
       "      <td>1494.094971</td>\n",
       "      <td>5.418560</td>\n",
       "      <td>990.765991</td>\n",
       "      <td>1.649154</td>\n",
       "      <td>0.045245</td>\n",
       "    </tr>\n",
       "    <tr>\n",
       "      <th>max</th>\n",
       "      <td>734899.868056</td>\n",
       "      <td>18.339830</td>\n",
       "      <td>2302.708008</td>\n",
       "      <td>9.993120</td>\n",
       "      <td>1001.140015</td>\n",
       "      <td>3.318287</td>\n",
       "      <td>0.091035</td>\n",
       "    </tr>\n",
       "  </tbody>\n",
       "</table>\n",
       "</div>"
      ],
      "text/plain": [
       "            date_num           Ws          Pow         Temp     Pressure  \\\n",
       "count    3645.000000  3645.000000  3645.000000  3645.000000  3645.000000   \n",
       "mean   734883.908762     7.272698   836.578275     3.776209   981.237354   \n",
       "std         8.933130     3.095980   749.075581     2.270072    11.978783   \n",
       "min    734869.000000     1.821097    10.138330     0.000646   936.090027   \n",
       "25%    734876.097222     4.737313   129.126404     1.916840   973.822998   \n",
       "50%    734884.687500     6.901833   599.739990     3.722590   982.544006   \n",
       "75%    734891.597222     9.476461  1494.094971     5.418560   990.765991   \n",
       "max    734899.868056    18.339830  2302.708008     9.993120  1001.140015   \n",
       "\n",
       "              dist        Pd(%)  \n",
       "count  3645.000000  3645.000000  \n",
       "mean      1.311627     0.035984  \n",
       "std       0.528357     0.014495  \n",
       "min       0.032251     0.000885  \n",
       "25%       0.965711     0.026494  \n",
       "50%       1.289146     0.035368  \n",
       "75%       1.649154     0.045245  \n",
       "max       3.318287     0.091035  "
      ]
     },
     "execution_count": 344,
     "metadata": {},
     "output_type": "execute_result"
    }
   ],
   "source": [
    "data2.describe()"
   ]
  },
  {
   "cell_type": "code",
   "execution_count": 345,
   "metadata": {},
   "outputs": [
    {
     "data": {
      "text/plain": [
       "0.09103516559275826"
      ]
     },
     "execution_count": 345,
     "metadata": {},
     "output_type": "execute_result"
    }
   ],
   "source": [
    "data2['Pd(%)'].max()"
   ]
  },
  {
   "cell_type": "code",
   "execution_count": null,
   "metadata": {},
   "outputs": [],
   "source": []
  },
  {
   "cell_type": "code",
   "execution_count": 346,
   "metadata": {},
   "outputs": [],
   "source": [
    "#Cluster3 X[y_hc==2, 0],X[y_hc==2, 1]\n",
    "l=X[y_hc==2, 0]\n",
    "m=X[y_hc==2, 1]"
   ]
  },
  {
   "cell_type": "code",
   "execution_count": 347,
   "metadata": {},
   "outputs": [],
   "source": [
    "df20= pd.DataFrame({'Pow': l, 'Temp':m})"
   ]
  },
  {
   "cell_type": "code",
   "execution_count": 348,
   "metadata": {},
   "outputs": [
    {
     "name": "stdout",
     "output_type": "stream",
     "text": [
      "[1166.8693467336684, 2165.42378559464]\n"
     ]
    }
   ],
   "source": [
    "coordinatesCenter=[]\n",
    "C3=findCordinateCenter(df20['Pow'],df20['Temp'],coordinatesCenter)\n",
    "print(C3)"
   ]
  },
  {
   "cell_type": "code",
   "execution_count": 349,
   "metadata": {},
   "outputs": [],
   "source": [
    "C3=np.array(C3)\n",
    "C3=C3.reshape(1,- 1)"
   ]
  },
  {
   "cell_type": "code",
   "execution_count": 350,
   "metadata": {},
   "outputs": [],
   "source": [
    "data4=df20\n",
    "data5=df20[['Pow','Temp']]\n",
    "\n",
    "list_df3=data3.to_numpy()\n",
    "\n",
    "result3=MahalanobisDist(list_df3,verbose=False)\n",
    "#print(result)"
   ]
  },
  {
   "cell_type": "code",
   "execution_count": 351,
   "metadata": {},
   "outputs": [
    {
     "data": {
      "text/html": [
       "<div>\n",
       "<style scoped>\n",
       "    .dataframe tbody tr th:only-of-type {\n",
       "        vertical-align: middle;\n",
       "    }\n",
       "\n",
       "    .dataframe tbody tr th {\n",
       "        vertical-align: top;\n",
       "    }\n",
       "\n",
       "    .dataframe thead th {\n",
       "        text-align: right;\n",
       "    }\n",
       "</style>\n",
       "<table border=\"1\" class=\"dataframe\">\n",
       "  <thead>\n",
       "    <tr style=\"text-align: right;\">\n",
       "      <th></th>\n",
       "      <th>Pow</th>\n",
       "      <th>Temp</th>\n",
       "    </tr>\n",
       "  </thead>\n",
       "  <tbody>\n",
       "    <tr>\n",
       "      <th>count</th>\n",
       "      <td>1194.000000</td>\n",
       "      <td>1194.000000</td>\n",
       "    </tr>\n",
       "    <tr>\n",
       "      <th>mean</th>\n",
       "      <td>1166.869347</td>\n",
       "      <td>2165.423786</td>\n",
       "    </tr>\n",
       "    <tr>\n",
       "      <th>std</th>\n",
       "      <td>810.707688</td>\n",
       "      <td>905.686444</td>\n",
       "    </tr>\n",
       "    <tr>\n",
       "      <th>min</th>\n",
       "      <td>0.000000</td>\n",
       "      <td>33.000000</td>\n",
       "    </tr>\n",
       "    <tr>\n",
       "      <th>25%</th>\n",
       "      <td>520.250000</td>\n",
       "      <td>1413.000000</td>\n",
       "    </tr>\n",
       "    <tr>\n",
       "      <th>50%</th>\n",
       "      <td>1021.500000</td>\n",
       "      <td>2346.000000</td>\n",
       "    </tr>\n",
       "    <tr>\n",
       "      <th>75%</th>\n",
       "      <td>1727.750000</td>\n",
       "      <td>2887.500000</td>\n",
       "    </tr>\n",
       "    <tr>\n",
       "      <th>max</th>\n",
       "      <td>3181.000000</td>\n",
       "      <td>3742.000000</td>\n",
       "    </tr>\n",
       "  </tbody>\n",
       "</table>\n",
       "</div>"
      ],
      "text/plain": [
       "               Pow         Temp\n",
       "count  1194.000000  1194.000000\n",
       "mean   1166.869347  2165.423786\n",
       "std     810.707688   905.686444\n",
       "min       0.000000    33.000000\n",
       "25%     520.250000  1413.000000\n",
       "50%    1021.500000  2346.000000\n",
       "75%    1727.750000  2887.500000\n",
       "max    3181.000000  3742.000000"
      ]
     },
     "execution_count": 351,
     "metadata": {},
     "output_type": "execute_result"
    }
   ],
   "source": [
    "df20.describe()"
   ]
  },
  {
   "cell_type": "code",
   "execution_count": 352,
   "metadata": {},
   "outputs": [],
   "source": [
    "df3_c=df4[(df4['Pow']>=df20['Pow'].min())&(df4['Pow']<=df20['Pow'].max())]"
   ]
  },
  {
   "cell_type": "code",
   "execution_count": 353,
   "metadata": {},
   "outputs": [
    {
     "data": {
      "text/html": [
       "<div>\n",
       "<style scoped>\n",
       "    .dataframe tbody tr th:only-of-type {\n",
       "        vertical-align: middle;\n",
       "    }\n",
       "\n",
       "    .dataframe tbody tr th {\n",
       "        vertical-align: top;\n",
       "    }\n",
       "\n",
       "    .dataframe thead th {\n",
       "        text-align: right;\n",
       "    }\n",
       "</style>\n",
       "<table border=\"1\" class=\"dataframe\">\n",
       "  <thead>\n",
       "    <tr style=\"text-align: right;\">\n",
       "      <th></th>\n",
       "      <th>date_num</th>\n",
       "      <th>Ws</th>\n",
       "      <th>Pow</th>\n",
       "      <th>Temp</th>\n",
       "      <th>Pressure</th>\n",
       "    </tr>\n",
       "  </thead>\n",
       "  <tbody>\n",
       "    <tr>\n",
       "      <th>count</th>\n",
       "      <td>3952.000000</td>\n",
       "      <td>3952.000000</td>\n",
       "      <td>3952.000000</td>\n",
       "      <td>3898.000000</td>\n",
       "      <td>3898.000000</td>\n",
       "    </tr>\n",
       "    <tr>\n",
       "      <th>mean</th>\n",
       "      <td>734884.478220</td>\n",
       "      <td>7.078841</td>\n",
       "      <td>790.306057</td>\n",
       "      <td>3.496633</td>\n",
       "      <td>981.844409</td>\n",
       "    </tr>\n",
       "    <tr>\n",
       "      <th>std</th>\n",
       "      <td>9.005456</td>\n",
       "      <td>3.085873</td>\n",
       "      <td>743.848479</td>\n",
       "      <td>2.440402</td>\n",
       "      <td>11.968703</td>\n",
       "    </tr>\n",
       "    <tr>\n",
       "      <th>min</th>\n",
       "      <td>734869.000000</td>\n",
       "      <td>1.821097</td>\n",
       "      <td>10.138330</td>\n",
       "      <td>-2.180700</td>\n",
       "      <td>936.090027</td>\n",
       "    </tr>\n",
       "    <tr>\n",
       "      <th>25%</th>\n",
       "      <td>734876.616319</td>\n",
       "      <td>4.576938</td>\n",
       "      <td>117.458776</td>\n",
       "      <td>1.627327</td>\n",
       "      <td>974.352264</td>\n",
       "    </tr>\n",
       "    <tr>\n",
       "      <th>50%</th>\n",
       "      <td>734884.989583</td>\n",
       "      <td>6.521796</td>\n",
       "      <td>488.904800</td>\n",
       "      <td>3.362340</td>\n",
       "      <td>983.518005</td>\n",
       "    </tr>\n",
       "    <tr>\n",
       "      <th>75%</th>\n",
       "      <td>734892.126736</td>\n",
       "      <td>9.323606</td>\n",
       "      <td>1420.521484</td>\n",
       "      <td>5.230392</td>\n",
       "      <td>991.213242</td>\n",
       "    </tr>\n",
       "    <tr>\n",
       "      <th>max</th>\n",
       "      <td>734899.993056</td>\n",
       "      <td>18.339830</td>\n",
       "      <td>2302.708008</td>\n",
       "      <td>9.993120</td>\n",
       "      <td>1001.919983</td>\n",
       "    </tr>\n",
       "  </tbody>\n",
       "</table>\n",
       "</div>"
      ],
      "text/plain": [
       "            date_num           Ws          Pow         Temp     Pressure\n",
       "count    3952.000000  3952.000000  3952.000000  3898.000000  3898.000000\n",
       "mean   734884.478220     7.078841   790.306057     3.496633   981.844409\n",
       "std         9.005456     3.085873   743.848479     2.440402    11.968703\n",
       "min    734869.000000     1.821097    10.138330    -2.180700   936.090027\n",
       "25%    734876.616319     4.576938   117.458776     1.627327   974.352264\n",
       "50%    734884.989583     6.521796   488.904800     3.362340   983.518005\n",
       "75%    734892.126736     9.323606  1420.521484     5.230392   991.213242\n",
       "max    734899.993056    18.339830  2302.708008     9.993120  1001.919983"
      ]
     },
     "execution_count": 353,
     "metadata": {},
     "output_type": "execute_result"
    }
   ],
   "source": [
    "df3_c.describe()"
   ]
  },
  {
   "cell_type": "code",
   "execution_count": 354,
   "metadata": {},
   "outputs": [],
   "source": [
    "data4=df3_c[(df4['Temp']>=0)]\n",
    "data5=data4[['Temp','Pow']]\n",
    "\n",
    "list_df3=data5.to_numpy()\n",
    "\n",
    "result3=MahalanobisDist(list_df3,verbose=False)"
   ]
  },
  {
   "cell_type": "code",
   "execution_count": 355,
   "metadata": {},
   "outputs": [
    {
     "name": "stderr",
     "output_type": "stream",
     "text": [
      "<ipython-input-355-91bb519bb4c0>:1: SettingWithCopyWarning: \n",
      "A value is trying to be set on a copy of a slice from a DataFrame.\n",
      "Try using .loc[row_indexer,col_indexer] = value instead\n",
      "\n",
      "See the caveats in the documentation: https://pandas.pydata.org/pandas-docs/stable/user_guide/indexing.html#returning-a-view-versus-a-copy\n",
      "  data4['dist']=result3\n"
     ]
    }
   ],
   "source": [
    "data4['dist']=result3"
   ]
  },
  {
   "cell_type": "code",
   "execution_count": 356,
   "metadata": {},
   "outputs": [
    {
     "name": "stdout",
     "output_type": "stream",
     "text": [
      "2678651847.4375005\n"
     ]
    }
   ],
   "source": [
    "num_tot3=data4['date_num'].sum()\n",
    "print(num_tot3)"
   ]
  },
  {
   "cell_type": "code",
   "execution_count": 357,
   "metadata": {},
   "outputs": [
    {
     "name": "stderr",
     "output_type": "stream",
     "text": [
      "<ipython-input-357-9f24bf12ae73>:1: SettingWithCopyWarning: \n",
      "A value is trying to be set on a copy of a slice from a DataFrame.\n",
      "Try using .loc[row_indexer,col_indexer] = value instead\n",
      "\n",
      "See the caveats in the documentation: https://pandas.pydata.org/pandas-docs/stable/user_guide/indexing.html#returning-a-view-versus-a-copy\n",
      "  data4['Pd(%)'] =(data4['dist']*data4['date_num']*100)/num_tot3\n"
     ]
    }
   ],
   "source": [
    "data4['Pd(%)'] =(data4['dist']*data4['date_num']*100)/num_tot3"
   ]
  },
  {
   "cell_type": "code",
   "execution_count": 358,
   "metadata": {},
   "outputs": [
    {
     "data": {
      "text/html": [
       "<div>\n",
       "<style scoped>\n",
       "    .dataframe tbody tr th:only-of-type {\n",
       "        vertical-align: middle;\n",
       "    }\n",
       "\n",
       "    .dataframe tbody tr th {\n",
       "        vertical-align: top;\n",
       "    }\n",
       "\n",
       "    .dataframe thead th {\n",
       "        text-align: right;\n",
       "    }\n",
       "</style>\n",
       "<table border=\"1\" class=\"dataframe\">\n",
       "  <thead>\n",
       "    <tr style=\"text-align: right;\">\n",
       "      <th></th>\n",
       "      <th>date_num</th>\n",
       "      <th>Ws</th>\n",
       "      <th>Pow</th>\n",
       "      <th>Temp</th>\n",
       "      <th>Pressure</th>\n",
       "      <th>dist</th>\n",
       "      <th>Pd(%)</th>\n",
       "    </tr>\n",
       "  </thead>\n",
       "  <tbody>\n",
       "    <tr>\n",
       "      <th>count</th>\n",
       "      <td>3645.000000</td>\n",
       "      <td>3645.000000</td>\n",
       "      <td>3645.000000</td>\n",
       "      <td>3645.000000</td>\n",
       "      <td>3645.000000</td>\n",
       "      <td>3645.000000</td>\n",
       "      <td>3645.000000</td>\n",
       "    </tr>\n",
       "    <tr>\n",
       "      <th>mean</th>\n",
       "      <td>734883.908762</td>\n",
       "      <td>7.272698</td>\n",
       "      <td>836.578275</td>\n",
       "      <td>3.776209</td>\n",
       "      <td>981.237354</td>\n",
       "      <td>1.311627</td>\n",
       "      <td>0.035984</td>\n",
       "    </tr>\n",
       "    <tr>\n",
       "      <th>std</th>\n",
       "      <td>8.933130</td>\n",
       "      <td>3.095980</td>\n",
       "      <td>749.075581</td>\n",
       "      <td>2.270072</td>\n",
       "      <td>11.978783</td>\n",
       "      <td>0.528357</td>\n",
       "      <td>0.014495</td>\n",
       "    </tr>\n",
       "    <tr>\n",
       "      <th>min</th>\n",
       "      <td>734869.000000</td>\n",
       "      <td>1.821097</td>\n",
       "      <td>10.138330</td>\n",
       "      <td>0.000646</td>\n",
       "      <td>936.090027</td>\n",
       "      <td>0.032251</td>\n",
       "      <td>0.000885</td>\n",
       "    </tr>\n",
       "    <tr>\n",
       "      <th>25%</th>\n",
       "      <td>734876.097222</td>\n",
       "      <td>4.737313</td>\n",
       "      <td>129.126404</td>\n",
       "      <td>1.916840</td>\n",
       "      <td>973.822998</td>\n",
       "      <td>0.965711</td>\n",
       "      <td>0.026494</td>\n",
       "    </tr>\n",
       "    <tr>\n",
       "      <th>50%</th>\n",
       "      <td>734884.687500</td>\n",
       "      <td>6.901833</td>\n",
       "      <td>599.739990</td>\n",
       "      <td>3.722590</td>\n",
       "      <td>982.544006</td>\n",
       "      <td>1.289146</td>\n",
       "      <td>0.035368</td>\n",
       "    </tr>\n",
       "    <tr>\n",
       "      <th>75%</th>\n",
       "      <td>734891.597222</td>\n",
       "      <td>9.476461</td>\n",
       "      <td>1494.094971</td>\n",
       "      <td>5.418560</td>\n",
       "      <td>990.765991</td>\n",
       "      <td>1.649154</td>\n",
       "      <td>0.045245</td>\n",
       "    </tr>\n",
       "    <tr>\n",
       "      <th>max</th>\n",
       "      <td>734899.868056</td>\n",
       "      <td>18.339830</td>\n",
       "      <td>2302.708008</td>\n",
       "      <td>9.993120</td>\n",
       "      <td>1001.140015</td>\n",
       "      <td>3.318287</td>\n",
       "      <td>0.091035</td>\n",
       "    </tr>\n",
       "  </tbody>\n",
       "</table>\n",
       "</div>"
      ],
      "text/plain": [
       "            date_num           Ws          Pow         Temp     Pressure  \\\n",
       "count    3645.000000  3645.000000  3645.000000  3645.000000  3645.000000   \n",
       "mean   734883.908762     7.272698   836.578275     3.776209   981.237354   \n",
       "std         8.933130     3.095980   749.075581     2.270072    11.978783   \n",
       "min    734869.000000     1.821097    10.138330     0.000646   936.090027   \n",
       "25%    734876.097222     4.737313   129.126404     1.916840   973.822998   \n",
       "50%    734884.687500     6.901833   599.739990     3.722590   982.544006   \n",
       "75%    734891.597222     9.476461  1494.094971     5.418560   990.765991   \n",
       "max    734899.868056    18.339830  2302.708008     9.993120  1001.140015   \n",
       "\n",
       "              dist        Pd(%)  \n",
       "count  3645.000000  3645.000000  \n",
       "mean      1.311627     0.035984  \n",
       "std       0.528357     0.014495  \n",
       "min       0.032251     0.000885  \n",
       "25%       0.965711     0.026494  \n",
       "50%       1.289146     0.035368  \n",
       "75%       1.649154     0.045245  \n",
       "max       3.318287     0.091035  "
      ]
     },
     "execution_count": 358,
     "metadata": {},
     "output_type": "execute_result"
    }
   ],
   "source": [
    "data4.describe()"
   ]
  },
  {
   "cell_type": "code",
   "execution_count": null,
   "metadata": {},
   "outputs": [],
   "source": []
  },
  {
   "cell_type": "code",
   "execution_count": 365,
   "metadata": {},
   "outputs": [],
   "source": [
    "min_threshold=0.025"
   ]
  },
  {
   "cell_type": "code",
   "execution_count": 366,
   "metadata": {},
   "outputs": [],
   "source": [
    "df_res=pd.concat([data,data2,data4])"
   ]
  },
  {
   "cell_type": "code",
   "execution_count": 371,
   "metadata": {},
   "outputs": [],
   "source": [
    "df_res1=df_res[df_res['Pd(%)']>min_threshold]"
   ]
  },
  {
   "cell_type": "code",
   "execution_count": 372,
   "metadata": {},
   "outputs": [
    {
     "data": {
      "text/plain": [
       "10885"
      ]
     },
     "execution_count": 372,
     "metadata": {},
     "output_type": "execute_result"
    }
   ],
   "source": [
    "df_res.shape[0]"
   ]
  },
  {
   "cell_type": "code",
   "execution_count": 373,
   "metadata": {},
   "outputs": [
    {
     "data": {
      "text/plain": [
       "8468"
      ]
     },
     "execution_count": 373,
     "metadata": {},
     "output_type": "execute_result"
    }
   ],
   "source": [
    "df_res1.shape[0]"
   ]
  },
  {
   "cell_type": "code",
   "execution_count": null,
   "metadata": {},
   "outputs": [],
   "source": []
  },
  {
   "cell_type": "code",
   "execution_count": 374,
   "metadata": {},
   "outputs": [
    {
     "data": {
      "image/png": "[encoded data removed]",
      "text/plain": [
       "<Figure size 432x288 with 1 Axes>"
      ]
     },
     "metadata": {
      "needs_background": "light"
     },
     "output_type": "display_data"
    }
   ],
   "source": [
    "ax=df.plot(kind='scatter',x='Ws',y='Pow',color='red')\n",
    "df_res1.plot(ax=ax, kind='scatter',x='Ws',y='Pow',color='blue')\n",
    "ax.set_xlabel(\"Ws(m/s)\")\n",
    "ax.set_ylabel(\"NPow(%)\")\n",
    "#ax.left_ax.set_ylabel('Variance of log wages')\n",
    "#plt.legend(loc='best')\n",
    "\n",
    "plt.show()"
   ]
  },
  {
   "cell_type": "code",
   "execution_count": null,
   "metadata": {},
   "outputs": [],
   "source": []
  },
  {
   "cell_type": "code",
   "execution_count": null,
   "metadata": {},
   "outputs": [],
   "source": [
    "#improving: find the definite sub block for each df, modify the mahalanobis function to calculate the distances \n",
    "#from the cluster centers"
   ]
  },
  {
   "cell_type": "code",
   "execution_count": null,
   "metadata": {},
   "outputs": [],
   "source": []
  },
  {
   "cell_type": "code",
   "execution_count": null,
   "metadata": {},
   "outputs": [],
   "source": []
  },
  {
   "cell_type": "code",
   "execution_count": null,
   "metadata": {},
   "outputs": [],
   "source": []
  },
  {
   "cell_type": "code",
   "execution_count": 68,
   "metadata": {},
   "outputs": [
    {
     "name": "stdout",
     "output_type": "stream",
     "text": [
      "<class 'numpy.ndarray'>\n",
      "data:\n",
      " [[  12    8   10]\n",
      " [   8   12    6]\n",
      " [   9   11    6]\n",
      " [   9   10    7]\n",
      " [   9   10   13]\n",
      " [   2   11    9]\n",
      " [  16    9   11]\n",
      " [   8   15   17]\n",
      " [  11    8    7]\n",
      " [  14   10    8]\n",
      " [   8   10   11]\n",
      " [  10   12   15]\n",
      " [  11    5   10]\n",
      " [ 977  974  969]\n",
      " [ 991 1016 1038]]\n",
      "\n",
      "(15, 3)\n",
      "covariance_matrix\n",
      "(3, 3)\n",
      "<class 'list'>\n",
      "diff\n",
      "[[-127.66666667 -133.4        -132.46666667]\n",
      " [-131.66666667 -129.4        -136.46666667]\n",
      " [-130.66666667 -130.4        -136.46666667]\n",
      " [-130.66666667 -131.4        -135.46666667]\n",
      " [-130.66666667 -131.4        -129.46666667]\n",
      " [-137.66666667 -130.4        -133.46666667]\n",
      " [-123.66666667 -132.4        -131.46666667]\n",
      " [-131.66666667 -126.4        -125.46666667]\n",
      " [-128.66666667 -133.4        -135.46666667]\n",
      " [-125.66666667 -131.4        -134.46666667]\n",
      " [-131.66666667 -131.4        -131.46666667]\n",
      " [-129.66666667 -129.4        -127.46666667]\n",
      " [-128.66666667 -136.4        -132.46666667]\n",
      " [ 837.33333333  832.6         826.53333333]\n",
      " [ 851.33333333  874.6         895.53333333]]\n"
     ]
    }
   ],
   "source": [
    "import numpy as np\n",
    "\n",
    "\n",
    "def create_data(examples=50, features=5, upper_bound=10, outliers_fraction=0.1, extreme=False):\n",
    "    '''\n",
    "    This method for testing (i.e. to generate a 2D array of data)\n",
    "    '''\n",
    "    data = []\n",
    "    magnitude = 4 if extreme else 3\n",
    "    for i in range(examples):\n",
    "        if (examples - i) <= round((float(examples) * outliers_fraction)):\n",
    "            data.append(np.random.poisson(upper_bound ** magnitude, features).tolist())\n",
    "        else:\n",
    "            data.append(np.random.poisson(upper_bound, features).tolist())\n",
    "    return np.array(data)\n",
    "\n",
    "\n",
    "def MahalanobisDist(data, verbose=False):\n",
    "    print(data.shape)\n",
    "    covariance_matrix = np.cov(data, rowvar=False)\n",
    "    print('covariance_matrix')\n",
    "    print(covariance_matrix.shape)\n",
    "    if is_pos_def(covariance_matrix):\n",
    "        inv_covariance_matrix = np.linalg.inv(covariance_matrix)\n",
    "        if is_pos_def(inv_covariance_matrix):\n",
    "            vars_mean = []\n",
    "            for i in range(data.shape[0]):\n",
    "                vars_mean.append(list(data.mean(axis=0)))\n",
    "            print(type(vars_mean))\n",
    "            diff = data - vars_mean\n",
    "            print('diff')\n",
    "            print(diff)\n",
    "            md = []\n",
    "            for i in range(len(diff)):\n",
    "                md.append(np.sqrt(diff[i].dot(inv_covariance_matrix).dot(diff[i])))\n",
    "\n",
    "            if verbose:\n",
    "                print(\"Covariance Matrix:\\n {}\\n\".format(covariance_matrix))\n",
    "                print(\"Inverse of Covariance Matrix:\\n {}\\n\".format(inv_covariance_matrix))\n",
    "                print(\"Variables Mean Vector:\\n {}\\n\".format(vars_mean))\n",
    "                print(\"Variables - Variables Mean Vector:\\n {}\\n\".format(diff))\n",
    "                print(\"Mahalanobis Distance:\\n {}\\n\".format(md))\n",
    "            return md\n",
    "        else:\n",
    "            print(\"Error: Inverse of Covariance Matrix is not positive definite!\")\n",
    "    else:\n",
    "        print(\"Error: Covariance Matrix is not positive definite!\")\n",
    "\n",
    "\n",
    "def MD_detectOutliers(data, extreme=False, verbose=False):\n",
    "    MD = MahalanobisDist(data, verbose)\n",
    "    # one popular way to specify the threshold\n",
    "    #m = np.mean(MD)\n",
    "    #t = 3. * m if extreme else 2. * m\n",
    "    #outliers = []\n",
    "    #for i in range(len(MD)):\n",
    "    #    if MD[i] > t:\n",
    "    #        outliers.append(i)  # index of the outlier\n",
    "    #return np.array(outliers)\n",
    "\n",
    "    # or according to the 68–95–99.7 rule\n",
    "    std = np.std(MD)\n",
    "    k = 3. * std if extreme else 2. * std\n",
    "    m = np.mean(MD)\n",
    "    up_t = m + k\n",
    "    low_t = m - k\n",
    "    outliers = []\n",
    "    for i in range(len(MD)):\n",
    "        if (MD[i] >= up_t) or (MD[i] <= low_t):\n",
    "            outliers.append(i)  # index of the outlier\n",
    "    return np.array(outliers)\n",
    "\n",
    "\n",
    "def is_pos_def(A):\n",
    "    if np.allclose(A, A.T):\n",
    "        try:\n",
    "            np.linalg.cholesky(A)\n",
    "            return True\n",
    "        except np.linalg.LinAlgError:\n",
    "            return False\n",
    "    else:\n",
    "        return False\n",
    "\n",
    "\n",
    "data = create_data(15, 3, 10, 0.1)\n",
    "print(type(data))\n",
    "\n",
    "print(\"data:\\n {}\\n\".format(data))\n",
    "\n",
    "x=MahalanobisDist(data, verbose=False)\n",
    "\n",
    "#outliers_indices = MD_detectOutliers(data, verbose=True)\n",
    "\n",
    "#print(\"Outliers Indices: {}\\n\".format(outliers_indices))\n",
    "#print(\"Outliers:\")\n",
    "#for ii in outliers_indices:\n",
    " #   print(data[ii])"
   ]
  },
  {
   "cell_type": "code",
   "execution_count": null,
   "metadata": {},
   "outputs": [],
   "source": []
  },
  {
   "cell_type": "code",
   "execution_count": null,
   "metadata": {},
   "outputs": [],
   "source": []
  },
  {
   "cell_type": "code",
   "execution_count": null,
   "metadata": {},
   "outputs": [],
   "source": []
  },
  {
   "cell_type": "code",
   "execution_count": null,
   "metadata": {},
   "outputs": [],
   "source": []
  },
  {
   "cell_type": "code",
   "execution_count": null,
   "metadata": {},
   "outputs": [],
   "source": []
  }
 ],
 "metadata": {
  "kernelspec": {
   "display_name": "Python 3",
   "language": "python",
   "name": "python3"
  },
  "language_info": {
   "codemirror_mode": {
    "name": "ipython",
    "version": 3
   },
   "file_extension": ".py",
   "mimetype": "text/x-python",
   "name": "python",
   "nbconvert_exporter": "python",
   "pygments_lexer": "ipython3",
   "version": "3.8.3"
  }
 },
 "nbformat": 4,
 "nbformat_minor": 4
}
